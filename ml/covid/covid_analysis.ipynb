{
 "cells": [
  {
   "cell_type": "markdown",
   "metadata": {},
   "source": [
    "# Exploratory Data Analysis of Latest COVID-19 OWID Data"
   ]
  },
  {
   "cell_type": "code",
   "execution_count": 1,
   "metadata": {},
   "outputs": [],
   "source": [
    "import pandas as pd\n",
    "import urllib.request as rq\n",
    "import json"
   ]
  },
  {
   "cell_type": "code",
   "execution_count": 2,
   "metadata": {},
   "outputs": [],
   "source": [
    "COVID_LATEST_DATA_URL = \"https://covid.ourworldindata.org/data/latest/owid-covid-latest.json\"\n",
    "COVID_WHOLE_DATA_URL = \"https://covid.ourworldindata.org/data/owid-covid-data.json\"\n",
    "\n",
    "\n",
    "def get_covid_df(url:str) -> pd.DataFrame:\n",
    "    \"\"\"Helper function for data extraction tasks\"\"\"\n",
    "    with rq.urlopen(url) as url:\n",
    "        covid_data = json.loads(url.read().decode())\n",
    "        covid_df = pd.DataFrame(covid_data)\n",
    "        return covid_df\n",
    "\n",
    "def filter_data(covid_df:pd.DataFrame, country:str) -> pd.DataFrame:\n",
    "    \"\"\"Filter for the given country\"\"\"\n",
    "    filtered_df = covid_df[country]\n",
    "    return filtered_df\n",
    "\n",
    "def extract_full_country_data(data:pd.DataFrame) -> pd.DataFrame:\n",
    "    \"\"\"Creates a dataframe from the data dictionary nested in the covid data\"\"\"\n",
    "    df = pd.DataFrame.from_dict(data.data)\n",
    "    return df"
   ]
  },
  {
   "cell_type": "code",
   "execution_count": 3,
   "metadata": {},
   "outputs": [],
   "source": [
    "covid_df = get_covid_df(COVID_LATEST_DATA_URL)\n",
    "filtered_df = filter_data(covid_df, \"USA\")\n",
    "# full_df = extract_full_country_data(filtered_df)"
   ]
  },
  {
   "cell_type": "code",
   "execution_count": 4,
   "metadata": {},
   "outputs": [],
   "source": [
    "import matplotlib.pyplot as plt\n",
    "import seaborn as sns\n",
    "import numpy as np\n",
    "sns.set()\n",
    "%matplotlib inline"
   ]
  },
  {
   "cell_type": "code",
   "execution_count": 5,
   "metadata": {},
   "outputs": [
    {
     "name": "stdout",
     "output_type": "stream",
     "text": [
      "<class 'pandas.core.frame.DataFrame'>\n",
      "Index: 235 entries, AFG to ZWE\n",
      "Data columns (total 66 columns):\n",
      " #   Column                                      Non-Null Count  Dtype  \n",
      "---  ------                                      --------------  -----  \n",
      " 0   continent                                   222 non-null    string \n",
      " 1   location                                    235 non-null    string \n",
      " 2   last_updated_date                           235 non-null    string \n",
      " 3   total_cases                                 229 non-null    Int64  \n",
      " 4   new_cases                                   229 non-null    Int64  \n",
      " 5   new_cases_smoothed                          229 non-null    Float64\n",
      " 6   total_deaths                                223 non-null    Int64  \n",
      " 7   new_deaths                                  223 non-null    Int64  \n",
      " 8   new_deaths_smoothed                         223 non-null    Float64\n",
      " 9   total_cases_per_million                     228 non-null    Float64\n",
      " 10  new_cases_per_million                       228 non-null    Float64\n",
      " 11  new_cases_smoothed_per_million              228 non-null    Float64\n",
      " 12  total_deaths_per_million                    222 non-null    Float64\n",
      " 13  new_deaths_per_million                      222 non-null    Float64\n",
      " 14  new_deaths_smoothed_per_million             222 non-null    Float64\n",
      " 15  reproduction_rate                           191 non-null    Float64\n",
      " 16  icu_patients                                34 non-null     Int64  \n",
      " 17  icu_patients_per_million                    34 non-null     Float64\n",
      " 18  hosp_patients                               32 non-null     Int64  \n",
      " 19  hosp_patients_per_million                   32 non-null     Float64\n",
      " 20  weekly_icu_admissions                       17 non-null     Int64  \n",
      " 21  weekly_icu_admissions_per_million           17 non-null     Float64\n",
      " 22  weekly_hosp_admissions                      28 non-null     Int64  \n",
      " 23  weekly_hosp_admissions_per_million          28 non-null     Float64\n",
      " 24  total_tests                                 118 non-null    Int64  \n",
      " 25  new_tests                                   65 non-null     Int64  \n",
      " 26  total_tests_per_thousand                    118 non-null    Float64\n",
      " 27  new_tests_per_thousand                      65 non-null     Float64\n",
      " 28  new_tests_smoothed                          119 non-null    Int64  \n",
      " 29  new_tests_smoothed_per_thousand             119 non-null    Float64\n",
      " 30  positive_rate                               113 non-null    Float64\n",
      " 31  tests_per_case                              109 non-null    Float64\n",
      " 32  tests_units                                 122 non-null    string \n",
      " 33  total_vaccinations                          161 non-null    Float64\n",
      " 34  people_vaccinated                           161 non-null    Float64\n",
      " 35  people_fully_vaccinated                     161 non-null    Float64\n",
      " 36  total_boosters                              144 non-null    Int64  \n",
      " 37  new_vaccinations                            80 non-null     Int64  \n",
      " 38  new_vaccinations_smoothed                   161 non-null    Int64  \n",
      " 39  total_vaccinations_per_hundred              161 non-null    Float64\n",
      " 40  people_vaccinated_per_hundred               161 non-null    Float64\n",
      " 41  people_fully_vaccinated_per_hundred         161 non-null    Float64\n",
      " 42  total_boosters_per_hundred                  144 non-null    Float64\n",
      " 43  new_vaccinations_smoothed_per_million       161 non-null    Int64  \n",
      " 44  new_people_vaccinated_smoothed              161 non-null    Int64  \n",
      " 45  new_people_vaccinated_smoothed_per_hundred  161 non-null    Float64\n",
      " 46  stringency_index                            123 non-null    Float64\n",
      " 47  population                                  234 non-null    Float64\n",
      " 48  population_density                          209 non-null    Float64\n",
      " 49  median_age                                  194 non-null    Float64\n",
      " 50  aged_65_older                               192 non-null    Float64\n",
      " 51  aged_70_older                               193 non-null    Float64\n",
      " 52  gdp_per_capita                              193 non-null    Float64\n",
      " 53  extreme_poverty                             125 non-null    Float64\n",
      " 54  cardiovasc_death_rate                       193 non-null    Float64\n",
      " 55  diabetes_prevalence                         203 non-null    Float64\n",
      " 56  female_smokers                              146 non-null    Float64\n",
      " 57  male_smokers                                144 non-null    Float64\n",
      " 58  handwashing_facilities                      95 non-null     Float64\n",
      " 59  hospital_beds_per_thousand                  171 non-null    Float64\n",
      " 60  life_expectancy                             220 non-null    Float64\n",
      " 61  human_development_index                     189 non-null    Float64\n",
      " 62  excess_mortality_cumulative_absolute        7 non-null      Float64\n",
      " 63  excess_mortality_cumulative                 7 non-null      Float64\n",
      " 64  excess_mortality                            7 non-null      Float64\n",
      " 65  excess_mortality_cumulative_per_million     7 non-null      Float64\n",
      "dtypes: Float64(46), Int64(16), string(4)\n",
      "memory usage: 145.3+ KB\n"
     ]
    }
   ],
   "source": [
    "countries_df = covid_df.T\n",
    "countries_df = countries_df.convert_dtypes()\n",
    "countries_df.info()"
   ]
  },
  {
   "cell_type": "code",
   "execution_count": 25,
   "metadata": {},
   "outputs": [
    {
     "data": {
      "text/plain": [
       "new_cases                  1.000000\n",
       "new_deaths                 0.963412\n",
       "new_cases_smoothed         0.943911\n",
       "new_deaths_smoothed        0.925382\n",
       "total_cases                0.907981\n",
       "total_deaths               0.865402\n",
       "total_boosters             0.819575\n",
       "weekly_icu_admissions      0.807323\n",
       "total_vaccinations         0.791586\n",
       "people_fully_vaccinated    0.782795\n",
       "Name: new_cases, dtype: float64"
      ]
     },
     "execution_count": 25,
     "metadata": {},
     "output_type": "execute_result"
    }
   ],
   "source": [
    "corr = countries_df.select_dtypes(include=np.number).corr()\n",
    "corr['new_cases'].sort_values(ascending=False).head(10)\n",
    "# sns.heatmap(test)"
   ]
  },
  {
   "cell_type": "code",
   "execution_count": 7,
   "metadata": {},
   "outputs": [
    {
     "data": {
      "text/plain": [
       "AFG            7709\n",
       "OWID_AFR     254437\n",
       "ALB            3497\n",
       "DZA            6875\n",
       "AND             153\n",
       "             ...   \n",
       "WLF               7\n",
       "OWID_WRL    6308976\n",
       "YEM            2149\n",
       "ZMB            3989\n",
       "ZWE            5518\n",
       "Name: total_deaths, Length: 235, dtype: Int64"
      ]
     },
     "execution_count": 7,
     "metadata": {},
     "output_type": "execute_result"
    }
   ],
   "source": [
    "countries_df['total_deaths']"
   ]
  }
 ],
 "metadata": {
  "interpreter": {
   "hash": "8aea640dc1c62d02625c3e511cd7dbed0382493e78ab0e1b7ef900951ab79e92"
  },
  "kernelspec": {
   "display_name": "Python 3.9.12 ('ml')",
   "language": "python",
   "name": "python3"
  },
  "language_info": {
   "codemirror_mode": {
    "name": "ipython",
    "version": 3
   },
   "file_extension": ".py",
   "mimetype": "text/x-python",
   "name": "python",
   "nbconvert_exporter": "python",
   "pygments_lexer": "ipython3",
   "version": "3.9.12"
  },
  "orig_nbformat": 4
 },
 "nbformat": 4,
 "nbformat_minor": 2
}
