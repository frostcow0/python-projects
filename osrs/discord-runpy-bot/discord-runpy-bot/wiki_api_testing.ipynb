{
 "cells": [
  {
   "cell_type": "code",
   "execution_count": 1,
   "id": "1c28113c",
   "metadata": {},
   "outputs": [],
   "source": [
    "import requests\n",
    "import polars as pl"
   ]
  },
  {
   "cell_type": "markdown",
   "id": "4c0e7d4b",
   "metadata": {},
   "source": [
    "https://oldschool.runescape.wiki/w/RuneScape:Real-time_Prices"
   ]
  },
  {
   "cell_type": "code",
   "execution_count": 48,
   "id": "ea7ea826",
   "metadata": {},
   "outputs": [],
   "source": [
    "# recent_data_url = \"https://prices.runescape.wiki/api/v1/osrs/5m\"\n",
    "recent_data_url = \"https://prices.runescape.wiki/api/v1/osrs/latest\"\n",
    "mapping_url = \"https://prices.runescape.wiki/api/v1/osrs/mapping\"\n",
    "\n",
    "headers = {\n",
    "    'User-Agent': 'potion-arbitrage-script: @frostcow on Discord',\n",
    "    'From': 'gametime785@gmail.com'  # This is another valid field\n",
    "}\n",
    "\n",
    "# (dose3_id, dose4_id)\n",
    "potions = [(3034, 3032), (2454, 2452), (121, 2428),\n",
    "         (22464, 22461), (22452, 22449), (9741, 9739), (6472, 6470),\n",
    "         (133, 2432), (24638, 24635), (24626, 24623), (23748, 23745),\n",
    "         (23736, 23733), (23700, 23697), (23688, 23685), (23724, 23721),\n",
    "         (23712, 23709)]"
   ]
  },
  {
   "cell_type": "code",
   "execution_count": 49,
   "id": "e1094bcd",
   "metadata": {},
   "outputs": [
    {
     "name": "stdout",
     "output_type": "stream",
     "text": [
      "Successfully pulled recent data.\n"
     ]
    }
   ],
   "source": [
    "recent_data_response = requests.get(recent_data_url, headers=headers)\n",
    "\n",
    "if recent_data_response.status_code == 200:\n",
    "    recent_data = recent_data_response.json()\n",
    "    print(\"Successfully pulled recent data.\")\n",
    "else:\n",
    "    print(f\"Could not pull recent data: {recent_data_response.status_code}\")"
   ]
  },
  {
   "cell_type": "code",
   "execution_count": 50,
   "id": "f87ea97d",
   "metadata": {},
   "outputs": [
    {
     "name": "stdout",
     "output_type": "stream",
     "text": [
      "Successfully pulled mapping data.\n"
     ]
    }
   ],
   "source": [
    "mapping_response = requests.get(mapping_url, headers=headers)\n",
    "\n",
    "if mapping_response.status_code == 200:\n",
    "    mapping = mapping_response.json()\n",
    "    print(\"Successfully pulled mapping data.\")\n",
    "else:\n",
    "    print(f\"Could not pull mapping data: {mapping_response.status_code}\")"
   ]
  },
  {
   "cell_type": "code",
   "execution_count": 51,
   "id": "24eb5429",
   "metadata": {},
   "outputs": [
    {
     "data": {
      "text/html": [
       "<div><style>\n",
       ".dataframe > thead > tr,\n",
       ".dataframe > tbody > tr {\n",
       "  text-align: right;\n",
       "  white-space: pre-wrap;\n",
       "}\n",
       "</style>\n",
       "<small>shape: (4_307, 2)</small><table border=\"1\" class=\"dataframe\"><thead><tr><th>id</th><th>name</th></tr><tr><td>i64</td><td>str</td></tr></thead><tbody><tr><td>10344</td><td>&quot;3rd age amulet&quot;</td></tr><tr><td>20011</td><td>&quot;3rd age axe&quot;</td></tr><tr><td>12424</td><td>&quot;3rd age bow&quot;</td></tr><tr><td>12437</td><td>&quot;3rd age cloak&quot;</td></tr><tr><td>23345</td><td>&quot;3rd age druidic cloak&quot;</td></tr><tr><td>&hellip;</td><td>&hellip;</td></tr><tr><td>30321</td><td>&quot;Zombie helmet&quot;</td></tr><tr><td>29449</td><td>&quot;Zombie pirate key&quot;</td></tr><tr><td>12938</td><td>&quot;Zul-andra teleport&quot;</td></tr><tr><td>12934</td><td>&quot;Zulrah&#x27;s scales&quot;</td></tr><tr><td>22647</td><td>&quot;Zuriel&#x27;s staff&quot;</td></tr></tbody></table></div>"
      ],
      "text/plain": [
       "shape: (4_307, 2)\n",
       "┌───────┬───────────────────────┐\n",
       "│ id    ┆ name                  │\n",
       "│ ---   ┆ ---                   │\n",
       "│ i64   ┆ str                   │\n",
       "╞═══════╪═══════════════════════╡\n",
       "│ 10344 ┆ 3rd age amulet        │\n",
       "│ 20011 ┆ 3rd age axe           │\n",
       "│ 12424 ┆ 3rd age bow           │\n",
       "│ 12437 ┆ 3rd age cloak         │\n",
       "│ 23345 ┆ 3rd age druidic cloak │\n",
       "│ …     ┆ …                     │\n",
       "│ 30321 ┆ Zombie helmet         │\n",
       "│ 29449 ┆ Zombie pirate key     │\n",
       "│ 12938 ┆ Zul-andra teleport    │\n",
       "│ 12934 ┆ Zulrah's scales       │\n",
       "│ 22647 ┆ Zuriel's staff        │\n",
       "└───────┴───────────────────────┘"
      ]
     },
     "execution_count": 51,
     "metadata": {},
     "output_type": "execute_result"
    }
   ],
   "source": [
    "pl.DataFrame(mapping).select([\"id\", \"name\"])"
   ]
  },
  {
   "cell_type": "code",
   "execution_count": 52,
   "id": "016539ff",
   "metadata": {},
   "outputs": [
    {
     "data": {
      "text/html": [
       "<div><style>\n",
       ".dataframe > thead > tr,\n",
       ".dataframe > tbody > tr {\n",
       "  text-align: right;\n",
       "  white-space: pre-wrap;\n",
       "}\n",
       "</style>\n",
       "<small>shape: (4_307, 6)</small><table border=\"1\" class=\"dataframe\"><thead><tr><th>high</th><th>highTime</th><th>low</th><th>lowTime</th><th>id</th><th>name</th></tr><tr><td>i64</td><td>i64</td><td>i64</td><td>i64</td><td>i64</td><td>str</td></tr></thead><tbody><tr><td>null</td><td>null</td><td>null</td><td>null</td><td>10344</td><td>&quot;3rd age amulet&quot;</td></tr><tr><td>null</td><td>null</td><td>null</td><td>null</td><td>20011</td><td>&quot;3rd age axe&quot;</td></tr><tr><td>null</td><td>null</td><td>null</td><td>null</td><td>12424</td><td>&quot;3rd age bow&quot;</td></tr><tr><td>112</td><td>1758146842</td><td>25</td><td>1758087472</td><td>12437</td><td>&quot;3rd age cloak&quot;</td></tr><tr><td>null</td><td>null</td><td>null</td><td>null</td><td>23345</td><td>&quot;3rd age druidic cloak&quot;</td></tr><tr><td>&hellip;</td><td>&hellip;</td><td>&hellip;</td><td>&hellip;</td><td>&hellip;</td><td>&hellip;</td></tr><tr><td>null</td><td>null</td><td>null</td><td>null</td><td>30321</td><td>&quot;Zombie helmet&quot;</td></tr><tr><td>null</td><td>null</td><td>null</td><td>null</td><td>29449</td><td>&quot;Zombie pirate key&quot;</td></tr><tr><td>null</td><td>null</td><td>null</td><td>null</td><td>12938</td><td>&quot;Zul-andra teleport&quot;</td></tr><tr><td>null</td><td>null</td><td>null</td><td>null</td><td>12934</td><td>&quot;Zulrah&#x27;s scales&quot;</td></tr><tr><td>null</td><td>null</td><td>null</td><td>null</td><td>22647</td><td>&quot;Zuriel&#x27;s staff&quot;</td></tr></tbody></table></div>"
      ],
      "text/plain": [
       "shape: (4_307, 6)\n",
       "┌──────┬────────────┬──────┬────────────┬───────┬───────────────────────┐\n",
       "│ high ┆ highTime   ┆ low  ┆ lowTime    ┆ id    ┆ name                  │\n",
       "│ ---  ┆ ---        ┆ ---  ┆ ---        ┆ ---   ┆ ---                   │\n",
       "│ i64  ┆ i64        ┆ i64  ┆ i64        ┆ i64   ┆ str                   │\n",
       "╞══════╪════════════╪══════╪════════════╪═══════╪═══════════════════════╡\n",
       "│ null ┆ null       ┆ null ┆ null       ┆ 10344 ┆ 3rd age amulet        │\n",
       "│ null ┆ null       ┆ null ┆ null       ┆ 20011 ┆ 3rd age axe           │\n",
       "│ null ┆ null       ┆ null ┆ null       ┆ 12424 ┆ 3rd age bow           │\n",
       "│ 112  ┆ 1758146842 ┆ 25   ┆ 1758087472 ┆ 12437 ┆ 3rd age cloak         │\n",
       "│ null ┆ null       ┆ null ┆ null       ┆ 23345 ┆ 3rd age druidic cloak │\n",
       "│ …    ┆ …          ┆ …    ┆ …          ┆ …     ┆ …                     │\n",
       "│ null ┆ null       ┆ null ┆ null       ┆ 30321 ┆ Zombie helmet         │\n",
       "│ null ┆ null       ┆ null ┆ null       ┆ 29449 ┆ Zombie pirate key     │\n",
       "│ null ┆ null       ┆ null ┆ null       ┆ 12938 ┆ Zul-andra teleport    │\n",
       "│ null ┆ null       ┆ null ┆ null       ┆ 12934 ┆ Zulrah's scales       │\n",
       "│ null ┆ null       ┆ null ┆ null       ┆ 22647 ┆ Zuriel's staff        │\n",
       "└──────┴────────────┴──────┴────────────┴───────┴───────────────────────┘"
      ]
     },
     "execution_count": 52,
     "metadata": {},
     "output_type": "execute_result"
    }
   ],
   "source": [
    "pl.DataFrame(recent_data[\"data\"]\n",
    "            ).transpose(include_header=True\n",
    "            ).unnest(\"column_0\"\n",
    "            ).rename({\"column\": \"id\"}\n",
    "            ).with_columns(pl.col(\"id\").str.to_integer(base=16, strict=True)).join(\n",
    "    pl.DataFrame(mapping).select([\"id\", \"name\"]), on=\"id\", how=\"right\")"
   ]
  },
  {
   "cell_type": "code",
   "execution_count": null,
   "id": "98ecb50b",
   "metadata": {},
   "outputs": [],
   "source": []
  },
  {
   "cell_type": "code",
   "execution_count": null,
   "id": "7acac818",
   "metadata": {},
   "outputs": [],
   "source": []
  },
  {
   "cell_type": "code",
   "execution_count": null,
   "id": "585c458d",
   "metadata": {},
   "outputs": [],
   "source": []
  }
 ],
 "metadata": {
  "kernelspec": {
   "display_name": "discord",
   "language": "python",
   "name": "python3"
  },
  "language_info": {
   "codemirror_mode": {
    "name": "ipython",
    "version": 3
   },
   "file_extension": ".py",
   "mimetype": "text/x-python",
   "name": "python",
   "nbconvert_exporter": "python",
   "pygments_lexer": "ipython3",
   "version": "3.11.13"
  }
 },
 "nbformat": 4,
 "nbformat_minor": 5
}
