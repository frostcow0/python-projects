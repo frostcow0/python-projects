{
 "cells": [
  {
   "cell_type": "code",
   "execution_count": 8,
   "metadata": {},
   "outputs": [
    {
     "data": {
      "text/html": [
       "<div>\n",
       "<style scoped>\n",
       "    .dataframe tbody tr th:only-of-type {\n",
       "        vertical-align: middle;\n",
       "    }\n",
       "\n",
       "    .dataframe tbody tr th {\n",
       "        vertical-align: top;\n",
       "    }\n",
       "\n",
       "    .dataframe thead th {\n",
       "        text-align: right;\n",
       "    }\n",
       "</style>\n",
       "<table border=\"1\" class=\"dataframe\">\n",
       "  <thead>\n",
       "    <tr style=\"text-align: right;\">\n",
       "      <th></th>\n",
       "      <th>location</th>\n",
       "      <th>population</th>\n",
       "      <th>population_density</th>\n",
       "      <th>median_age</th>\n",
       "    </tr>\n",
       "  </thead>\n",
       "  <tbody>\n",
       "    <tr>\n",
       "      <th>0</th>\n",
       "      <td>Afghanistan</td>\n",
       "      <td>4.112877e+07</td>\n",
       "      <td>54.422</td>\n",
       "      <td>18.6</td>\n",
       "    </tr>\n",
       "    <tr>\n",
       "      <th>1</th>\n",
       "      <td>Africa</td>\n",
       "      <td>1.426737e+09</td>\n",
       "      <td>NaN</td>\n",
       "      <td>NaN</td>\n",
       "    </tr>\n",
       "    <tr>\n",
       "      <th>2</th>\n",
       "      <td>Albania</td>\n",
       "      <td>2.842318e+06</td>\n",
       "      <td>104.871</td>\n",
       "      <td>38.0</td>\n",
       "    </tr>\n",
       "    <tr>\n",
       "      <th>3</th>\n",
       "      <td>Algeria</td>\n",
       "      <td>4.490323e+07</td>\n",
       "      <td>17.348</td>\n",
       "      <td>29.1</td>\n",
       "    </tr>\n",
       "    <tr>\n",
       "      <th>4</th>\n",
       "      <td>Andorra</td>\n",
       "      <td>7.984300e+04</td>\n",
       "      <td>163.755</td>\n",
       "      <td>NaN</td>\n",
       "    </tr>\n",
       "  </tbody>\n",
       "</table>\n",
       "</div>"
      ],
      "text/plain": [
       "      location    population  population_density  median_age\n",
       "0  Afghanistan  4.112877e+07              54.422        18.6\n",
       "1       Africa  1.426737e+09                 NaN         NaN\n",
       "2      Albania  2.842318e+06             104.871        38.0\n",
       "3      Algeria  4.490323e+07              17.348        29.1\n",
       "4      Andorra  7.984300e+04             163.755         NaN"
      ]
     },
     "execution_count": 8,
     "metadata": {},
     "output_type": "execute_result"
    }
   ],
   "source": [
    "from os import listdir\n",
    "import pandas as pd\n",
    "\n",
    "pd.read_csv('data/covid.csv').head()"
   ]
  },
  {
   "cell_type": "code",
   "execution_count": 9,
   "metadata": {},
   "outputs": [
    {
     "data": {
      "text/plain": [
       "['covid.csv']"
      ]
     },
     "execution_count": 9,
     "metadata": {},
     "output_type": "execute_result"
    }
   ],
   "source": [
    "listdir('data')"
   ]
  },
  {
   "cell_type": "code",
   "execution_count": 12,
   "metadata": {},
   "outputs": [
    {
     "data": {
      "text/plain": [
       "'csv'"
      ]
     },
     "execution_count": 12,
     "metadata": {},
     "output_type": "execute_result"
    }
   ],
   "source": [
    "listdir('data')[0].split('.')[-1]"
   ]
  },
  {
   "cell_type": "code",
   "execution_count": 13,
   "metadata": {},
   "outputs": [],
   "source": [
    "directory = 'data'\n",
    "item = 'covid.csv'\n",
    "data = []\n",
    "data.append(pd.read_csv(f\"{directory}/{item}\"))"
   ]
  },
  {
   "cell_type": "code",
   "execution_count": 14,
   "metadata": {},
   "outputs": [
    {
     "data": {
      "text/plain": [
       "[           location    population  population_density  median_age\n",
       " 0       Afghanistan  4.112877e+07              54.422        18.6\n",
       " 1            Africa  1.426737e+09                 NaN         NaN\n",
       " 2           Albania  2.842318e+06             104.871        38.0\n",
       " 3           Algeria  4.490323e+07              17.348        29.1\n",
       " 4           Andorra  7.984300e+04             163.755         NaN\n",
       " ..              ...           ...                 ...         ...\n",
       " 243  Western Sahara  5.760050e+05                 NaN        28.4\n",
       " 244           World  7.975105e+09              58.045        30.9\n",
       " 245           Yemen  3.369661e+07              53.508        20.3\n",
       " 246          Zambia  2.001767e+07              22.995        17.7\n",
       " 247        Zimbabwe  1.632054e+07              42.729        19.6\n",
       " \n",
       " [248 rows x 4 columns]]"
      ]
     },
     "execution_count": 14,
     "metadata": {},
     "output_type": "execute_result"
    }
   ],
   "source": [
    "data"
   ]
  }
 ],
 "metadata": {
  "kernelspec": {
   "display_name": "Python 3.9.13 ('prefect2')",
   "language": "python",
   "name": "python3"
  },
  "language_info": {
   "codemirror_mode": {
    "name": "ipython",
    "version": 3
   },
   "file_extension": ".py",
   "mimetype": "text/x-python",
   "name": "python",
   "nbconvert_exporter": "python",
   "pygments_lexer": "ipython3",
   "version": "3.9.13"
  },
  "orig_nbformat": 4,
  "vscode": {
   "interpreter": {
    "hash": "cc2747e19097b4646c577d68e93c2d616f016b5b6c32f2aef733d3476a92b50b"
   }
  }
 },
 "nbformat": 4,
 "nbformat_minor": 2
}
