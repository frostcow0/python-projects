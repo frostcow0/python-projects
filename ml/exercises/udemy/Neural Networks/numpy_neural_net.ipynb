{
 "cells": [
  {
   "cell_type": "markdown",
   "metadata": {},
   "source": [
    "# Making a simple neural network using NumPy and Matplotlib\n",
    "*Lots of explanation in the notebook \"Minimal_example_All_Exercises.ipynb\"*"
   ]
  },
  {
   "cell_type": "code",
   "execution_count": 24,
   "metadata": {},
   "outputs": [],
   "source": [
    "import numpy as np\n",
    "import matplotlib.pyplot as plt\n",
    "from mpl_toolkits.mplot3d import Axes3D # for 3D graphs apparently"
   ]
  },
  {
   "cell_type": "markdown",
   "metadata": {},
   "source": [
    "### Generating random data"
   ]
  },
  {
   "cell_type": "code",
   "execution_count": 25,
   "metadata": {},
   "outputs": [
    {
     "data": {
      "text/plain": [
       "(100000, 2)"
      ]
     },
     "execution_count": 25,
     "metadata": {},
     "output_type": "execute_result"
    }
   ],
   "source": [
    "n_observations = 100000\n",
    "\n",
    "xs = np.random.uniform(low=-10, high=10, size=(n_observations, 1))\n",
    "zs = np.random.uniform(-10, 10, (n_observations, 1))\n",
    "\n",
    "inputs = np.column_stack((xs, zs)) # combines these as a two column matrix\n",
    "\n",
    "inputs.shape"
   ]
  },
  {
   "cell_type": "code",
   "execution_count": 26,
   "metadata": {},
   "outputs": [
    {
     "data": {
      "text/plain": [
       "(100000, 1)"
      ]
     },
     "execution_count": 26,
     "metadata": {},
     "output_type": "execute_result"
    }
   ],
   "source": [
    "# for some variation :)\n",
    "noise = np.random.uniform(-1, 1, (n_observations, 1))\n",
    "\n",
    "# creating an arbitrary function for target creation so we know that\n",
    "# there's an underlying relationship\n",
    "targets = 2*xs - 3*zs + 5 + noise\n",
    "\n",
    "targets.shape"
   ]
  },
  {
   "cell_type": "markdown",
   "metadata": {},
   "source": [
    "### Plotting the data\n",
    "Just cause"
   ]
  },
  {
   "cell_type": "code",
   "execution_count": 27,
   "metadata": {},
   "outputs": [],
   "source": [
    "# # In order to use the 3D plot, the objects have to have a certain shape\n",
    "# # The proper method is reshape and takes the dimensions as arguments\n",
    "# targets = targets.reshape(n_observations,)\n",
    "\n",
    "# fig = plt.figure()\n",
    "# ax = fig.add_subplot(111, projection='3d')\n",
    "\n",
    "# # Choose the axes\n",
    "# ax.plot(xs, zs, targets)\n",
    "\n",
    "# # Setting labels\n",
    "# ax.set_xlabel('xs')\n",
    "# ax.set_ylabel('zs')\n",
    "# ax.set_zlabel('targets')\n",
    "\n",
    "# # You can mess with the azim parameter to plot from different angles\n",
    "# ax.view_init(azim=100)\n",
    "\n",
    "# plt.show()\n",
    "\n",
    "# targets = targets.reshape(n_observations, 1)"
   ]
  },
  {
   "cell_type": "markdown",
   "metadata": {},
   "source": [
    "### Initialize variables"
   ]
  },
  {
   "cell_type": "code",
   "execution_count": 28,
   "metadata": {},
   "outputs": [
    {
     "name": "stdout",
     "output_type": "stream",
     "text": [
      "[[ 0.08046967]\n",
      " [-0.02188241]] [-0.04083264]\n"
     ]
    }
   ],
   "source": [
    "init_range = 0.1\n",
    "\n",
    "weights = np.random.uniform(-init_range, init_range, size=(2,1))\n",
    "biases = np.random.uniform(-init_range, init_range, size=1)\n",
    "\n",
    "print(weights, biases)"
   ]
  },
  {
   "cell_type": "markdown",
   "metadata": {},
   "source": [
    "### Set a learning rate"
   ]
  },
  {
   "cell_type": "code",
   "execution_count": 29,
   "metadata": {},
   "outputs": [],
   "source": [
    "learning_rate = 0.02"
   ]
  },
  {
   "cell_type": "markdown",
   "metadata": {},
   "source": [
    "### Training the model"
   ]
  },
  {
   "cell_type": "code",
   "execution_count": 30,
   "metadata": {},
   "outputs": [
    {
     "name": "stdout",
     "output_type": "stream",
     "text": [
      "221.22864158425617\n",
      "35.89628927133817\n",
      "14.550696497764879\n",
      "11.731396296942957\n",
      "11.019479269320557\n",
      "10.561029490720411\n",
      "10.146163731968034\n",
      "9.75059723222716\n",
      "9.37101919975716\n",
      "9.006509018767499\n",
      "8.65643755005423\n",
      "8.320229357670062\n",
      "7.997335043038894\n",
      "7.6872273306674135\n",
      "7.389399866567972\n",
      "7.103366353018942\n",
      "6.8286597501886215\n",
      "6.564831513055437\n",
      "6.311450858961651\n",
      "6.068104064218796\n",
      "5.834393788572793\n",
      "5.609938426420806\n",
      "5.394371483719972\n",
      "5.1873409795704655\n",
      "4.988508871495888\n",
      "4.797550503482495\n",
      "4.614154075876038\n",
      "4.438020136270665\n",
      "4.268861090558609\n",
      "4.106400733342249\n",
      "3.950373796941852\n",
      "3.8005255182625652\n",
      "3.6566112228134564\n",
      "3.518395925199394\n",
      "3.385653945433394\n",
      "3.2581685404429903\n",
      "3.135731550168951\n",
      "3.0181430576784276\n",
      "2.9052110627376284\n",
      "2.796751168311006\n",
      "2.69258627947502\n",
      "2.592546314254936\n",
      "2.4964679259124534\n",
      "2.404194236230721\n",
      "2.315574579361275\n",
      "2.230464255814589\n",
      "2.148724296192619\n",
      "2.0702212342775006\n",
      "1.9948268891059306\n",
      "1.922418155673394\n",
      "1.8528768039264807\n",
      "1.786089285715109\n",
      "1.7219465493894224\n",
      "1.66034386173863\n",
      "1.601180636981077\n",
      "1.5443602725262855\n",
      "1.4897899912408117\n",
      "1.437380689960369\n",
      "1.3870467940008608\n",
      "1.3387061174307635\n",
      "1.2922797288767234\n",
      "1.2476918226432399\n",
      "1.2048695949359975\n",
      "1.1637431249867582\n",
      "1.1242452608856897\n",
      "1.0863115099347322\n",
      "1.0498799333429656\n",
      "1.0148910450920325\n",
      "0.9812877148064872\n",
      "0.9490150744704707\n",
      "0.9180204288384013\n",
      "0.8882531693933939\n",
      "0.859664691712928\n",
      "0.8322083161068251\n",
      "0.8058392113979519\n",
      "0.7805143217212205\n",
      "0.7561922962213248\n",
      "0.7328334215344544\n",
      "0.7103995569437256\n",
      "0.6888540721024536\n",
      "0.6681617872235779\n",
      "0.6482889156375832\n",
      "0.629203008625131\n",
      "0.6108729024343036\n",
      "0.5932686673959675\n",
      "0.5763615590541694\n",
      "0.5601239712317612\n",
      "0.5445293909546252\n",
      "0.5295523551608955\n",
      "0.5151684091244928\n",
      "0.5013540665250882\n",
      "0.48808677109928583\n",
      "0.4753448598104292\n",
      "0.46310752747686607\n",
      "0.4513547928009432\n",
      "0.4400674657432494\n",
      "0.42922711618882925\n",
      "0.41881604385422133\n",
      "0.4088172493861753\n",
      "0.3992144066048515\n"
     ]
    }
   ],
   "source": [
    "for i in range(100):\n",
    "    outputs = np.dot(inputs, weights) + biases # y = wx + b\n",
    "\n",
    "    deltas = outputs - targets # error\n",
    "\n",
    "    l2_norm_loss = np.sum(deltas**2)/2/n_observations\n",
    "    mean_loss = l2_norm_loss/n_observations\n",
    "\n",
    "    print(l2_norm_loss)\n",
    "\n",
    "    deltas_scaled = deltas/n_observations\n",
    "\n",
    "    # np.array.T performs a Transpose, making a 1000x2 into a 2x1000\n",
    "    weights = weights - learning_rate * np.dot(inputs.T, deltas_scaled)\n",
    "    biases = biases - learning_rate * np.sum(deltas_scaled)"
   ]
  },
  {
   "cell_type": "code",
   "execution_count": null,
   "metadata": {},
   "outputs": [],
   "source": []
  }
 ],
 "metadata": {
  "interpreter": {
   "hash": "6217cce09c653e0f3cb338cd1623b1e823b9cdf9f86920e6297df374cdfda67d"
  },
  "kernelspec": {
   "display_name": "Python 3.9.7 ('base')",
   "language": "python",
   "name": "python3"
  },
  "language_info": {
   "codemirror_mode": {
    "name": "ipython",
    "version": 3
   },
   "file_extension": ".py",
   "mimetype": "text/x-python",
   "name": "python",
   "nbconvert_exporter": "python",
   "pygments_lexer": "ipython3",
   "version": "3.9.7"
  },
  "orig_nbformat": 4
 },
 "nbformat": 4,
 "nbformat_minor": 2
}
