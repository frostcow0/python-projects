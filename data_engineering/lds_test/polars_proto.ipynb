{
 "cells": [
  {
   "cell_type": "code",
   "execution_count": 1,
   "metadata": {},
   "outputs": [],
   "source": [
    "import polars as pl\n",
    "import pandas as pd\n",
    "import sqlalchemy\n",
    "from typing import Dict, List"
   ]
  },
  {
   "cell_type": "code",
   "execution_count": 2,
   "metadata": {},
   "outputs": [],
   "source": [
    "data = pl.read_csv('lds_test_data.csv')"
   ]
  },
  {
   "cell_type": "code",
   "execution_count": 3,
   "metadata": {},
   "outputs": [],
   "source": [
    "min_firmID = 0\n",
    "\n",
    "firm_cols = [\"Company Name\", \"Employee Name\"]\n",
    "firm_df = data.select(firm_cols)\n",
    "firm_df.with_columns(\n",
    "\n",
    ")"
   ]
  },
  {
   "cell_type": "code",
   "execution_count": 4,
   "metadata": {},
   "outputs": [
    {
     "data": {
      "text/html": [
       "<div><style>\n",
       ".dataframe > thead > tr > th,\n",
       ".dataframe > tbody > tr > td {\n",
       "  text-align: right;\n",
       "}\n",
       "</style>\n",
       "<small>shape: (4, 2)</small><table border=\"1\" class=\"dataframe\"><thead><tr><th>Company Name</th><th>Employee Name</th></tr><tr><td>str</td><td>str</td></tr></thead><tbody><tr><td>&quot;McDonalds&quot;</td><td>&quot;Joe&quot;</td></tr><tr><td>&quot;Wendys&quot;</td><td>&quot;Darla&quot;</td></tr><tr><td>&quot;Ad Astra&quot;</td><td>&quot;Kevin&quot;</td></tr><tr><td>&quot;Starbucks&quot;</td><td>&quot;Peggy&quot;</td></tr></tbody></table></div>"
      ],
      "text/plain": [
       "shape: (4, 2)\n",
       "┌──────────────┬───────────────┐\n",
       "│ Company Name ┆ Employee Name │\n",
       "│ ---          ┆ ---           │\n",
       "│ str          ┆ str           │\n",
       "╞══════════════╪═══════════════╡\n",
       "│ McDonalds    ┆ Joe           │\n",
       "│ Wendys       ┆ Darla         │\n",
       "│ Ad Astra     ┆ Kevin         │\n",
       "│ Starbucks    ┆ Peggy         │\n",
       "└──────────────┴───────────────┘"
      ]
     },
     "execution_count": 4,
     "metadata": {},
     "output_type": "execute_result"
    }
   ],
   "source": [
    "firm_df"
   ]
  },
  {
   "cell_type": "code",
   "execution_count": 5,
   "metadata": {},
   "outputs": [
    {
     "data": {
      "text/html": [
       "<div><style>\n",
       ".dataframe > thead > tr > th,\n",
       ".dataframe > tbody > tr > td {\n",
       "  text-align: right;\n",
       "}\n",
       "</style>\n",
       "<small>shape: (3, 3)</small><table border=\"1\" class=\"dataframe\"><thead><tr><th>surveyNum</th><th>responseType</th><th>questionText</th></tr><tr><td>i64</td><td>str</td><td>str</td></tr></thead><tbody><tr><td>0</td><td>&quot;&quot;</td><td>&quot;Number of Lawy…</td></tr><tr><td>1</td><td>&quot;&quot;</td><td>&quot;Total Revenue&quot;</td></tr><tr><td>2</td><td>&quot;&quot;</td><td>&quot;HQ&quot;</td></tr></tbody></table></div>"
      ],
      "text/plain": [
       "shape: (3, 3)\n",
       "┌───────────┬──────────────┬───────────────────┐\n",
       "│ surveyNum ┆ responseType ┆ questionText      │\n",
       "│ ---       ┆ ---          ┆ ---               │\n",
       "│ i64       ┆ str          ┆ str               │\n",
       "╞═══════════╪══════════════╪═══════════════════╡\n",
       "│ 0         ┆              ┆ Number of Lawyers │\n",
       "│ 1         ┆              ┆ Total Revenue     │\n",
       "│ 2         ┆              ┆ HQ                │\n",
       "└───────────┴──────────────┴───────────────────┘"
      ]
     },
     "execution_count": 5,
     "metadata": {},
     "output_type": "execute_result"
    }
   ],
   "source": [
    "min_surveyNum = 0\n",
    "\n",
    "questions = [col for col in data.columns if col not in firm_cols]\n",
    "question_data = {\n",
    "    \"surveyNum\": [x for x in range(min_surveyNum, min_surveyNum+len(questions))],\n",
    "    \"responseType\": [\"\"]*len(questions),\n",
    "    \"questionText\": questions\n",
    "}\n",
    "\n",
    "question_df = pl.DataFrame(data=question_data)\n",
    "question_df.head()"
   ]
  },
  {
   "cell_type": "code",
   "execution_count": 6,
   "metadata": {},
   "outputs": [],
   "source": [
    "min_responseID = 0\n",
    "\n",
    "response_data:Dict[str, List] = {\n",
    "    \"responseID\": [x for x in range(min_responseID, question_df.shape[0]*data.shape[0])],\n",
    "    \"firmID\": [],\n",
    "    \"surveyNum\": [],\n",
    "    \"valueDecimal\": [],\n",
    "    \"valueInt\": [],\n",
    "    \"valueString\": []\n",
    "}\n",
    "for question in question_df[\"questionText\"]:\n",
    "    if data[question].is_utf8():\n",
    "        for response in data[question]:\n",
    "            response_data[\"surveyNum\"].append(question_df.filter(question_df[\"questionText\"]==question).select(\"surveyNum\").item())\n",
    "            \n",
    "            response_data[\"valueString\"].append(response)\n",
    "            response_data[\"valueInt\"].append(0)\n",
    "            response_data[\"valueDecimal\"].append(0.0)\n",
    "\n",
    "    if data[question].is_numeric():\n",
    "        for response in data[question]:\n",
    "            response_data[\"surveyNum\"].append(question_df.filter(question_df[\"questionText\"]==question).select(\"surveyNum\").item())\n",
    "            response_data[\"valueString\"].append(\"\")\n",
    "            response_data[\"valueInt\"].append(response)\n",
    "            response_data[\"valueDecimal\"].append(0.0)\n",
    "\n",
    "    if data[question].is_float():\n",
    "        for response in data[question]:\n",
    "            response_data[\"surveyNum\"].append(question_df.filter(question_df[\"questionText\"]==question).select(\"surveyNum\").item())\n",
    "            response_data[\"valueString\"].append(\"\")\n",
    "            response_data[\"valueInt\"].append(0)\n",
    "            response_data[\"valueDecimal\"].append(response)"
   ]
  },
  {
   "cell_type": "code",
   "execution_count": 7,
   "metadata": {},
   "outputs": [],
   "source": [
    "response_df = pl.DataFrame(response_data)"
   ]
  },
  {
   "cell_type": "code",
   "execution_count": 8,
   "metadata": {},
   "outputs": [
    {
     "data": {
      "text/html": [
       "<div><style>\n",
       ".dataframe > thead > tr > th,\n",
       ".dataframe > tbody > tr > td {\n",
       "  text-align: right;\n",
       "}\n",
       "</style>\n",
       "<small>shape: (12, 5)</small><table border=\"1\" class=\"dataframe\"><thead><tr><th>responseID</th><th>surveyNum</th><th>valueDecimal</th><th>valueInt</th><th>valueString</th></tr><tr><td>i64</td><td>i64</td><td>f64</td><td>i64</td><td>str</td></tr></thead><tbody><tr><td>0</td><td>0</td><td>0.0</td><td>12</td><td>&quot;&quot;</td></tr><tr><td>1</td><td>0</td><td>0.0</td><td>14</td><td>&quot;&quot;</td></tr><tr><td>2</td><td>0</td><td>0.0</td><td>20</td><td>&quot;&quot;</td></tr><tr><td>3</td><td>0</td><td>0.0</td><td>2</td><td>&quot;&quot;</td></tr><tr><td>4</td><td>1</td><td>0.0</td><td>200000</td><td>&quot;&quot;</td></tr><tr><td>5</td><td>1</td><td>0.0</td><td>100000</td><td>&quot;&quot;</td></tr><tr><td>6</td><td>1</td><td>0.0</td><td>50000</td><td>&quot;&quot;</td></tr><tr><td>7</td><td>1</td><td>0.0</td><td>10000</td><td>&quot;&quot;</td></tr><tr><td>8</td><td>2</td><td>0.0</td><td>0</td><td>&quot;US&quot;</td></tr><tr><td>9</td><td>2</td><td>0.0</td><td>0</td><td>&quot;Africa&quot;</td></tr><tr><td>10</td><td>2</td><td>0.0</td><td>0</td><td>&quot;US&quot;</td></tr><tr><td>11</td><td>2</td><td>0.0</td><td>0</td><td>&quot;UK&quot;</td></tr></tbody></table></div>"
      ],
      "text/plain": [
       "shape: (12, 5)\n",
       "┌────────────┬───────────┬──────────────┬──────────┬─────────────┐\n",
       "│ responseID ┆ surveyNum ┆ valueDecimal ┆ valueInt ┆ valueString │\n",
       "│ ---        ┆ ---       ┆ ---          ┆ ---      ┆ ---         │\n",
       "│ i64        ┆ i64       ┆ f64          ┆ i64      ┆ str         │\n",
       "╞════════════╪═══════════╪══════════════╪══════════╪═════════════╡\n",
       "│ 0          ┆ 0         ┆ 0.0          ┆ 12       ┆             │\n",
       "│ 1          ┆ 0         ┆ 0.0          ┆ 14       ┆             │\n",
       "│ 2          ┆ 0         ┆ 0.0          ┆ 20       ┆             │\n",
       "│ 3          ┆ 0         ┆ 0.0          ┆ 2        ┆             │\n",
       "│ …          ┆ …         ┆ …            ┆ …        ┆ …           │\n",
       "│ 8          ┆ 2         ┆ 0.0          ┆ 0        ┆ US          │\n",
       "│ 9          ┆ 2         ┆ 0.0          ┆ 0        ┆ Africa      │\n",
       "│ 10         ┆ 2         ┆ 0.0          ┆ 0        ┆ US          │\n",
       "│ 11         ┆ 2         ┆ 0.0          ┆ 0        ┆ UK          │\n",
       "└────────────┴───────────┴──────────────┴──────────┴─────────────┘"
      ]
     },
     "execution_count": 8,
     "metadata": {},
     "output_type": "execute_result"
    }
   ],
   "source": [
    "response_df"
   ]
  },
  {
   "cell_type": "code",
   "execution_count": 9,
   "metadata": {},
   "outputs": [
    {
     "data": {
      "text/html": [
       "<div><style>\n",
       ".dataframe > thead > tr > th,\n",
       ".dataframe > tbody > tr > td {\n",
       "  text-align: right;\n",
       "}\n",
       "</style>\n",
       "<small>shape: (3, 3)</small><table border=\"1\" class=\"dataframe\"><thead><tr><th>surveyNum</th><th>responseType</th><th>questionText</th></tr><tr><td>i64</td><td>str</td><td>str</td></tr></thead><tbody><tr><td>0</td><td>&quot;&quot;</td><td>&quot;Number of Lawy…</td></tr><tr><td>1</td><td>&quot;&quot;</td><td>&quot;Total Revenue&quot;</td></tr><tr><td>2</td><td>&quot;&quot;</td><td>&quot;HQ&quot;</td></tr></tbody></table></div>"
      ],
      "text/plain": [
       "shape: (3, 3)\n",
       "┌───────────┬──────────────┬───────────────────┐\n",
       "│ surveyNum ┆ responseType ┆ questionText      │\n",
       "│ ---       ┆ ---          ┆ ---               │\n",
       "│ i64       ┆ str          ┆ str               │\n",
       "╞═══════════╪══════════════╪═══════════════════╡\n",
       "│ 0         ┆              ┆ Number of Lawyers │\n",
       "│ 1         ┆              ┆ Total Revenue     │\n",
       "│ 2         ┆              ┆ HQ                │\n",
       "└───────────┴──────────────┴───────────────────┘"
      ]
     },
     "execution_count": 9,
     "metadata": {},
     "output_type": "execute_result"
    }
   ],
   "source": [
    "question_df"
   ]
  },
  {
   "cell_type": "code",
   "execution_count": 26,
   "metadata": {},
   "outputs": [
    {
     "ename": "ValueError",
     "evalue": "Table 'questionIndex' already exists.",
     "output_type": "error",
     "traceback": [
      "\u001b[1;31m---------------------------------------------------------------------------\u001b[0m",
      "\u001b[1;31mValueError\u001b[0m                                Traceback (most recent call last)",
      "Cell \u001b[1;32mIn[26], line 2\u001b[0m\n\u001b[0;32m      1\u001b[0m con \u001b[39m=\u001b[39m sqlalchemy\u001b[39m.\u001b[39mcreate_engine(\u001b[39m\"\u001b[39m\u001b[39msqlite:///lds_temp.db\u001b[39m\u001b[39m\"\u001b[39m)\n\u001b[1;32m----> 2\u001b[0m question_df\u001b[39m.\u001b[39mto_pandas()\u001b[39m.\u001b[39mto_sql(\u001b[39m\"\u001b[39m\u001b[39mquestionIndex\u001b[39m\u001b[39m\"\u001b[39m, con\u001b[39m=\u001b[39mcon)\n",
      "File \u001b[1;32mc:\\Users\\gamet\\anaconda3\\envs\\lds\\Lib\\site-packages\\pandas\\core\\generic.py:2878\u001b[0m, in \u001b[0;36mNDFrame.to_sql\u001b[1;34m(self, name, con, schema, if_exists, index, index_label, chunksize, dtype, method)\u001b[0m\n\u001b[0;32m   2713\u001b[0m \u001b[39m\"\"\"\u001b[39;00m\n\u001b[0;32m   2714\u001b[0m \u001b[39mWrite records stored in a DataFrame to a SQL database.\u001b[39;00m\n\u001b[0;32m   2715\u001b[0m \n\u001b[1;32m   (...)\u001b[0m\n\u001b[0;32m   2874\u001b[0m \u001b[39m[(1,), (None,), (2,)]\u001b[39;00m\n\u001b[0;32m   2875\u001b[0m \u001b[39m\"\"\"\u001b[39;00m  \u001b[39m# noqa:E501\u001b[39;00m\n\u001b[0;32m   2876\u001b[0m \u001b[39mfrom\u001b[39;00m \u001b[39mpandas\u001b[39;00m\u001b[39m.\u001b[39;00m\u001b[39mio\u001b[39;00m \u001b[39mimport\u001b[39;00m sql\n\u001b[1;32m-> 2878\u001b[0m \u001b[39mreturn\u001b[39;00m sql\u001b[39m.\u001b[39mto_sql(\n\u001b[0;32m   2879\u001b[0m     \u001b[39mself\u001b[39m,\n\u001b[0;32m   2880\u001b[0m     name,\n\u001b[0;32m   2881\u001b[0m     con,\n\u001b[0;32m   2882\u001b[0m     schema\u001b[39m=\u001b[39mschema,\n\u001b[0;32m   2883\u001b[0m     if_exists\u001b[39m=\u001b[39mif_exists,\n\u001b[0;32m   2884\u001b[0m     index\u001b[39m=\u001b[39mindex,\n\u001b[0;32m   2885\u001b[0m     index_label\u001b[39m=\u001b[39mindex_label,\n\u001b[0;32m   2886\u001b[0m     chunksize\u001b[39m=\u001b[39mchunksize,\n\u001b[0;32m   2887\u001b[0m     dtype\u001b[39m=\u001b[39mdtype,\n\u001b[0;32m   2888\u001b[0m     method\u001b[39m=\u001b[39mmethod,\n\u001b[0;32m   2889\u001b[0m )\n",
      "File \u001b[1;32mc:\\Users\\gamet\\anaconda3\\envs\\lds\\Lib\\site-packages\\pandas\\io\\sql.py:767\u001b[0m, in \u001b[0;36mto_sql\u001b[1;34m(frame, name, con, schema, if_exists, index, index_label, chunksize, dtype, method, engine, **engine_kwargs)\u001b[0m\n\u001b[0;32m    762\u001b[0m     \u001b[39mraise\u001b[39;00m \u001b[39mNotImplementedError\u001b[39;00m(\n\u001b[0;32m    763\u001b[0m         \u001b[39m\"\u001b[39m\u001b[39m'\u001b[39m\u001b[39mframe\u001b[39m\u001b[39m'\u001b[39m\u001b[39m argument should be either a Series or a DataFrame\u001b[39m\u001b[39m\"\u001b[39m\n\u001b[0;32m    764\u001b[0m     )\n\u001b[0;32m    766\u001b[0m \u001b[39mwith\u001b[39;00m pandasSQL_builder(con, schema\u001b[39m=\u001b[39mschema, need_transaction\u001b[39m=\u001b[39m\u001b[39mTrue\u001b[39;00m) \u001b[39mas\u001b[39;00m pandas_sql:\n\u001b[1;32m--> 767\u001b[0m     \u001b[39mreturn\u001b[39;00m pandas_sql\u001b[39m.\u001b[39mto_sql(\n\u001b[0;32m    768\u001b[0m         frame,\n\u001b[0;32m    769\u001b[0m         name,\n\u001b[0;32m    770\u001b[0m         if_exists\u001b[39m=\u001b[39mif_exists,\n\u001b[0;32m    771\u001b[0m         index\u001b[39m=\u001b[39mindex,\n\u001b[0;32m    772\u001b[0m         index_label\u001b[39m=\u001b[39mindex_label,\n\u001b[0;32m    773\u001b[0m         schema\u001b[39m=\u001b[39mschema,\n\u001b[0;32m    774\u001b[0m         chunksize\u001b[39m=\u001b[39mchunksize,\n\u001b[0;32m    775\u001b[0m         dtype\u001b[39m=\u001b[39mdtype,\n\u001b[0;32m    776\u001b[0m         method\u001b[39m=\u001b[39mmethod,\n\u001b[0;32m    777\u001b[0m         engine\u001b[39m=\u001b[39mengine,\n\u001b[0;32m    778\u001b[0m         \u001b[39m*\u001b[39m\u001b[39m*\u001b[39mengine_kwargs,\n\u001b[0;32m    779\u001b[0m     )\n",
      "File \u001b[1;32mc:\\Users\\gamet\\anaconda3\\envs\\lds\\Lib\\site-packages\\pandas\\io\\sql.py:1908\u001b[0m, in \u001b[0;36mSQLDatabase.to_sql\u001b[1;34m(self, frame, name, if_exists, index, index_label, schema, chunksize, dtype, method, engine, **engine_kwargs)\u001b[0m\n\u001b[0;32m   1858\u001b[0m \u001b[39m\"\"\"\u001b[39;00m\n\u001b[0;32m   1859\u001b[0m \u001b[39mWrite records stored in a DataFrame to a SQL database.\u001b[39;00m\n\u001b[0;32m   1860\u001b[0m \n\u001b[1;32m   (...)\u001b[0m\n\u001b[0;32m   1904\u001b[0m \u001b[39m    Any additional kwargs are passed to the engine.\u001b[39;00m\n\u001b[0;32m   1905\u001b[0m \u001b[39m\"\"\"\u001b[39;00m\n\u001b[0;32m   1906\u001b[0m sql_engine \u001b[39m=\u001b[39m get_engine(engine)\n\u001b[1;32m-> 1908\u001b[0m table \u001b[39m=\u001b[39m \u001b[39mself\u001b[39m\u001b[39m.\u001b[39mprep_table(\n\u001b[0;32m   1909\u001b[0m     frame\u001b[39m=\u001b[39mframe,\n\u001b[0;32m   1910\u001b[0m     name\u001b[39m=\u001b[39mname,\n\u001b[0;32m   1911\u001b[0m     if_exists\u001b[39m=\u001b[39mif_exists,\n\u001b[0;32m   1912\u001b[0m     index\u001b[39m=\u001b[39mindex,\n\u001b[0;32m   1913\u001b[0m     index_label\u001b[39m=\u001b[39mindex_label,\n\u001b[0;32m   1914\u001b[0m     schema\u001b[39m=\u001b[39mschema,\n\u001b[0;32m   1915\u001b[0m     dtype\u001b[39m=\u001b[39mdtype,\n\u001b[0;32m   1916\u001b[0m )\n\u001b[0;32m   1918\u001b[0m total_inserted \u001b[39m=\u001b[39m sql_engine\u001b[39m.\u001b[39minsert_records(\n\u001b[0;32m   1919\u001b[0m     table\u001b[39m=\u001b[39mtable,\n\u001b[0;32m   1920\u001b[0m     con\u001b[39m=\u001b[39m\u001b[39mself\u001b[39m\u001b[39m.\u001b[39mcon,\n\u001b[1;32m   (...)\u001b[0m\n\u001b[0;32m   1927\u001b[0m     \u001b[39m*\u001b[39m\u001b[39m*\u001b[39mengine_kwargs,\n\u001b[0;32m   1928\u001b[0m )\n\u001b[0;32m   1930\u001b[0m \u001b[39mself\u001b[39m\u001b[39m.\u001b[39mcheck_case_sensitive(name\u001b[39m=\u001b[39mname, schema\u001b[39m=\u001b[39mschema)\n",
      "File \u001b[1;32mc:\\Users\\gamet\\anaconda3\\envs\\lds\\Lib\\site-packages\\pandas\\io\\sql.py:1812\u001b[0m, in \u001b[0;36mSQLDatabase.prep_table\u001b[1;34m(self, frame, name, if_exists, index, index_label, schema, dtype)\u001b[0m\n\u001b[0;32m   1800\u001b[0m             \u001b[39mraise\u001b[39;00m \u001b[39mValueError\u001b[39;00m(\u001b[39mf\u001b[39m\u001b[39m\"\u001b[39m\u001b[39mThe type of \u001b[39m\u001b[39m{\u001b[39;00mcol\u001b[39m}\u001b[39;00m\u001b[39m is not a SQLAlchemy type\u001b[39m\u001b[39m\"\u001b[39m)\n\u001b[0;32m   1802\u001b[0m table \u001b[39m=\u001b[39m SQLTable(\n\u001b[0;32m   1803\u001b[0m     name,\n\u001b[0;32m   1804\u001b[0m     \u001b[39mself\u001b[39m,\n\u001b[1;32m   (...)\u001b[0m\n\u001b[0;32m   1810\u001b[0m     dtype\u001b[39m=\u001b[39mdtype,\n\u001b[0;32m   1811\u001b[0m )\n\u001b[1;32m-> 1812\u001b[0m table\u001b[39m.\u001b[39mcreate()\n\u001b[0;32m   1813\u001b[0m \u001b[39mreturn\u001b[39;00m table\n",
      "File \u001b[1;32mc:\\Users\\gamet\\anaconda3\\envs\\lds\\Lib\\site-packages\\pandas\\io\\sql.py:903\u001b[0m, in \u001b[0;36mSQLTable.create\u001b[1;34m(self)\u001b[0m\n\u001b[0;32m    901\u001b[0m \u001b[39mif\u001b[39;00m \u001b[39mself\u001b[39m\u001b[39m.\u001b[39mexists():\n\u001b[0;32m    902\u001b[0m     \u001b[39mif\u001b[39;00m \u001b[39mself\u001b[39m\u001b[39m.\u001b[39mif_exists \u001b[39m==\u001b[39m \u001b[39m\"\u001b[39m\u001b[39mfail\u001b[39m\u001b[39m\"\u001b[39m:\n\u001b[1;32m--> 903\u001b[0m         \u001b[39mraise\u001b[39;00m \u001b[39mValueError\u001b[39;00m(\u001b[39mf\u001b[39m\u001b[39m\"\u001b[39m\u001b[39mTable \u001b[39m\u001b[39m'\u001b[39m\u001b[39m{\u001b[39;00m\u001b[39mself\u001b[39m\u001b[39m.\u001b[39mname\u001b[39m}\u001b[39;00m\u001b[39m'\u001b[39m\u001b[39m already exists.\u001b[39m\u001b[39m\"\u001b[39m)\n\u001b[0;32m    904\u001b[0m     \u001b[39mif\u001b[39;00m \u001b[39mself\u001b[39m\u001b[39m.\u001b[39mif_exists \u001b[39m==\u001b[39m \u001b[39m\"\u001b[39m\u001b[39mreplace\u001b[39m\u001b[39m\"\u001b[39m:\n\u001b[0;32m    905\u001b[0m         \u001b[39mself\u001b[39m\u001b[39m.\u001b[39mpd_sql\u001b[39m.\u001b[39mdrop_table(\u001b[39mself\u001b[39m\u001b[39m.\u001b[39mname, \u001b[39mself\u001b[39m\u001b[39m.\u001b[39mschema)\n",
      "\u001b[1;31mValueError\u001b[0m: Table 'questionIndex' already exists."
     ]
    }
   ],
   "source": [
    "con = sqlalchemy.create_engine(\"sqlite:///lds_temp.db\")\n",
    "question_df.to_pandas().to_sql(\"questionIndex\", con=con)"
   ]
  },
  {
   "cell_type": "code",
   "execution_count": 31,
   "metadata": {},
   "outputs": [
    {
     "data": {
      "text/html": [
       "<div>\n",
       "<style scoped>\n",
       "    .dataframe tbody tr th:only-of-type {\n",
       "        vertical-align: middle;\n",
       "    }\n",
       "\n",
       "    .dataframe tbody tr th {\n",
       "        vertical-align: top;\n",
       "    }\n",
       "\n",
       "    .dataframe thead th {\n",
       "        text-align: right;\n",
       "    }\n",
       "</style>\n",
       "<table border=\"1\" class=\"dataframe\">\n",
       "  <thead>\n",
       "    <tr style=\"text-align: right;\">\n",
       "      <th></th>\n",
       "      <th>surveyNum</th>\n",
       "      <th>responseType</th>\n",
       "      <th>questionText</th>\n",
       "    </tr>\n",
       "    <tr>\n",
       "      <th>index</th>\n",
       "      <th></th>\n",
       "      <th></th>\n",
       "      <th></th>\n",
       "    </tr>\n",
       "  </thead>\n",
       "  <tbody>\n",
       "    <tr>\n",
       "      <th>0</th>\n",
       "      <td>0</td>\n",
       "      <td></td>\n",
       "      <td>Number of Lawyers</td>\n",
       "    </tr>\n",
       "    <tr>\n",
       "      <th>1</th>\n",
       "      <td>1</td>\n",
       "      <td></td>\n",
       "      <td>Total Revenue</td>\n",
       "    </tr>\n",
       "    <tr>\n",
       "      <th>2</th>\n",
       "      <td>2</td>\n",
       "      <td></td>\n",
       "      <td>HQ</td>\n",
       "    </tr>\n",
       "  </tbody>\n",
       "</table>\n",
       "</div>"
      ],
      "text/plain": [
       "       surveyNum responseType       questionText\n",
       "index                                           \n",
       "0              0               Number of Lawyers\n",
       "1              1                   Total Revenue\n",
       "2              2                              HQ"
      ]
     },
     "execution_count": 31,
     "metadata": {},
     "output_type": "execute_result"
    }
   ],
   "source": [
    "con = sqlalchemy.create_engine(\"sqlite:///lds_temp.db\")\n",
    "pd.read_sql_table(\"questionIndex\", con=con, index_col=\"index\")"
   ]
  }
 ],
 "metadata": {
  "kernelspec": {
   "display_name": "lds",
   "language": "python",
   "name": "python3"
  },
  "language_info": {
   "codemirror_mode": {
    "name": "ipython",
    "version": 3
   },
   "file_extension": ".py",
   "mimetype": "text/x-python",
   "name": "python",
   "nbconvert_exporter": "python",
   "pygments_lexer": "ipython3",
   "version": "3.11.3"
  },
  "orig_nbformat": 4
 },
 "nbformat": 4,
 "nbformat_minor": 2
}
