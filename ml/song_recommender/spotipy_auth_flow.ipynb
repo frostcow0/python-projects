{
 "cells": [
  {
   "cell_type": "code",
   "execution_count": 1,
   "metadata": {},
   "outputs": [],
   "source": [
    "import spotipy as spot\n",
    "import pandas as pd\n",
    "import json"
   ]
  },
  {
   "cell_type": "code",
   "execution_count": 5,
   "metadata": {},
   "outputs": [
    {
     "data": {
      "text/plain": [
       "{'CLIENT_ID': '468b8b024bfb41d5b1957dad2afc766a',\n",
       " 'CLIENT_SECRET': '8827668f8ed64f13bf8c2e83781c3997',\n",
       " 'REDIRECT_URI': 'http://localhost:8080'}"
      ]
     },
     "execution_count": 5,
     "metadata": {},
     "output_type": "execute_result"
    }
   ],
   "source": [
    "config = json.load(open(file=\"config.json\", encoding=\"utf-8\"))\n",
    "config"
   ]
  },
  {
   "cell_type": "code",
   "execution_count": 3,
   "metadata": {},
   "outputs": [],
   "source": [
    "# Authorization Flow that WORKS\n",
    "try:\n",
    "    token = spot.util.prompt_for_user_token(username='frostcow',\n",
    "        scope=['playlist-modify-public', 'user-read-recently-played'],\n",
    "        client_id=config[\"CLIENT_ID\"],\n",
    "        client_secret=config[\"CLIENT_SECRET\"],\n",
    "        redirect_uri=config[\"REDIRECT_URI\"])\n",
    "    test_sp = spot.Spotify(auth=token)\n",
    "except spot.SpotifyOauthError:\n",
    "    print(\"User declined\")"
   ]
  },
  {
   "cell_type": "code",
   "execution_count": 4,
   "metadata": {},
   "outputs": [
    {
     "data": {
      "text/plain": [
       "str"
      ]
     },
     "execution_count": 4,
     "metadata": {},
     "output_type": "execute_result"
    }
   ],
   "source": [
    "type(token)"
   ]
  }
 ],
 "metadata": {
  "interpreter": {
   "hash": "8457063875b6dfde5f7bfd847e02652ba612a5628b419157fbbe412986281380"
  },
  "kernelspec": {
   "display_name": "Python 3.9.7 ('base')",
   "language": "python",
   "name": "python3"
  },
  "language_info": {
   "codemirror_mode": {
    "name": "ipython",
    "version": 3
   },
   "file_extension": ".py",
   "mimetype": "text/x-python",
   "name": "python",
   "nbconvert_exporter": "python",
   "pygments_lexer": "ipython3",
   "version": "3.9.7"
  },
  "orig_nbformat": 4
 },
 "nbformat": 4,
 "nbformat_minor": 2
}
