{
 "cells": [
  {
   "cell_type": "markdown",
   "metadata": {},
   "source": [
    "# Machine learning Playground\n",
    "Started 3/4/2022\n",
    "\n",
    "This is going to be where I test out new data visualizations, machine learning models, and methods of cleaning and preprocessing data.\n",
    "\n",
    "This is the first time I've committed to using Jupyter Notebooks, so it'll be a learning experience, but I intend to document as much as I can :)."
   ]
  },
  {
   "cell_type": "code",
   "execution_count": 15,
   "metadata": {},
   "outputs": [],
   "source": [
    "import json\n",
    "import pandas as pd\n",
    "import urllib.request as rq"
   ]
  },
  {
   "cell_type": "markdown",
   "metadata": {},
   "source": [
    "## Data Prep\n",
    "Below we have the functions, global variables, and function calls necessary to get the data from OWID and put it in a usable format."
   ]
  },
  {
   "cell_type": "code",
   "execution_count": 16,
   "metadata": {},
   "outputs": [],
   "source": [
    "\n",
    "COVID_LATEST_DATA_URL = \"https://covid.ourworldindata.org/data/latest/owid-covid-latest.json\"\n",
    "COVID_WHOLE_DATA_URL = \"https://covid.ourworldindata.org/data/owid-covid-data.json\"\n",
    "\n",
    "\n",
    "def get_covid_df(url:str) -> pd.DataFrame:\n",
    "    \"\"\"Helper function for data extraction tasks\"\"\"\n",
    "    with rq.urlopen(url) as url:\n",
    "        covid_data = json.loads(url.read().decode())\n",
    "        covid_df = pd.DataFrame(covid_data)\n",
    "        return covid_df\n",
    "\n",
    "def filter_data(covid_df:pd.DataFrame, country:str) -> pd.DataFrame:\n",
    "    \"\"\"Filter for the given country\"\"\"\n",
    "    filtered_df = covid_df[country].copy()\n",
    "    return filtered_df\n",
    "\n",
    "def extract_full_country_data(data:pd.DataFrame) -> pd.DataFrame:\n",
    "    \"\"\"Creates a dataframe from the data dictionary nested in the covid data\"\"\"\n",
    "    df = pd.DataFrame.from_dict(data.data)\n",
    "    return df"
   ]
  },
  {
   "cell_type": "code",
   "execution_count": 17,
   "metadata": {},
   "outputs": [],
   "source": [
    "covid_df = get_covid_df(COVID_WHOLE_DATA_URL)\n",
    "filtered_df = filter_data(covid_df, \"USA\")\n",
    "full_df = extract_full_country_data(filtered_df)"
   ]
  },
  {
   "cell_type": "markdown",
   "metadata": {},
   "source": [
    "## Getting the Label\n",
    "Below are the functions and function calls necessary to extract the label from the dataset.\n",
    "\n",
    "One thing I wanted to clarify, `clean_NaN()` can be a misleading name. In that function all I'm doing is filling the na values with 0's. This is an easy area for improvement in the future."
   ]
  },
  {
   "cell_type": "code",
   "execution_count": 18,
   "metadata": {},
   "outputs": [],
   "source": [
    "def extract_label_column(data:pd.DataFrame, column:str) -> pd.Series:\n",
    "    \"\"\"Create a copy of the column and return it as a Series\"\"\"\n",
    "    series = data[column].copy().rename('')\n",
    "    return series\n",
    "\n",
    "def clean_NaN(data:pd.DataFrame) -> pd.DataFrame:\n",
    "    df = data.copy().fillna(0)\n",
    "    return df"
   ]
  },
  {
   "cell_type": "code",
   "execution_count": 19,
   "metadata": {},
   "outputs": [],
   "source": [
    "base_y = extract_label_column(full_df, \"new_cases\")\n",
    "cleaned_y = clean_NaN(base_y)"
   ]
  },
  {
   "cell_type": "markdown",
   "metadata": {},
   "source": [
    "## Getting the Features\n",
    "\n",
    " Below are the functions and function calls necessary for extracting the features from the full dataset.\n",
    "\n",
    " This section differs from the label in a few ways. Note that there's a global variable called `DROP_COLUMNS` in which I have listed some features I believe may cause overfitting due to their relationship to the label.\n",
    "\n",
    " Also we're beginning to do some preprocessing in that we narrow down which features we'll be using via `SelectKBest` and then scaling them with sklearn's `StandardScaler`."
   ]
  },
  {
   "cell_type": "code",
   "execution_count": 20,
   "metadata": {},
   "outputs": [],
   "source": [
    "DROP_COLUMNS = [\n",
    "    'date',\n",
    "    'new_cases',\n",
    "    'new_cases_per_million',\n",
    "    'new_cases_smoothed',\n",
    "    'new_cases_smoothed_per_million',\n",
    "    'tests_units'\n",
    "]\n",
    "\n",
    "def remove_overfit_columns(data:pd.DataFrame, columns:list) -> pd.DataFrame:\n",
    "    \"\"\"Removes columns that might cause overfit, such as the per million and smoothed versions of our label\"\"\"\n",
    "    data = data.copy().drop(columns = columns)\n",
    "    return data\n",
    "\n",
    "from sklearn.preprocessing import StandardScaler\n",
    "from sklearn.feature_selection import SelectKBest, f_regression\n",
    "\n",
    "def optimize_feature_columns(X:pd.DataFrame, num_features:int, y:pd.Series) -> pd.DataFrame:\n",
    "    \"\"\"Create a copy of the columns and return them as a dataframe\"\"\"\n",
    "    feature_selection = SelectKBest(score_func=f_regression, k=num_features)\n",
    "    X_selected = feature_selection.fit_transform(X.copy(), y)\n",
    "    X_selected = pd.DataFrame(X_selected)\n",
    "    return X_selected\n",
    "\n",
    "def scale_data(X:pd.DataFrame) -> pd.DataFrame:\n",
    "    \"\"\"Uses StandardScaler to scale the data\"\"\"\n",
    "    X = StandardScaler().fit_transform(X)\n",
    "    X = pd.DataFrame(X)\n",
    "    return X"
   ]
  },
  {
   "cell_type": "code",
   "execution_count": null,
   "metadata": {},
   "outputs": [],
   "source": [
    "base_X = remove_overfit_columns(full_df, DROP_COLUMNS)\n",
    "cleaned_X = clean_NaN(base_X)\n",
    "optimal_X = optimize_feature_columns(cleaned_X, 10, cleaned_y)\n",
    "scaled_X = scale_data(optimal_X)"
   ]
  }
 ],
 "metadata": {
  "interpreter": {
   "hash": "e15e40d01f3c632830d1d5f47ca8cd16b784472dfc4ed2bbbe970c8d6cf8e86e"
  },
  "kernelspec": {
   "display_name": "Python 3.9.7 64-bit",
   "language": "python",
   "name": "python3"
  },
  "language_info": {
   "codemirror_mode": {
    "name": "ipython",
    "version": 3
   },
   "file_extension": ".py",
   "mimetype": "text/x-python",
   "name": "python",
   "nbconvert_exporter": "python",
   "pygments_lexer": "ipython3",
   "version": "3.9.7"
  },
  "orig_nbformat": 4
 },
 "nbformat": 4,
 "nbformat_minor": 2
}
