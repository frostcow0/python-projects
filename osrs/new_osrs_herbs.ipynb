{
 "cells": [
  {
   "cell_type": "code",
   "execution_count": 4,
   "id": "076337df",
   "metadata": {},
   "outputs": [],
   "source": [
    "import requests\n",
    "import polars as pl"
   ]
  },
  {
   "cell_type": "code",
   "execution_count": 5,
   "id": "9cc113be",
   "metadata": {},
   "outputs": [
    {
     "name": "stdout",
     "output_type": "stream",
     "text": [
      "Toadflax\n",
      "Harralander\n",
      "Tarromin\n",
      "Marrentill\n",
      "Ranarr weed\n",
      "Irit leaf\n",
      "Avantoe\n",
      "Kwuarm\n"
     ]
    }
   ],
   "source": [
    "# [(Leaf, Seed)]\n",
    "# herbs = [\n",
    "#     (\"Toadflax\", \"Toadflax seed\"), (\"Harralander\", \"Harralander seed\"), (\"Tarromin\", \"Tarromin seed\"),\n",
    "#     (\"Marrentill\", \"Marrentill seed\"), (\"Ranarr weed\", \"Ranarr seed\"),\n",
    "#     (\"Irit leaf\", \"Irit seed\"), (\"Avantoe\", \"Avantoe seed\"), (\"Kwuarm\", \"Kwuarm seed\")\n",
    "# ]\n",
    "\n",
    "# https://oldschool.runescape.wiki/w/Item_IDs\n",
    "details_url = \"https://secure.runescape.com/m=itemdb_oldschool/api/catalogue/detail.json\"\n",
    "\n",
    "useful_keys = [\"current\", \"today\", \"day30\", \"day90\", \"day180\"]\n",
    "herbs = [(2998, 5296), (255, 5294), (253, 5293),\n",
    "         (251, 5292), (257, 5295),\n",
    "         (259, 5297), (261, 5298), (263, 5299)]\n",
    "results = {}\n",
    "\n",
    "for leaf, seed in herbs:\n",
    "    leaf_data, seed_data = None, None\n",
    "    # Leaf\n",
    "    leaf_response = requests.get(details_url, params={\"item\":leaf})\n",
    "    if leaf_response.status_code == 200:\n",
    "        leaf_data = leaf_response.json()[\"item\"]\n",
    "        print(leaf_data[\"name\"])\n",
    "    # Seed\n",
    "    seed_response = requests.get(details_url, params={\"item\":seed})\n",
    "    if seed_response.status_code == 200:\n",
    "        seed_data = seed_response.json()[\"item\"]\n",
    "    if not leaf_data or not seed_data:\n",
    "        print(f\"Error with {leaf}:\\n\\t{leaf_response.status_code}\\n\\t{seed_response.status_code}\")\n",
    "    else:\n",
    "        results[leaf_data[\"name\"]] = (\n",
    "            [leaf_data[key] for key in leaf_data.keys() if key in useful_keys],\n",
    "            [seed_data[key] for key in seed_data.keys() if key in useful_keys]\n",
    "        )\n",
    "    # break"
   ]
  },
  {
   "cell_type": "code",
   "execution_count": 6,
   "id": "8d30b7fd",
   "metadata": {},
   "outputs": [
    {
     "data": {
      "text/plain": [
       "{'Toadflax': ([{'trend': 'neutral', 'price': '3,767'},\n",
       "   {'trend': 'negative', 'price': '- 1'},\n",
       "   {'trend': 'positive', 'change': '+1.0%'},\n",
       "   {'trend': 'positive', 'change': '+27.0%'},\n",
       "   {'trend': 'positive', 'change': '+10.0%'}],\n",
       "  [{'trend': 'neutral', 'price': 958},\n",
       "   {'trend': 'positive', 'price': '+30'},\n",
       "   {'trend': 'negative', 'change': '-9.0%'},\n",
       "   {'trend': 'negative', 'change': '-4.0%'},\n",
       "   {'trend': 'positive', 'change': '+3.0%'}]),\n",
       " 'Harralander': ([{'trend': 'neutral', 'price': 728},\n",
       "   {'trend': 'negative', 'price': '- 34'},\n",
       "   {'trend': 'negative', 'change': '-46.0%'},\n",
       "   {'trend': 'positive', 'change': '+10.0%'},\n",
       "   {'trend': 'positive', 'change': '+10.0%'}],\n",
       "  [{'trend': 'neutral', 'price': 34},\n",
       "   {'trend': 'negative', 'price': '- 2'},\n",
       "   {'trend': 'negative', 'change': '-29.0%'},\n",
       "   {'trend': 'negative', 'change': '-8.0%'},\n",
       "   {'trend': 'negative', 'change': '-5.0%'}]),\n",
       " 'Tarromin': ([{'trend': 'neutral', 'price': 409},\n",
       "   {'trend': 'neutral', 'price': 0},\n",
       "   {'trend': 'negative', 'change': '-64.0%'},\n",
       "   {'trend': 'negative', 'change': '-9.0%'},\n",
       "   {'trend': 'positive', 'change': '+17.0%'}],\n",
       "  [{'trend': 'neutral', 'price': 12},\n",
       "   {'trend': 'positive', 'price': '+1'},\n",
       "   {'trend': 'negative', 'change': '-14.0%'},\n",
       "   {'trend': 'negative', 'change': '-33.0%'},\n",
       "   {'trend': 'negative', 'change': '-25.0%'}]),\n",
       " 'Marrentill': ([{'trend': 'neutral', 'price': 597},\n",
       "   {'trend': 'negative', 'price': '- 26'},\n",
       "   {'trend': 'negative', 'change': '-44.0%'},\n",
       "   {'trend': 'positive', 'change': '+54.0%'},\n",
       "   {'trend': 'positive', 'change': '+86.0%'}],\n",
       "  [{'trend': 'neutral', 'price': 20},\n",
       "   {'trend': 'neutral', 'price': 0},\n",
       "   {'trend': 'positive', 'change': '+42.0%'},\n",
       "   {'trend': 'neutral', 'change': '0.0%'},\n",
       "   {'trend': 'positive', 'change': '+42.0%'}]),\n",
       " 'Ranarr weed': ([{'trend': 'neutral', 'price': '6,984'},\n",
       "   {'trend': 'negative', 'price': '- 53'},\n",
       "   {'trend': 'positive', 'change': '+3.0%'},\n",
       "   {'trend': 'positive', 'change': '+16.0%'},\n",
       "   {'trend': 'positive', 'change': '+13.0%'}],\n",
       "  [{'trend': 'neutral', 'price': '28.8k'},\n",
       "   {'trend': 'negative', 'price': '- 867'},\n",
       "   {'trend': 'positive', 'change': '+7.0%'},\n",
       "   {'trend': 'positive', 'change': '+5.0%'},\n",
       "   {'trend': 'positive', 'change': '+31.0%'}]),\n",
       " 'Irit leaf': ([{'trend': 'neutral', 'price': '2,819'},\n",
       "   {'trend': 'negative', 'price': '- 18'},\n",
       "   {'trend': 'positive', 'change': '+33.0%'},\n",
       "   {'trend': 'positive', 'change': '+133.0%'},\n",
       "   {'trend': 'positive', 'change': '+115.0%'}],\n",
       "  [{'trend': 'neutral', 'price': 77},\n",
       "   {'trend': 'negative', 'price': '- 2'},\n",
       "   {'trend': 'negative', 'change': '-4.0%'},\n",
       "   {'trend': 'negative', 'change': '-23.0%'},\n",
       "   {'trend': 'negative', 'change': '-16.0%'}]),\n",
       " 'Avantoe': ([{'trend': 'neutral', 'price': '3,746'},\n",
       "   {'trend': 'positive', 'price': '+60'},\n",
       "   {'trend': 'negative', 'change': '-2.0%'},\n",
       "   {'trend': 'positive', 'change': '+46.0%'},\n",
       "   {'trend': 'positive', 'change': '+6.0%'}],\n",
       "  [{'trend': 'neutral', 'price': 746},\n",
       "   {'trend': 'positive', 'price': '+21'},\n",
       "   {'trend': 'negative', 'change': '-16.0%'},\n",
       "   {'trend': 'negative', 'change': '-8.0%'},\n",
       "   {'trend': 'negative', 'change': '-68.0%'}]),\n",
       " 'Kwuarm': ([{'trend': 'neutral', 'price': '3,813'},\n",
       "   {'trend': 'negative', 'price': '- 117'},\n",
       "   {'trend': 'negative', 'change': '-2.0%'},\n",
       "   {'trend': 'positive', 'change': '+32.0%'},\n",
       "   {'trend': 'positive', 'change': '+4.0%'}],\n",
       "  [{'trend': 'neutral', 'price': '2,393'},\n",
       "   {'trend': 'positive', 'price': '+75'},\n",
       "   {'trend': 'negative', 'change': '-15.0%'},\n",
       "   {'trend': 'positive', 'change': '+44.0%'},\n",
       "   {'trend': 'positive', 'change': '+46.0%'}])}"
      ]
     },
     "execution_count": 6,
     "metadata": {},
     "output_type": "execute_result"
    }
   ],
   "source": [
    "results"
   ]
  },
  {
   "cell_type": "code",
   "execution_count": 28,
   "id": "ec4b6550",
   "metadata": {},
   "outputs": [
    {
     "data": {
      "text/html": [
       "<div><style>\n",
       ".dataframe > thead > tr,\n",
       ".dataframe > tbody > tr {\n",
       "  text-align: right;\n",
       "  white-space: pre-wrap;\n",
       "}\n",
       "</style>\n",
       "<small>shape: (8, 11)</small><table border=\"1\" class=\"dataframe\"><thead><tr><th>herb</th><th>leaf_current</th><th>seed_current</th><th>leaf_today</th><th>seed_today</th><th>leaf_day30</th><th>seed_day30</th><th>leaf_day90</th><th>seed_day90</th><th>leaf_day180</th><th>seed_day180</th></tr><tr><td>str</td><td>i64</td><td>i64</td><td>i64</td><td>i64</td><td>str</td><td>str</td><td>str</td><td>str</td><td>str</td><td>str</td></tr></thead><tbody><tr><td>&quot;Toadflax&quot;</td><td>3767</td><td>958</td><td>-1</td><td>30</td><td>&quot;+1.0%&quot;</td><td>&quot;-9.0%&quot;</td><td>&quot;+27.0%&quot;</td><td>&quot;-4.0%&quot;</td><td>&quot;+10.0%&quot;</td><td>&quot;+3.0%&quot;</td></tr><tr><td>&quot;Harralander&quot;</td><td>728</td><td>34</td><td>-34</td><td>-2</td><td>&quot;-46.0%&quot;</td><td>&quot;-29.0%&quot;</td><td>&quot;+10.0%&quot;</td><td>&quot;-8.0%&quot;</td><td>&quot;+10.0%&quot;</td><td>&quot;-5.0%&quot;</td></tr><tr><td>&quot;Tarromin&quot;</td><td>409</td><td>12</td><td>0</td><td>1</td><td>&quot;-64.0%&quot;</td><td>&quot;-14.0%&quot;</td><td>&quot;-9.0%&quot;</td><td>&quot;-33.0%&quot;</td><td>&quot;+17.0%&quot;</td><td>&quot;-25.0%&quot;</td></tr><tr><td>&quot;Marrentill&quot;</td><td>597</td><td>20</td><td>-26</td><td>0</td><td>&quot;-44.0%&quot;</td><td>&quot;+42.0%&quot;</td><td>&quot;+54.0%&quot;</td><td>&quot;0.0%&quot;</td><td>&quot;+86.0%&quot;</td><td>&quot;+42.0%&quot;</td></tr><tr><td>&quot;Ranarr weed&quot;</td><td>6984</td><td>28800</td><td>-53</td><td>-867</td><td>&quot;+3.0%&quot;</td><td>&quot;+7.0%&quot;</td><td>&quot;+16.0%&quot;</td><td>&quot;+5.0%&quot;</td><td>&quot;+13.0%&quot;</td><td>&quot;+31.0%&quot;</td></tr><tr><td>&quot;Irit leaf&quot;</td><td>2819</td><td>77</td><td>-18</td><td>-2</td><td>&quot;+33.0%&quot;</td><td>&quot;-4.0%&quot;</td><td>&quot;+133.0%&quot;</td><td>&quot;-23.0%&quot;</td><td>&quot;+115.0%&quot;</td><td>&quot;-16.0%&quot;</td></tr><tr><td>&quot;Avantoe&quot;</td><td>3746</td><td>746</td><td>60</td><td>21</td><td>&quot;-2.0%&quot;</td><td>&quot;-16.0%&quot;</td><td>&quot;+46.0%&quot;</td><td>&quot;-8.0%&quot;</td><td>&quot;+6.0%&quot;</td><td>&quot;-68.0%&quot;</td></tr><tr><td>&quot;Kwuarm&quot;</td><td>3813</td><td>2393</td><td>-117</td><td>75</td><td>&quot;-2.0%&quot;</td><td>&quot;-15.0%&quot;</td><td>&quot;+32.0%&quot;</td><td>&quot;+44.0%&quot;</td><td>&quot;+4.0%&quot;</td><td>&quot;+46.0%&quot;</td></tr></tbody></table></div>"
      ],
      "text/plain": [
       "shape: (8, 11)\n",
       "┌───────────┬───────────┬───────────┬───────────┬───┬───────────┬───────────┬───────────┬──────────┐\n",
       "│ herb      ┆ leaf_curr ┆ seed_curr ┆ leaf_toda ┆ … ┆ leaf_day9 ┆ seed_day9 ┆ leaf_day1 ┆ seed_day │\n",
       "│ ---       ┆ ent       ┆ ent       ┆ y         ┆   ┆ 0         ┆ 0         ┆ 80        ┆ 180      │\n",
       "│ str       ┆ ---       ┆ ---       ┆ ---       ┆   ┆ ---       ┆ ---       ┆ ---       ┆ ---      │\n",
       "│           ┆ i64       ┆ i64       ┆ i64       ┆   ┆ str       ┆ str       ┆ str       ┆ str      │\n",
       "╞═══════════╪═══════════╪═══════════╪═══════════╪═══╪═══════════╪═══════════╪═══════════╪══════════╡\n",
       "│ Toadflax  ┆ 3767      ┆ 958       ┆ -1        ┆ … ┆ +27.0%    ┆ -4.0%     ┆ +10.0%    ┆ +3.0%    │\n",
       "│ Harraland ┆ 728       ┆ 34        ┆ -34       ┆ … ┆ +10.0%    ┆ -8.0%     ┆ +10.0%    ┆ -5.0%    │\n",
       "│ er        ┆           ┆           ┆           ┆   ┆           ┆           ┆           ┆          │\n",
       "│ Tarromin  ┆ 409       ┆ 12        ┆ 0         ┆ … ┆ -9.0%     ┆ -33.0%    ┆ +17.0%    ┆ -25.0%   │\n",
       "│ Marrentil ┆ 597       ┆ 20        ┆ -26       ┆ … ┆ +54.0%    ┆ 0.0%      ┆ +86.0%    ┆ +42.0%   │\n",
       "│ l         ┆           ┆           ┆           ┆   ┆           ┆           ┆           ┆          │\n",
       "│ Ranarr    ┆ 6984      ┆ 28800     ┆ -53       ┆ … ┆ +16.0%    ┆ +5.0%     ┆ +13.0%    ┆ +31.0%   │\n",
       "│ weed      ┆           ┆           ┆           ┆   ┆           ┆           ┆           ┆          │\n",
       "│ Irit leaf ┆ 2819      ┆ 77        ┆ -18       ┆ … ┆ +133.0%   ┆ -23.0%    ┆ +115.0%   ┆ -16.0%   │\n",
       "│ Avantoe   ┆ 3746      ┆ 746       ┆ 60        ┆ … ┆ +46.0%    ┆ -8.0%     ┆ +6.0%     ┆ -68.0%   │\n",
       "│ Kwuarm    ┆ 3813      ┆ 2393      ┆ -117      ┆ … ┆ +32.0%    ┆ +44.0%    ┆ +4.0%     ┆ +46.0%   │\n",
       "└───────────┴───────────┴───────────┴───────────┴───┴───────────┴───────────┴───────────┴──────────┘"
      ]
     },
     "execution_count": 28,
     "metadata": {},
     "output_type": "execute_result"
    }
   ],
   "source": [
    "# Prepare data for DataFrame with correct handling of 'today' field\n",
    "\n",
    "def parse_int(val):\n",
    "    if isinstance(val, str):\n",
    "        val = val.replace(',', '').strip().lower()\n",
    "        val = val.replace(' ', '').replace('+', '')\n",
    "        if val.endswith('k'):\n",
    "            return int(float(val[:-1]) * 1_000)\n",
    "        elif val.endswith('m'):\n",
    "            return int(float(val[:-1]) * 1_000_000)\n",
    "        try:\n",
    "            return int(val)\n",
    "        except ValueError:\n",
    "            return None\n",
    "    elif isinstance(val, (int, float)):\n",
    "        return int(val)\n",
    "    return None\n",
    "\n",
    "data = []\n",
    "for herb, (leaf_stats, seed_stats) in results.items():\n",
    "    row = {\n",
    "        \"herb\": herb,\n",
    "        \"leaf_current\": parse_int(leaf_stats[0][\"price\"]) if isinstance(leaf_stats[0], dict) and \"price\" in leaf_stats[0] else None,\n",
    "        \"seed_current\": parse_int(seed_stats[0][\"price\"]) if isinstance(seed_stats[0], dict) and \"price\" in seed_stats[0] else None,\n",
    "        \"leaf_today\": parse_int(leaf_stats[1][\"price\"]),  # 'today' is a direct value, not a dict\n",
    "        \"seed_today\": parse_int(seed_stats[1][\"price\"]),  # 'today' is a direct value, not a dict\n",
    "        \"leaf_day30\": leaf_stats[2][\"change\"] if isinstance(leaf_stats[2], dict) and \"change\" in leaf_stats[2] else leaf_stats[2],\n",
    "        \"seed_day30\": seed_stats[2][\"change\"] if isinstance(seed_stats[2], dict) and \"change\" in seed_stats[2] else seed_stats[2],\n",
    "        \"leaf_day90\": leaf_stats[3][\"change\"] if isinstance(leaf_stats[3], dict) and \"change\" in leaf_stats[3] else leaf_stats[3],\n",
    "        \"seed_day90\": seed_stats[3][\"change\"] if isinstance(seed_stats[3], dict) and \"change\" in seed_stats[3] else seed_stats[3],\n",
    "        \"leaf_day180\": leaf_stats[4][\"change\"] if isinstance(leaf_stats[4], dict) and \"change\" in leaf_stats[4] else leaf_stats[4],\n",
    "        \"seed_day180\": seed_stats[4][\"change\"] if isinstance(seed_stats[4], dict) and \"change\" in seed_stats[4] else seed_stats[4],\n",
    "    }\n",
    "    data.append(row)\n",
    "\n",
    "df = pl.DataFrame(data)\n",
    "df"
   ]
  },
  {
   "cell_type": "code",
   "execution_count": 29,
   "id": "ea001760",
   "metadata": {},
   "outputs": [
    {
     "data": {
      "text/html": [
       "<div><style>\n",
       ".dataframe > thead > tr,\n",
       ".dataframe > tbody > tr {\n",
       "  text-align: right;\n",
       "  white-space: pre-wrap;\n",
       "}\n",
       "</style>\n",
       "<small>shape: (8, 13)</small><table border=\"1\" class=\"dataframe\"><thead><tr><th>herb</th><th>leaf_current</th><th>seed_current</th><th>leaf_today</th><th>seed_today</th><th>leaf_day30</th><th>seed_day30</th><th>leaf_day90</th><th>seed_day90</th><th>leaf_day180</th><th>seed_day180</th><th>leaf8.56_minus_seed</th><th>leaf8.56_minus_seed_today</th></tr><tr><td>str</td><td>i64</td><td>i64</td><td>i64</td><td>i64</td><td>str</td><td>str</td><td>str</td><td>str</td><td>str</td><td>str</td><td>f64</td><td>f64</td></tr></thead><tbody><tr><td>&quot;Toadflax&quot;</td><td>3767</td><td>958</td><td>-1</td><td>30</td><td>&quot;+1.0%&quot;</td><td>&quot;-9.0%&quot;</td><td>&quot;+27.0%&quot;</td><td>&quot;-4.0%&quot;</td><td>&quot;+10.0%&quot;</td><td>&quot;+3.0%&quot;</td><td>31287.52</td><td>31248.96</td></tr><tr><td>&quot;Harralander&quot;</td><td>728</td><td>34</td><td>-34</td><td>-2</td><td>&quot;-46.0%&quot;</td><td>&quot;-29.0%&quot;</td><td>&quot;+10.0%&quot;</td><td>&quot;-8.0%&quot;</td><td>&quot;+10.0%&quot;</td><td>&quot;-5.0%&quot;</td><td>6197.68</td><td>5908.64</td></tr><tr><td>&quot;Tarromin&quot;</td><td>409</td><td>12</td><td>0</td><td>1</td><td>&quot;-64.0%&quot;</td><td>&quot;-14.0%&quot;</td><td>&quot;-9.0%&quot;</td><td>&quot;-33.0%&quot;</td><td>&quot;+17.0%&quot;</td><td>&quot;-25.0%&quot;</td><td>3489.04</td><td>3488.04</td></tr><tr><td>&quot;Marrentill&quot;</td><td>597</td><td>20</td><td>-26</td><td>0</td><td>&quot;-44.0%&quot;</td><td>&quot;+42.0%&quot;</td><td>&quot;+54.0%&quot;</td><td>&quot;0.0%&quot;</td><td>&quot;+86.0%&quot;</td><td>&quot;+42.0%&quot;</td><td>5090.32</td><td>4867.76</td></tr><tr><td>&quot;Ranarr weed&quot;</td><td>6984</td><td>28800</td><td>-53</td><td>-867</td><td>&quot;+3.0%&quot;</td><td>&quot;+7.0%&quot;</td><td>&quot;+16.0%&quot;</td><td>&quot;+5.0%&quot;</td><td>&quot;+13.0%&quot;</td><td>&quot;+31.0%&quot;</td><td>30983.04</td><td>31396.36</td></tr><tr><td>&quot;Irit leaf&quot;</td><td>2819</td><td>77</td><td>-18</td><td>-2</td><td>&quot;+33.0%&quot;</td><td>&quot;-4.0%&quot;</td><td>&quot;+133.0%&quot;</td><td>&quot;-23.0%&quot;</td><td>&quot;+115.0%&quot;</td><td>&quot;-16.0%&quot;</td><td>24053.64</td><td>23901.56</td></tr><tr><td>&quot;Avantoe&quot;</td><td>3746</td><td>746</td><td>60</td><td>21</td><td>&quot;-2.0%&quot;</td><td>&quot;-16.0%&quot;</td><td>&quot;+46.0%&quot;</td><td>&quot;-8.0%&quot;</td><td>&quot;+6.0%&quot;</td><td>&quot;-68.0%&quot;</td><td>31319.76</td><td>31812.36</td></tr><tr><td>&quot;Kwuarm&quot;</td><td>3813</td><td>2393</td><td>-117</td><td>75</td><td>&quot;-2.0%&quot;</td><td>&quot;-15.0%&quot;</td><td>&quot;+32.0%&quot;</td><td>&quot;+44.0%&quot;</td><td>&quot;+4.0%&quot;</td><td>&quot;+46.0%&quot;</td><td>30246.28</td><td>29169.76</td></tr></tbody></table></div>"
      ],
      "text/plain": [
       "shape: (8, 13)\n",
       "┌───────────┬───────────┬───────────┬───────────┬───┬───────────┬───────────┬───────────┬──────────┐\n",
       "│ herb      ┆ leaf_curr ┆ seed_curr ┆ leaf_toda ┆ … ┆ leaf_day1 ┆ seed_day1 ┆ leaf8.56_ ┆ leaf8.56 │\n",
       "│ ---       ┆ ent       ┆ ent       ┆ y         ┆   ┆ 80        ┆ 80        ┆ minus_see ┆ _minus_s │\n",
       "│ str       ┆ ---       ┆ ---       ┆ ---       ┆   ┆ ---       ┆ ---       ┆ d         ┆ eed_toda │\n",
       "│           ┆ i64       ┆ i64       ┆ i64       ┆   ┆ str       ┆ str       ┆ ---       ┆ y        │\n",
       "│           ┆           ┆           ┆           ┆   ┆           ┆           ┆ f64       ┆ ---      │\n",
       "│           ┆           ┆           ┆           ┆   ┆           ┆           ┆           ┆ f64      │\n",
       "╞═══════════╪═══════════╪═══════════╪═══════════╪═══╪═══════════╪═══════════╪═══════════╪══════════╡\n",
       "│ Toadflax  ┆ 3767      ┆ 958       ┆ -1        ┆ … ┆ +10.0%    ┆ +3.0%     ┆ 31287.52  ┆ 31248.96 │\n",
       "│ Harraland ┆ 728       ┆ 34        ┆ -34       ┆ … ┆ +10.0%    ┆ -5.0%     ┆ 6197.68   ┆ 5908.64  │\n",
       "│ er        ┆           ┆           ┆           ┆   ┆           ┆           ┆           ┆          │\n",
       "│ Tarromin  ┆ 409       ┆ 12        ┆ 0         ┆ … ┆ +17.0%    ┆ -25.0%    ┆ 3489.04   ┆ 3488.04  │\n",
       "│ Marrentil ┆ 597       ┆ 20        ┆ -26       ┆ … ┆ +86.0%    ┆ +42.0%    ┆ 5090.32   ┆ 4867.76  │\n",
       "│ l         ┆           ┆           ┆           ┆   ┆           ┆           ┆           ┆          │\n",
       "│ Ranarr    ┆ 6984      ┆ 28800     ┆ -53       ┆ … ┆ +13.0%    ┆ +31.0%    ┆ 30983.04  ┆ 31396.36 │\n",
       "│ weed      ┆           ┆           ┆           ┆   ┆           ┆           ┆           ┆          │\n",
       "│ Irit leaf ┆ 2819      ┆ 77        ┆ -18       ┆ … ┆ +115.0%   ┆ -16.0%    ┆ 24053.64  ┆ 23901.56 │\n",
       "│ Avantoe   ┆ 3746      ┆ 746       ┆ 60        ┆ … ┆ +6.0%     ┆ -68.0%    ┆ 31319.76  ┆ 31812.36 │\n",
       "│ Kwuarm    ┆ 3813      ┆ 2393      ┆ -117      ┆ … ┆ +4.0%     ┆ +46.0%    ┆ 30246.28  ┆ 29169.76 │\n",
       "└───────────┴───────────┴───────────┴───────────┴───┴───────────┴───────────┴───────────┴──────────┘"
      ]
     },
     "execution_count": 29,
     "metadata": {},
     "output_type": "execute_result"
    }
   ],
   "source": [
    "# Calculate new columns as described\n",
    "\n",
    "df = df.with_columns([\n",
    "    (df[\"leaf_current\"] * 8.56 - df[\"seed_current\"]).alias(\"leaf8.56_minus_seed\"),\n",
    "    (((df[\"leaf_current\"] + df[\"leaf_today\"]) * 8.56 - (df[\"seed_current\"] + df[\"seed_today\"]))\n",
    "        .alias(\"leaf8.56_minus_seed_today\"))\n",
    "])\n",
    "df"
   ]
  },
  {
   "cell_type": "code",
   "execution_count": 30,
   "id": "2a102ea1",
   "metadata": {},
   "outputs": [
    {
     "data": {
      "text/html": [
       "<div><style>\n",
       ".dataframe > thead > tr,\n",
       ".dataframe > tbody > tr {\n",
       "  text-align: right;\n",
       "  white-space: pre-wrap;\n",
       "}\n",
       "</style>\n",
       "<small>shape: (8, 3)</small><table border=\"1\" class=\"dataframe\"><thead><tr><th>herb</th><th>leaf8.56_minus_seed</th><th>leaf8.56_minus_seed_today</th></tr><tr><td>str</td><td>f64</td><td>f64</td></tr></thead><tbody><tr><td>&quot;Avantoe&quot;</td><td>31319.76</td><td>31812.36</td></tr><tr><td>&quot;Toadflax&quot;</td><td>31287.52</td><td>31248.96</td></tr><tr><td>&quot;Ranarr weed&quot;</td><td>30983.04</td><td>31396.36</td></tr><tr><td>&quot;Kwuarm&quot;</td><td>30246.28</td><td>29169.76</td></tr><tr><td>&quot;Irit leaf&quot;</td><td>24053.64</td><td>23901.56</td></tr><tr><td>&quot;Harralander&quot;</td><td>6197.68</td><td>5908.64</td></tr><tr><td>&quot;Marrentill&quot;</td><td>5090.32</td><td>4867.76</td></tr><tr><td>&quot;Tarromin&quot;</td><td>3489.04</td><td>3488.04</td></tr></tbody></table></div>"
      ],
      "text/plain": [
       "shape: (8, 3)\n",
       "┌─────────────┬─────────────────────┬───────────────────────────┐\n",
       "│ herb        ┆ leaf8.56_minus_seed ┆ leaf8.56_minus_seed_today │\n",
       "│ ---         ┆ ---                 ┆ ---                       │\n",
       "│ str         ┆ f64                 ┆ f64                       │\n",
       "╞═════════════╪═════════════════════╪═══════════════════════════╡\n",
       "│ Avantoe     ┆ 31319.76            ┆ 31812.36                  │\n",
       "│ Toadflax    ┆ 31287.52            ┆ 31248.96                  │\n",
       "│ Ranarr weed ┆ 30983.04            ┆ 31396.36                  │\n",
       "│ Kwuarm      ┆ 30246.28            ┆ 29169.76                  │\n",
       "│ Irit leaf   ┆ 24053.64            ┆ 23901.56                  │\n",
       "│ Harralander ┆ 6197.68             ┆ 5908.64                   │\n",
       "│ Marrentill  ┆ 5090.32             ┆ 4867.76                   │\n",
       "│ Tarromin    ┆ 3489.04             ┆ 3488.04                   │\n",
       "└─────────────┴─────────────────────┴───────────────────────────┘"
      ]
     },
     "execution_count": 30,
     "metadata": {},
     "output_type": "execute_result"
    }
   ],
   "source": [
    "# Select and sort the relevant columns\n",
    "df.select([\n",
    "    \"herb\",\n",
    "    \"leaf8.56_minus_seed\",\n",
    "    \"leaf8.56_minus_seed_today\"\n",
    "]).sort([\n",
    "    \"leaf8.56_minus_seed\",\n",
    "    \"leaf8.56_minus_seed_today\"\n",
    "], descending=True)\n"
   ]
  },
  {
   "cell_type": "code",
   "execution_count": null,
   "id": "0e490607",
   "metadata": {},
   "outputs": [
    {
     "data": {
      "text/html": [
       "<div><style>\n",
       ".dataframe > thead > tr,\n",
       ".dataframe > tbody > tr {\n",
       "  text-align: right;\n",
       "  white-space: pre-wrap;\n",
       "}\n",
       "</style>\n",
       "<small>shape: (8, 4)</small><table border=\"1\" class=\"dataframe\"><thead><tr><th>herb</th><th>leaf8.56_minus_seed</th><th>leaf8.56_minus_seed_today</th><th>today_minus_next_seed</th></tr><tr><td>str</td><td>f64</td><td>f64</td><td>f64</td></tr></thead><tbody><tr><td>&quot;Toadflax&quot;</td><td>31287.52</td><td>31248.96</td><td>25051.28</td></tr><tr><td>&quot;Harralander&quot;</td><td>6197.68</td><td>5908.64</td><td>2419.6</td></tr><tr><td>&quot;Tarromin&quot;</td><td>3489.04</td><td>3488.04</td><td>-1602.28</td></tr><tr><td>&quot;Marrentill&quot;</td><td>5090.32</td><td>4867.76</td><td>-26115.28</td></tr><tr><td>&quot;Ranarr weed&quot;</td><td>30983.04</td><td>31396.36</td><td>7342.72</td></tr><tr><td>&quot;Irit leaf&quot;</td><td>24053.64</td><td>23901.56</td><td>-7418.2</td></tr><tr><td>&quot;Avantoe&quot;</td><td>31319.76</td><td>31812.36</td><td>1566.08</td></tr><tr><td>&quot;Kwuarm&quot;</td><td>30246.28</td><td>29169.76</td><td>null</td></tr></tbody></table></div>"
      ],
      "text/plain": [
       "shape: (8, 4)\n",
       "┌─────────────┬─────────────────────┬───────────────────────────┬───────────────────────┐\n",
       "│ herb        ┆ leaf8.56_minus_seed ┆ leaf8.56_minus_seed_today ┆ today_minus_next_seed │\n",
       "│ ---         ┆ ---                 ┆ ---                       ┆ ---                   │\n",
       "│ str         ┆ f64                 ┆ f64                       ┆ f64                   │\n",
       "╞═════════════╪═════════════════════╪═══════════════════════════╪═══════════════════════╡\n",
       "│ Toadflax    ┆ 31287.52            ┆ 31248.96                  ┆ 25051.28              │\n",
       "│ Harralander ┆ 6197.68             ┆ 5908.64                   ┆ 2419.6                │\n",
       "│ Tarromin    ┆ 3489.04             ┆ 3488.04                   ┆ -1602.28              │\n",
       "│ Marrentill  ┆ 5090.32             ┆ 4867.76                   ┆ -26115.28             │\n",
       "│ Ranarr weed ┆ 30983.04            ┆ 31396.36                  ┆ 7342.72               │\n",
       "│ Irit leaf   ┆ 24053.64            ┆ 23901.56                  ┆ -7418.2               │\n",
       "│ Avantoe     ┆ 31319.76            ┆ 31812.36                  ┆ 1566.08               │\n",
       "│ Kwuarm      ┆ 30246.28            ┆ 29169.76                  ┆ null                  │\n",
       "└─────────────┴─────────────────────┴───────────────────────────┴───────────────────────┘"
      ]
     },
     "execution_count": 31,
     "metadata": {},
     "output_type": "execute_result"
    },
    {
     "ename": "",
     "evalue": "",
     "output_type": "error",
     "traceback": [
      "\u001b[1;31mThe Kernel crashed while executing code in the current cell or a previous cell. \n",
      "\u001b[1;31mPlease review the code in the cell(s) to identify a possible cause of the failure. \n",
      "\u001b[1;31mClick <a href='https://aka.ms/vscodeJupyterKernelCrash'>here</a> for more info. \n",
      "\u001b[1;31mView Jupyter <a href='command:jupyter.viewOutput'>log</a> for further details."
     ]
    }
   ],
   "source": [
    "# Display the difference between leaf8.56_minus_seed_today and the next row's leaf8.56_minus_seed\n",
    "df = df.with_columns([\n",
    "    (df[\"leaf8.56_minus_seed_today\"] - df[\"leaf8.56_minus_seed\"].shift(-1)).alias(\"today_minus_next_seed\")\n",
    "])\n",
    "df.select([\n",
    "    \"herb\",\n",
    "    \"leaf8.56_minus_seed\",\n",
    "    \"leaf8.56_minus_seed_today\",\n",
    "    \"today_minus_next_seed\"\n",
    "])"
   ]
  }
 ],
 "metadata": {
  "kernelspec": {
   "display_name": "polars",
   "language": "python",
   "name": "python3"
  },
  "language_info": {
   "codemirror_mode": {
    "name": "ipython",
    "version": 3
   },
   "file_extension": ".py",
   "mimetype": "text/x-python",
   "name": "python",
   "nbconvert_exporter": "python",
   "pygments_lexer": "ipython3",
   "version": "3.11.13"
  }
 },
 "nbformat": 4,
 "nbformat_minor": 5
}
