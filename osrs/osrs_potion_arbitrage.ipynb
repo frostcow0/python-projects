{
 "cells": [
  {
   "cell_type": "code",
   "execution_count": 1,
   "id": "cae679ca",
   "metadata": {},
   "outputs": [],
   "source": [
    "import requests\n",
    "import polars as pl"
   ]
  },
  {
   "cell_type": "code",
   "execution_count": 22,
   "id": "e7bc1975",
   "metadata": {},
   "outputs": [
    {
     "name": "stdout",
     "output_type": "stream",
     "text": [
      "Agility potion(3)\n",
      "Antifire potion(3)\n",
      "Attack potion(3)\n",
      "Bastion potion(3)\n",
      "Battlemage potion(3)\n",
      "Combat potion(3)\n",
      "Compost potion(3)\n",
      "Defence potion(3)\n",
      "Divine bastion potion(3)\n",
      "Divine battlemage potion(3)\n",
      "Divine magic potion(3)\n",
      "Divine ranging potion(3)\n",
      "Divine super attack potion(3)\n",
      "Divine super combat potion(3)\n",
      "Divine super defence potion(3)\n",
      "Divine super strength potion(3)\n"
     ]
    }
   ],
   "source": [
    "# [(dose4, Seed)]\n",
    "# herbs = [\n",
    "#     (\"Toadflax\", \"Toadflax seed\"), (\"Harralander\", \"Harralander seed\"), (\"Tarromin\", \"Tarromin seed\"),\n",
    "#     (\"Marrentill\", \"Marrentill seed\"), (\"Ranarr weed\", \"Ranarr seed\"),\n",
    "#     (\"Irit leaf\", \"Irit seed\"), (\"Avantoe\", \"Avantoe seed\"), (\"Kwuarm\", \"Kwuarm seed\")\n",
    "# ]\n",
    "\n",
    "# https://oldschool.runescape.wiki/w/Item_IDs\n",
    "details_url = \"https://secure.runescape.com/m=itemdb_oldschool/api/catalogue/detail.json\"\n",
    "\n",
    "useful_keys = [\"current\"]\n",
    "herbs = [(3034, 3032), (2454, 2452), (121, 2428),\n",
    "         (22464, 22461), (22452, 22449), (9741, 9739), (6472, 6470),\n",
    "         (133, 2432), (24638, 24635), (24626, 24623), (23748, 23745),\n",
    "         (23736, 23733), (23700, 23697), (23688, 23685), (23724, 23721),\n",
    "         (23712, 23709)]\n",
    "results = {}\n",
    "\n",
    "for dose3, dose4 in herbs:\n",
    "    dose3_data, dose4_data = None, None\n",
    "    # dose3\n",
    "    dose3_response = requests.get(details_url, params={\"item\":dose3})\n",
    "    if dose3_response.status_code == 200:\n",
    "        dose3_data = dose3_response.json()[\"item\"]\n",
    "        print(dose3_data[\"name\"])\n",
    "    # dose4\n",
    "    dose4_response = requests.get(details_url, params={\"item\":dose4})\n",
    "    if dose4_response.status_code == 200:\n",
    "        dose4_data = dose4_response.json()[\"item\"]\n",
    "    if not dose3_data or not dose4_data:\n",
    "        print(f\"Error with {dose3}:\\n\\t{dose3_response.status_code}\\n\\t{dose4_response.status_code}\")\n",
    "    else:\n",
    "        results[dose3_data[\"name\"]] = (\n",
    "            [dose3_data[key] for key in dose3_data.keys() if key in useful_keys],\n",
    "            [dose4_data[key] for key in dose4_data.keys() if key in useful_keys]\n",
    "        )\n",
    "    # break"
   ]
  },
  {
   "cell_type": "code",
   "execution_count": 23,
   "id": "29d7f605",
   "metadata": {},
   "outputs": [
    {
     "data": {
      "text/plain": [
       "([{'trend': 'neutral', 'price': 224}], [{'trend': 'neutral', 'price': 367}])"
      ]
     },
     "execution_count": 23,
     "metadata": {},
     "output_type": "execute_result"
    }
   ],
   "source": [
    "results[\"Agility potion(3)\"]"
   ]
  },
  {
   "cell_type": "code",
   "execution_count": 26,
   "id": "81bb3bb2",
   "metadata": {},
   "outputs": [
    {
     "data": {
      "text/html": [
       "<div><style>\n",
       ".dataframe > thead > tr,\n",
       ".dataframe > tbody > tr {\n",
       "  text-align: right;\n",
       "  white-space: pre-wrap;\n",
       "}\n",
       "</style>\n",
       "<small>shape: (16, 5)</small><table border=\"1\" class=\"dataframe\"><thead><tr><th>potion</th><th>dose3_current</th><th>dose4_current</th><th>dose3_trend</th><th>dose4_trend</th></tr><tr><td>str</td><td>i64</td><td>i64</td><td>str</td><td>str</td></tr></thead><tbody><tr><td>&quot;Agility potion(3)&quot;</td><td>224</td><td>367</td><td>&quot;neutral&quot;</td><td>&quot;neutral&quot;</td></tr><tr><td>&quot;Antifire potion(3)&quot;</td><td>1384</td><td>1980</td><td>&quot;neutral&quot;</td><td>&quot;neutral&quot;</td></tr><tr><td>&quot;Attack potion(3)&quot;</td><td>8</td><td>21</td><td>&quot;neutral&quot;</td><td>&quot;neutral&quot;</td></tr><tr><td>&quot;Bastion potion(3)&quot;</td><td>15800</td><td>21000</td><td>&quot;neutral&quot;</td><td>&quot;neutral&quot;</td></tr><tr><td>&quot;Battlemage potion(3)&quot;</td><td>14200</td><td>19800</td><td>&quot;neutral&quot;</td><td>&quot;neutral&quot;</td></tr><tr><td>&hellip;</td><td>&hellip;</td><td>&hellip;</td><td>&hellip;</td><td>&hellip;</td></tr><tr><td>&quot;Divine ranging potion(3)&quot;</td><td>6691</td><td>9294</td><td>&quot;neutral&quot;</td><td>&quot;neutral&quot;</td></tr><tr><td>&quot;Divine super attack potion(3)&quot;</td><td>2293</td><td>5936</td><td>&quot;neutral&quot;</td><td>&quot;neutral&quot;</td></tr><tr><td>&quot;Divine super combat potion(3)&quot;</td><td>19400</td><td>24700</td><td>&quot;neutral&quot;</td><td>&quot;neutral&quot;</td></tr><tr><td>&quot;Divine super defence potion(3)&quot;</td><td>2352</td><td>6252</td><td>&quot;neutral&quot;</td><td>&quot;neutral&quot;</td></tr><tr><td>&quot;Divine super strength potion(3…</td><td>5673</td><td>9081</td><td>&quot;neutral&quot;</td><td>&quot;neutral&quot;</td></tr></tbody></table></div>"
      ],
      "text/plain": [
       "shape: (16, 5)\n",
       "┌─────────────────────────────────┬───────────────┬───────────────┬─────────────┬─────────────┐\n",
       "│ potion                          ┆ dose3_current ┆ dose4_current ┆ dose3_trend ┆ dose4_trend │\n",
       "│ ---                             ┆ ---           ┆ ---           ┆ ---         ┆ ---         │\n",
       "│ str                             ┆ i64           ┆ i64           ┆ str         ┆ str         │\n",
       "╞═════════════════════════════════╪═══════════════╪═══════════════╪═════════════╪═════════════╡\n",
       "│ Agility potion(3)               ┆ 224           ┆ 367           ┆ neutral     ┆ neutral     │\n",
       "│ Antifire potion(3)              ┆ 1384          ┆ 1980          ┆ neutral     ┆ neutral     │\n",
       "│ Attack potion(3)                ┆ 8             ┆ 21            ┆ neutral     ┆ neutral     │\n",
       "│ Bastion potion(3)               ┆ 15800         ┆ 21000         ┆ neutral     ┆ neutral     │\n",
       "│ Battlemage potion(3)            ┆ 14200         ┆ 19800         ┆ neutral     ┆ neutral     │\n",
       "│ …                               ┆ …             ┆ …             ┆ …           ┆ …           │\n",
       "│ Divine ranging potion(3)        ┆ 6691          ┆ 9294          ┆ neutral     ┆ neutral     │\n",
       "│ Divine super attack potion(3)   ┆ 2293          ┆ 5936          ┆ neutral     ┆ neutral     │\n",
       "│ Divine super combat potion(3)   ┆ 19400         ┆ 24700         ┆ neutral     ┆ neutral     │\n",
       "│ Divine super defence potion(3)  ┆ 2352          ┆ 6252          ┆ neutral     ┆ neutral     │\n",
       "│ Divine super strength potion(3… ┆ 5673          ┆ 9081          ┆ neutral     ┆ neutral     │\n",
       "└─────────────────────────────────┴───────────────┴───────────────┴─────────────┴─────────────┘"
      ]
     },
     "execution_count": 26,
     "metadata": {},
     "output_type": "execute_result"
    }
   ],
   "source": [
    "# Prepare data for DataFrame with correct handling of 'today' field\n",
    "\n",
    "def parse_int(val):\n",
    "    if isinstance(val, str):\n",
    "        val = val.replace(',', '').strip().lower()\n",
    "        val = val.replace(' ', '').replace('+', '')\n",
    "        if val.endswith('k'):\n",
    "            return int(float(val[:-1]) * 1_000)\n",
    "        elif val.endswith('m'):\n",
    "            return int(float(val[:-1]) * 1_000_000)\n",
    "        try:\n",
    "            return int(val)\n",
    "        except ValueError:\n",
    "            return None\n",
    "    elif isinstance(val, (int, float)):\n",
    "        return int(val)\n",
    "    return None\n",
    "\n",
    "data = []\n",
    "for potion, (dose3_stats, dose4_stats) in results.items():\n",
    "    row = {\n",
    "        \"potion\": potion,\n",
    "        \"dose3_current\": parse_int(dose3_stats[0][\"price\"]) if isinstance(dose3_stats[0], dict) and \"price\" in dose3_stats[0] else None,\n",
    "        \"dose4_current\": parse_int(dose4_stats[0][\"price\"]) if isinstance(dose4_stats[0], dict) and \"price\" in dose4_stats[0] else None,\n",
    "        \"dose3_trend\": dose3_stats[0][\"trend\"] if isinstance(dose3_stats[0], dict) and \"trend\" in dose3_stats[0] else None,\n",
    "        \"dose4_trend\": dose4_stats[0][\"trend\"] if isinstance(dose4_stats[0], dict) and \"trend\" in dose4_stats[0] else None,\n",
    "        # \"dose3_today\": parse_int(dose3_stats[1][\"price\"]),  # 'today' is a direct value, not a dict\n",
    "        # \"dose4_today\": parse_int(dose4_stats[1][\"price\"]),  # 'today' is a direct value, not a dict\n",
    "        # \"dose3_day30\": dose3_stats[2][\"trend\"] if isinstance(dose3_stats[2], dict) and \"trend\" in dose3_stats[2] else dose3_stats[2],\n",
    "        # \"dose4_day30\": dose4_stats[2][\"trend\"] if isinstance(dose4_stats[2], dict) and \"trend\" in dose4_stats[2] else dose4_stats[2],\n",
    "        # \"dose3_day90\": dose3_stats[3][\"change\"] if isinstance(dose3_stats[3], dict) and \"change\" in dose3_stats[3] else dose3_stats[3],\n",
    "        # \"dose4_day90\": dose4_stats[3][\"change\"] if isinstance(dose4_stats[3], dict) and \"change\" in dose4_stats[3] else dose4_stats[3],\n",
    "        # \"dose3_day180\": dose3_stats[4][\"change\"] if isinstance(dose3_stats[4], dict) and \"change\" in dose3_stats[4] else dose3_stats[4],\n",
    "        # \"dose4_day180\": dose4_stats[4][\"change\"] if isinstance(dose4_stats[4], dict) and \"change\" in dose4_stats[4] else dose4_stats[4],\n",
    "    }\n",
    "    data.append(row)\n",
    "\n",
    "df = pl.DataFrame(data)\n",
    "df"
   ]
  },
  {
   "cell_type": "code",
   "execution_count": 27,
   "id": "6a3d2381",
   "metadata": {},
   "outputs": [
    {
     "data": {
      "text/html": [
       "<div><style>\n",
       ".dataframe > thead > tr,\n",
       ".dataframe > tbody > tr {\n",
       "  text-align: right;\n",
       "  white-space: pre-wrap;\n",
       "}\n",
       "</style>\n",
       "<small>shape: (16, 7)</small><table border=\"1\" class=\"dataframe\"><thead><tr><th>potion</th><th>dose3_current</th><th>dose4_current</th><th>dose3_trend</th><th>dose4_trend</th><th>dose4_per_dose_current</th><th>dose3_per_dose_current</th></tr><tr><td>str</td><td>i64</td><td>i64</td><td>str</td><td>str</td><td>f64</td><td>f64</td></tr></thead><tbody><tr><td>&quot;Agility potion(3)&quot;</td><td>224</td><td>367</td><td>&quot;neutral&quot;</td><td>&quot;neutral&quot;</td><td>91.75</td><td>74.666667</td></tr><tr><td>&quot;Antifire potion(3)&quot;</td><td>1384</td><td>1980</td><td>&quot;neutral&quot;</td><td>&quot;neutral&quot;</td><td>495.0</td><td>461.333333</td></tr><tr><td>&quot;Attack potion(3)&quot;</td><td>8</td><td>21</td><td>&quot;neutral&quot;</td><td>&quot;neutral&quot;</td><td>5.25</td><td>2.666667</td></tr><tr><td>&quot;Bastion potion(3)&quot;</td><td>15800</td><td>21000</td><td>&quot;neutral&quot;</td><td>&quot;neutral&quot;</td><td>5250.0</td><td>5266.666667</td></tr><tr><td>&quot;Battlemage potion(3)&quot;</td><td>14200</td><td>19800</td><td>&quot;neutral&quot;</td><td>&quot;neutral&quot;</td><td>4950.0</td><td>4733.333333</td></tr><tr><td>&hellip;</td><td>&hellip;</td><td>&hellip;</td><td>&hellip;</td><td>&hellip;</td><td>&hellip;</td><td>&hellip;</td></tr><tr><td>&quot;Divine ranging potion(3)&quot;</td><td>6691</td><td>9294</td><td>&quot;neutral&quot;</td><td>&quot;neutral&quot;</td><td>2323.5</td><td>2230.333333</td></tr><tr><td>&quot;Divine super attack potion(3)&quot;</td><td>2293</td><td>5936</td><td>&quot;neutral&quot;</td><td>&quot;neutral&quot;</td><td>1484.0</td><td>764.333333</td></tr><tr><td>&quot;Divine super combat potion(3)&quot;</td><td>19400</td><td>24700</td><td>&quot;neutral&quot;</td><td>&quot;neutral&quot;</td><td>6175.0</td><td>6466.666667</td></tr><tr><td>&quot;Divine super defence potion(3)&quot;</td><td>2352</td><td>6252</td><td>&quot;neutral&quot;</td><td>&quot;neutral&quot;</td><td>1563.0</td><td>784.0</td></tr><tr><td>&quot;Divine super strength potion(3…</td><td>5673</td><td>9081</td><td>&quot;neutral&quot;</td><td>&quot;neutral&quot;</td><td>2270.25</td><td>1891.0</td></tr></tbody></table></div>"
      ],
      "text/plain": [
       "shape: (16, 7)\n",
       "┌──────────────┬─────────────┬─────────────┬─────────────┬─────────────┬─────────────┬─────────────┐\n",
       "│ potion       ┆ dose3_curre ┆ dose4_curre ┆ dose3_trend ┆ dose4_trend ┆ dose4_per_d ┆ dose3_per_d │\n",
       "│ ---          ┆ nt          ┆ nt          ┆ ---         ┆ ---         ┆ ose_current ┆ ose_current │\n",
       "│ str          ┆ ---         ┆ ---         ┆ str         ┆ str         ┆ ---         ┆ ---         │\n",
       "│              ┆ i64         ┆ i64         ┆             ┆             ┆ f64         ┆ f64         │\n",
       "╞══════════════╪═════════════╪═════════════╪═════════════╪═════════════╪═════════════╪═════════════╡\n",
       "│ Agility      ┆ 224         ┆ 367         ┆ neutral     ┆ neutral     ┆ 91.75       ┆ 74.666667   │\n",
       "│ potion(3)    ┆             ┆             ┆             ┆             ┆             ┆             │\n",
       "│ Antifire     ┆ 1384        ┆ 1980        ┆ neutral     ┆ neutral     ┆ 495.0       ┆ 461.333333  │\n",
       "│ potion(3)    ┆             ┆             ┆             ┆             ┆             ┆             │\n",
       "│ Attack       ┆ 8           ┆ 21          ┆ neutral     ┆ neutral     ┆ 5.25        ┆ 2.666667    │\n",
       "│ potion(3)    ┆             ┆             ┆             ┆             ┆             ┆             │\n",
       "│ Bastion      ┆ 15800       ┆ 21000       ┆ neutral     ┆ neutral     ┆ 5250.0      ┆ 5266.666667 │\n",
       "│ potion(3)    ┆             ┆             ┆             ┆             ┆             ┆             │\n",
       "│ Battlemage   ┆ 14200       ┆ 19800       ┆ neutral     ┆ neutral     ┆ 4950.0      ┆ 4733.333333 │\n",
       "│ potion(3)    ┆             ┆             ┆             ┆             ┆             ┆             │\n",
       "│ …            ┆ …           ┆ …           ┆ …           ┆ …           ┆ …           ┆ …           │\n",
       "│ Divine       ┆ 6691        ┆ 9294        ┆ neutral     ┆ neutral     ┆ 2323.5      ┆ 2230.333333 │\n",
       "│ ranging      ┆             ┆             ┆             ┆             ┆             ┆             │\n",
       "│ potion(3)    ┆             ┆             ┆             ┆             ┆             ┆             │\n",
       "│ Divine super ┆ 2293        ┆ 5936        ┆ neutral     ┆ neutral     ┆ 1484.0      ┆ 764.333333  │\n",
       "│ attack       ┆             ┆             ┆             ┆             ┆             ┆             │\n",
       "│ potion(3)    ┆             ┆             ┆             ┆             ┆             ┆             │\n",
       "│ Divine super ┆ 19400       ┆ 24700       ┆ neutral     ┆ neutral     ┆ 6175.0      ┆ 6466.666667 │\n",
       "│ combat       ┆             ┆             ┆             ┆             ┆             ┆             │\n",
       "│ potion(3)    ┆             ┆             ┆             ┆             ┆             ┆             │\n",
       "│ Divine super ┆ 2352        ┆ 6252        ┆ neutral     ┆ neutral     ┆ 1563.0      ┆ 784.0       │\n",
       "│ defence      ┆             ┆             ┆             ┆             ┆             ┆             │\n",
       "│ potion(3)    ┆             ┆             ┆             ┆             ┆             ┆             │\n",
       "│ Divine super ┆ 5673        ┆ 9081        ┆ neutral     ┆ neutral     ┆ 2270.25     ┆ 1891.0      │\n",
       "│ strength     ┆             ┆             ┆             ┆             ┆             ┆             │\n",
       "│ potion(3…    ┆             ┆             ┆             ┆             ┆             ┆             │\n",
       "└──────────────┴─────────────┴─────────────┴─────────────┴─────────────┴─────────────┴─────────────┘"
      ]
     },
     "execution_count": 27,
     "metadata": {},
     "output_type": "execute_result"
    }
   ],
   "source": [
    "# Calculate new columns as described\n",
    "\n",
    "df = df.with_columns([\n",
    "    (df[\"dose4_current\"] / 4).alias(\"dose4_per_dose_current\"),\n",
    "    (df[\"dose3_current\"] / 3).alias(\"dose3_per_dose_current\"),\n",
    "])\n",
    "df"
   ]
  },
  {
   "cell_type": "code",
   "execution_count": 13,
   "id": "cbf6e150",
   "metadata": {},
   "outputs": [
    {
     "data": {
      "text/html": [
       "<div><style>\n",
       ".dataframe > thead > tr,\n",
       ".dataframe > tbody > tr {\n",
       "  text-align: right;\n",
       "  white-space: pre-wrap;\n",
       "}\n",
       "</style>\n",
       "<small>shape: (16, 3)</small><table border=\"1\" class=\"dataframe\"><thead><tr><th>potion</th><th>dose4_per_dose_current</th><th>dose3_per_dose_current</th></tr><tr><td>str</td><td>f64</td><td>f64</td></tr></thead><tbody><tr><td>&quot;Divine bastion potion(3)&quot;</td><td>6600.0</td><td>6866.666667</td></tr><tr><td>&quot;Divine super combat potion(3)&quot;</td><td>6175.0</td><td>6466.666667</td></tr><tr><td>&quot;Divine battlemage potion(3)&quot;</td><td>6100.0</td><td>5600.0</td></tr><tr><td>&quot;Bastion potion(3)&quot;</td><td>5250.0</td><td>5266.666667</td></tr><tr><td>&quot;Battlemage potion(3)&quot;</td><td>4950.0</td><td>4733.333333</td></tr><tr><td>&hellip;</td><td>&hellip;</td><td>&hellip;</td></tr><tr><td>&quot;Defence potion(3)&quot;</td><td>170.75</td><td>143.666667</td></tr><tr><td>&quot;Agility potion(3)&quot;</td><td>91.75</td><td>74.666667</td></tr><tr><td>&quot;Combat potion(3)&quot;</td><td>68.0</td><td>42.666667</td></tr><tr><td>&quot;Attack potion(3)&quot;</td><td>5.25</td><td>2.666667</td></tr><tr><td>&quot;Compost potion(3)&quot;</td><td>0.75</td><td>0.333333</td></tr></tbody></table></div>"
      ],
      "text/plain": [
       "shape: (16, 3)\n",
       "┌───────────────────────────────┬────────────────────────┬────────────────────────┐\n",
       "│ potion                        ┆ dose4_per_dose_current ┆ dose3_per_dose_current │\n",
       "│ ---                           ┆ ---                    ┆ ---                    │\n",
       "│ str                           ┆ f64                    ┆ f64                    │\n",
       "╞═══════════════════════════════╪════════════════════════╪════════════════════════╡\n",
       "│ Divine bastion potion(3)      ┆ 6600.0                 ┆ 6866.666667            │\n",
       "│ Divine super combat potion(3) ┆ 6175.0                 ┆ 6466.666667            │\n",
       "│ Divine battlemage potion(3)   ┆ 6100.0                 ┆ 5600.0                 │\n",
       "│ Bastion potion(3)             ┆ 5250.0                 ┆ 5266.666667            │\n",
       "│ Battlemage potion(3)          ┆ 4950.0                 ┆ 4733.333333            │\n",
       "│ …                             ┆ …                      ┆ …                      │\n",
       "│ Defence potion(3)             ┆ 170.75                 ┆ 143.666667             │\n",
       "│ Agility potion(3)             ┆ 91.75                  ┆ 74.666667              │\n",
       "│ Combat potion(3)              ┆ 68.0                   ┆ 42.666667              │\n",
       "│ Attack potion(3)              ┆ 5.25                   ┆ 2.666667               │\n",
       "│ Compost potion(3)             ┆ 0.75                   ┆ 0.333333               │\n",
       "└───────────────────────────────┴────────────────────────┴────────────────────────┘"
      ]
     },
     "execution_count": 13,
     "metadata": {},
     "output_type": "execute_result"
    }
   ],
   "source": [
    "# Select and sort the relevant columns\n",
    "df.select([\n",
    "    \"potion\",\n",
    "    \"dose4_per_dose_current\",\n",
    "    \"dose3_per_dose_current\"\n",
    "]).sort([\n",
    "    \"dose4_per_dose_current\",\n",
    "    \"dose3_per_dose_current\"\n",
    "], descending=True)\n"
   ]
  },
  {
   "cell_type": "code",
   "execution_count": 29,
   "id": "ea08c229",
   "metadata": {},
   "outputs": [
    {
     "data": {
      "text/html": [
       "<div><style>\n",
       ".dataframe > thead > tr,\n",
       ".dataframe > tbody > tr {\n",
       "  text-align: right;\n",
       "  white-space: pre-wrap;\n",
       "}\n",
       "</style>\n",
       "<small>shape: (16, 8)</small><table border=\"1\" class=\"dataframe\"><thead><tr><th>potion</th><th>dose3_current</th><th>dose4_current</th><th>dose3_trend</th><th>dose4_trend</th><th>dose4_per_dose_current</th><th>dose3_per_dose_current</th><th>per_dose_difference</th></tr><tr><td>str</td><td>i64</td><td>i64</td><td>str</td><td>str</td><td>f64</td><td>f64</td><td>f64</td></tr></thead><tbody><tr><td>&quot;Divine super defence potion(3)&quot;</td><td>2352</td><td>6252</td><td>&quot;neutral&quot;</td><td>&quot;neutral&quot;</td><td>1563.0</td><td>784.0</td><td>779.0</td></tr><tr><td>&quot;Divine super attack potion(3)&quot;</td><td>2293</td><td>5936</td><td>&quot;neutral&quot;</td><td>&quot;neutral&quot;</td><td>1484.0</td><td>764.333333</td><td>719.666667</td></tr><tr><td>&quot;Divine battlemage potion(3)&quot;</td><td>16800</td><td>24400</td><td>&quot;neutral&quot;</td><td>&quot;neutral&quot;</td><td>6100.0</td><td>5600.0</td><td>500.0</td></tr><tr><td>&quot;Divine super strength potion(3…</td><td>5673</td><td>9081</td><td>&quot;neutral&quot;</td><td>&quot;neutral&quot;</td><td>2270.25</td><td>1891.0</td><td>379.25</td></tr><tr><td>&quot;Battlemage potion(3)&quot;</td><td>14200</td><td>19800</td><td>&quot;neutral&quot;</td><td>&quot;neutral&quot;</td><td>4950.0</td><td>4733.333333</td><td>216.666667</td></tr><tr><td>&hellip;</td><td>&hellip;</td><td>&hellip;</td><td>&hellip;</td><td>&hellip;</td><td>&hellip;</td><td>&hellip;</td><td>&hellip;</td></tr><tr><td>&quot;Attack potion(3)&quot;</td><td>8</td><td>21</td><td>&quot;neutral&quot;</td><td>&quot;neutral&quot;</td><td>5.25</td><td>2.666667</td><td>2.583333</td></tr><tr><td>&quot;Compost potion(3)&quot;</td><td>1</td><td>3</td><td>&quot;neutral&quot;</td><td>&quot;neutral&quot;</td><td>0.75</td><td>0.333333</td><td>0.416667</td></tr><tr><td>&quot;Bastion potion(3)&quot;</td><td>15800</td><td>21000</td><td>&quot;neutral&quot;</td><td>&quot;neutral&quot;</td><td>5250.0</td><td>5266.666667</td><td>-16.666667</td></tr><tr><td>&quot;Divine bastion potion(3)&quot;</td><td>20600</td><td>26400</td><td>&quot;neutral&quot;</td><td>&quot;neutral&quot;</td><td>6600.0</td><td>6866.666667</td><td>-266.666667</td></tr><tr><td>&quot;Divine super combat potion(3)&quot;</td><td>19400</td><td>24700</td><td>&quot;neutral&quot;</td><td>&quot;neutral&quot;</td><td>6175.0</td><td>6466.666667</td><td>-291.666667</td></tr></tbody></table></div>"
      ],
      "text/plain": [
       "shape: (16, 8)\n",
       "┌────────────┬────────────┬────────────┬───────────┬───────────┬───────────┬───────────┬───────────┐\n",
       "│ potion     ┆ dose3_curr ┆ dose4_curr ┆ dose3_tre ┆ dose4_tre ┆ dose4_per ┆ dose3_per ┆ per_dose_ │\n",
       "│ ---        ┆ ent        ┆ ent        ┆ nd        ┆ nd        ┆ _dose_cur ┆ _dose_cur ┆ differenc │\n",
       "│ str        ┆ ---        ┆ ---        ┆ ---       ┆ ---       ┆ rent      ┆ rent      ┆ e         │\n",
       "│            ┆ i64        ┆ i64        ┆ str       ┆ str       ┆ ---       ┆ ---       ┆ ---       │\n",
       "│            ┆            ┆            ┆           ┆           ┆ f64       ┆ f64       ┆ f64       │\n",
       "╞════════════╪════════════╪════════════╪═══════════╪═══════════╪═══════════╪═══════════╪═══════════╡\n",
       "│ Divine     ┆ 2352       ┆ 6252       ┆ neutral   ┆ neutral   ┆ 1563.0    ┆ 784.0     ┆ 779.0     │\n",
       "│ super      ┆            ┆            ┆           ┆           ┆           ┆           ┆           │\n",
       "│ defence    ┆            ┆            ┆           ┆           ┆           ┆           ┆           │\n",
       "│ potion(3)  ┆            ┆            ┆           ┆           ┆           ┆           ┆           │\n",
       "│ Divine     ┆ 2293       ┆ 5936       ┆ neutral   ┆ neutral   ┆ 1484.0    ┆ 764.33333 ┆ 719.66666 │\n",
       "│ super      ┆            ┆            ┆           ┆           ┆           ┆ 3         ┆ 7         │\n",
       "│ attack     ┆            ┆            ┆           ┆           ┆           ┆           ┆           │\n",
       "│ potion(3)  ┆            ┆            ┆           ┆           ┆           ┆           ┆           │\n",
       "│ Divine     ┆ 16800      ┆ 24400      ┆ neutral   ┆ neutral   ┆ 6100.0    ┆ 5600.0    ┆ 500.0     │\n",
       "│ battlemage ┆            ┆            ┆           ┆           ┆           ┆           ┆           │\n",
       "│ potion(3)  ┆            ┆            ┆           ┆           ┆           ┆           ┆           │\n",
       "│ Divine     ┆ 5673       ┆ 9081       ┆ neutral   ┆ neutral   ┆ 2270.25   ┆ 1891.0    ┆ 379.25    │\n",
       "│ super      ┆            ┆            ┆           ┆           ┆           ┆           ┆           │\n",
       "│ strength   ┆            ┆            ┆           ┆           ┆           ┆           ┆           │\n",
       "│ potion(3…  ┆            ┆            ┆           ┆           ┆           ┆           ┆           │\n",
       "│ Battlemage ┆ 14200      ┆ 19800      ┆ neutral   ┆ neutral   ┆ 4950.0    ┆ 4733.3333 ┆ 216.66666 │\n",
       "│ potion(3)  ┆            ┆            ┆           ┆           ┆           ┆ 33        ┆ 7         │\n",
       "│ …          ┆ …          ┆ …          ┆ …         ┆ …         ┆ …         ┆ …         ┆ …         │\n",
       "│ Attack     ┆ 8          ┆ 21         ┆ neutral   ┆ neutral   ┆ 5.25      ┆ 2.666667  ┆ 2.583333  │\n",
       "│ potion(3)  ┆            ┆            ┆           ┆           ┆           ┆           ┆           │\n",
       "│ Compost    ┆ 1          ┆ 3          ┆ neutral   ┆ neutral   ┆ 0.75      ┆ 0.333333  ┆ 0.416667  │\n",
       "│ potion(3)  ┆            ┆            ┆           ┆           ┆           ┆           ┆           │\n",
       "│ Bastion    ┆ 15800      ┆ 21000      ┆ neutral   ┆ neutral   ┆ 5250.0    ┆ 5266.6666 ┆ -16.66666 │\n",
       "│ potion(3)  ┆            ┆            ┆           ┆           ┆           ┆ 67        ┆ 7         │\n",
       "│ Divine     ┆ 20600      ┆ 26400      ┆ neutral   ┆ neutral   ┆ 6600.0    ┆ 6866.6666 ┆ -266.6666 │\n",
       "│ bastion    ┆            ┆            ┆           ┆           ┆           ┆ 67        ┆ 67        │\n",
       "│ potion(3)  ┆            ┆            ┆           ┆           ┆           ┆           ┆           │\n",
       "│ Divine     ┆ 19400      ┆ 24700      ┆ neutral   ┆ neutral   ┆ 6175.0    ┆ 6466.6666 ┆ -291.6666 │\n",
       "│ super      ┆            ┆            ┆           ┆           ┆           ┆ 67        ┆ 67        │\n",
       "│ combat     ┆            ┆            ┆           ┆           ┆           ┆           ┆           │\n",
       "│ potion(3)  ┆            ┆            ┆           ┆           ┆           ┆           ┆           │\n",
       "└────────────┴────────────┴────────────┴───────────┴───────────┴───────────┴───────────┴───────────┘"
      ]
     },
     "execution_count": 29,
     "metadata": {},
     "output_type": "execute_result"
    }
   ],
   "source": [
    "# Display the difference between leaf8.56_minus_seed_today and the next row's leaf8.56_minus_seed\n",
    "df = df.with_columns([\n",
    "    (df[\"dose4_per_dose_current\"] - df[\"dose3_per_dose_current\"]).alias(\"per_dose_difference\"),\n",
    "])\n",
    "df.sort([\n",
    "    \"per_dose_difference\"\n",
    "], descending=True)"
   ]
  },
  {
   "cell_type": "code",
   "execution_count": null,
   "id": "c01d6137",
   "metadata": {},
   "outputs": [],
   "source": []
  }
 ],
 "metadata": {
  "kernelspec": {
   "display_name": "polars",
   "language": "python",
   "name": "python3"
  },
  "language_info": {
   "codemirror_mode": {
    "name": "ipython",
    "version": 3
   },
   "file_extension": ".py",
   "mimetype": "text/x-python",
   "name": "python",
   "nbconvert_exporter": "python",
   "pygments_lexer": "ipython3",
   "version": "3.11.13"
  }
 },
 "nbformat": 4,
 "nbformat_minor": 5
}
