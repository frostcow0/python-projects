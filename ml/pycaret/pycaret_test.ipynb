{
 "cells": [
  {
   "cell_type": "markdown",
   "metadata": {},
   "source": [
    "# Testing PyCaret"
   ]
  },
  {
   "cell_type": "code",
   "execution_count": 12,
   "metadata": {},
   "outputs": [],
   "source": [
    "import pandas as pd\n",
    "from pycaret.clustering import *\n",
    "from sklearn.model_selection import train_test_split"
   ]
  },
  {
   "cell_type": "code",
   "execution_count": 5,
   "metadata": {},
   "outputs": [
    {
     "data": {
      "text/html": [
       "<div>\n",
       "<style scoped>\n",
       "    .dataframe tbody tr th:only-of-type {\n",
       "        vertical-align: middle;\n",
       "    }\n",
       "\n",
       "    .dataframe tbody tr th {\n",
       "        vertical-align: top;\n",
       "    }\n",
       "\n",
       "    .dataframe thead th {\n",
       "        text-align: right;\n",
       "    }\n",
       "</style>\n",
       "<table border=\"1\" class=\"dataframe\">\n",
       "  <thead>\n",
       "    <tr style=\"text-align: right;\">\n",
       "      <th></th>\n",
       "      <th>sepal_length</th>\n",
       "      <th>sepal_width</th>\n",
       "      <th>petal_length</th>\n",
       "      <th>petal_width</th>\n",
       "    </tr>\n",
       "  </thead>\n",
       "  <tbody>\n",
       "    <tr>\n",
       "      <th>count</th>\n",
       "      <td>150.000000</td>\n",
       "      <td>150.000000</td>\n",
       "      <td>150.000000</td>\n",
       "      <td>150.000000</td>\n",
       "    </tr>\n",
       "    <tr>\n",
       "      <th>mean</th>\n",
       "      <td>5.843333</td>\n",
       "      <td>3.054000</td>\n",
       "      <td>3.758667</td>\n",
       "      <td>1.198667</td>\n",
       "    </tr>\n",
       "    <tr>\n",
       "      <th>std</th>\n",
       "      <td>0.828066</td>\n",
       "      <td>0.433594</td>\n",
       "      <td>1.764420</td>\n",
       "      <td>0.763161</td>\n",
       "    </tr>\n",
       "    <tr>\n",
       "      <th>min</th>\n",
       "      <td>4.300000</td>\n",
       "      <td>2.000000</td>\n",
       "      <td>1.000000</td>\n",
       "      <td>0.100000</td>\n",
       "    </tr>\n",
       "    <tr>\n",
       "      <th>25%</th>\n",
       "      <td>5.100000</td>\n",
       "      <td>2.800000</td>\n",
       "      <td>1.600000</td>\n",
       "      <td>0.300000</td>\n",
       "    </tr>\n",
       "    <tr>\n",
       "      <th>50%</th>\n",
       "      <td>5.800000</td>\n",
       "      <td>3.000000</td>\n",
       "      <td>4.350000</td>\n",
       "      <td>1.300000</td>\n",
       "    </tr>\n",
       "    <tr>\n",
       "      <th>75%</th>\n",
       "      <td>6.400000</td>\n",
       "      <td>3.300000</td>\n",
       "      <td>5.100000</td>\n",
       "      <td>1.800000</td>\n",
       "    </tr>\n",
       "    <tr>\n",
       "      <th>max</th>\n",
       "      <td>7.900000</td>\n",
       "      <td>4.400000</td>\n",
       "      <td>6.900000</td>\n",
       "      <td>2.500000</td>\n",
       "    </tr>\n",
       "  </tbody>\n",
       "</table>\n",
       "</div>"
      ],
      "text/plain": [
       "       sepal_length  sepal_width  petal_length  petal_width\n",
       "count    150.000000   150.000000    150.000000   150.000000\n",
       "mean       5.843333     3.054000      3.758667     1.198667\n",
       "std        0.828066     0.433594      1.764420     0.763161\n",
       "min        4.300000     2.000000      1.000000     0.100000\n",
       "25%        5.100000     2.800000      1.600000     0.300000\n",
       "50%        5.800000     3.000000      4.350000     1.300000\n",
       "75%        6.400000     3.300000      5.100000     1.800000\n",
       "max        7.900000     4.400000      6.900000     2.500000"
      ]
     },
     "execution_count": 5,
     "metadata": {},
     "output_type": "execute_result"
    }
   ],
   "source": [
    "data = pd.read_csv('../udemy/Clustering/iris_dataset.csv')\n",
    "data.describe(include='all')"
   ]
  },
  {
   "cell_type": "code",
   "execution_count": 10,
   "metadata": {},
   "outputs": [],
   "source": [
    "train, test = train_test_split(data, test_size=0.2)"
   ]
  },
  {
   "cell_type": "code",
   "execution_count": 11,
   "metadata": {},
   "outputs": [
    {
     "name": "stdout",
     "output_type": "stream",
     "text": [
      "(120, 4)\n",
      "(30, 4)\n"
     ]
    }
   ],
   "source": [
    "print(train.shape)\n",
    "print(test.shape)"
   ]
  },
  {
   "cell_type": "code",
   "execution_count": 13,
   "metadata": {},
   "outputs": [
    {
     "data": {
      "text/html": [
       "<style type=\"text/css\">\n",
       "#T_eb986_row21_col1 {\n",
       "  background-color: lightgreen;\n",
       "}\n",
       "</style>\n",
       "<table id=\"T_eb986_\">\n",
       "  <thead>\n",
       "    <tr>\n",
       "      <th class=\"blank level0\" >&nbsp;</th>\n",
       "      <th class=\"col_heading level0 col0\" >Description</th>\n",
       "      <th class=\"col_heading level0 col1\" >Value</th>\n",
       "    </tr>\n",
       "  </thead>\n",
       "  <tbody>\n",
       "    <tr>\n",
       "      <th id=\"T_eb986_level0_row0\" class=\"row_heading level0 row0\" >0</th>\n",
       "      <td id=\"T_eb986_row0_col0\" class=\"data row0 col0\" >session_id</td>\n",
       "      <td id=\"T_eb986_row0_col1\" class=\"data row0 col1\" >123</td>\n",
       "    </tr>\n",
       "    <tr>\n",
       "      <th id=\"T_eb986_level0_row1\" class=\"row_heading level0 row1\" >1</th>\n",
       "      <td id=\"T_eb986_row1_col0\" class=\"data row1 col0\" >Original Data</td>\n",
       "      <td id=\"T_eb986_row1_col1\" class=\"data row1 col1\" >(120, 4)</td>\n",
       "    </tr>\n",
       "    <tr>\n",
       "      <th id=\"T_eb986_level0_row2\" class=\"row_heading level0 row2\" >2</th>\n",
       "      <td id=\"T_eb986_row2_col0\" class=\"data row2 col0\" >Missing Values</td>\n",
       "      <td id=\"T_eb986_row2_col1\" class=\"data row2 col1\" >False</td>\n",
       "    </tr>\n",
       "    <tr>\n",
       "      <th id=\"T_eb986_level0_row3\" class=\"row_heading level0 row3\" >3</th>\n",
       "      <td id=\"T_eb986_row3_col0\" class=\"data row3 col0\" >Numeric Features</td>\n",
       "      <td id=\"T_eb986_row3_col1\" class=\"data row3 col1\" >4</td>\n",
       "    </tr>\n",
       "    <tr>\n",
       "      <th id=\"T_eb986_level0_row4\" class=\"row_heading level0 row4\" >4</th>\n",
       "      <td id=\"T_eb986_row4_col0\" class=\"data row4 col0\" >Categorical Features</td>\n",
       "      <td id=\"T_eb986_row4_col1\" class=\"data row4 col1\" >0</td>\n",
       "    </tr>\n",
       "    <tr>\n",
       "      <th id=\"T_eb986_level0_row5\" class=\"row_heading level0 row5\" >5</th>\n",
       "      <td id=\"T_eb986_row5_col0\" class=\"data row5 col0\" >Ordinal Features</td>\n",
       "      <td id=\"T_eb986_row5_col1\" class=\"data row5 col1\" >False</td>\n",
       "    </tr>\n",
       "    <tr>\n",
       "      <th id=\"T_eb986_level0_row6\" class=\"row_heading level0 row6\" >6</th>\n",
       "      <td id=\"T_eb986_row6_col0\" class=\"data row6 col0\" >High Cardinality Features</td>\n",
       "      <td id=\"T_eb986_row6_col1\" class=\"data row6 col1\" >False</td>\n",
       "    </tr>\n",
       "    <tr>\n",
       "      <th id=\"T_eb986_level0_row7\" class=\"row_heading level0 row7\" >7</th>\n",
       "      <td id=\"T_eb986_row7_col0\" class=\"data row7 col0\" >High Cardinality Method</td>\n",
       "      <td id=\"T_eb986_row7_col1\" class=\"data row7 col1\" >None</td>\n",
       "    </tr>\n",
       "    <tr>\n",
       "      <th id=\"T_eb986_level0_row8\" class=\"row_heading level0 row8\" >8</th>\n",
       "      <td id=\"T_eb986_row8_col0\" class=\"data row8 col0\" >Transformed Data</td>\n",
       "      <td id=\"T_eb986_row8_col1\" class=\"data row8 col1\" >(120, 4)</td>\n",
       "    </tr>\n",
       "    <tr>\n",
       "      <th id=\"T_eb986_level0_row9\" class=\"row_heading level0 row9\" >9</th>\n",
       "      <td id=\"T_eb986_row9_col0\" class=\"data row9 col0\" >CPU Jobs</td>\n",
       "      <td id=\"T_eb986_row9_col1\" class=\"data row9 col1\" >-1</td>\n",
       "    </tr>\n",
       "    <tr>\n",
       "      <th id=\"T_eb986_level0_row10\" class=\"row_heading level0 row10\" >10</th>\n",
       "      <td id=\"T_eb986_row10_col0\" class=\"data row10 col0\" >Use GPU</td>\n",
       "      <td id=\"T_eb986_row10_col1\" class=\"data row10 col1\" >False</td>\n",
       "    </tr>\n",
       "    <tr>\n",
       "      <th id=\"T_eb986_level0_row11\" class=\"row_heading level0 row11\" >11</th>\n",
       "      <td id=\"T_eb986_row11_col0\" class=\"data row11 col0\" >Log Experiment</td>\n",
       "      <td id=\"T_eb986_row11_col1\" class=\"data row11 col1\" >False</td>\n",
       "    </tr>\n",
       "    <tr>\n",
       "      <th id=\"T_eb986_level0_row12\" class=\"row_heading level0 row12\" >12</th>\n",
       "      <td id=\"T_eb986_row12_col0\" class=\"data row12 col0\" >Experiment Name</td>\n",
       "      <td id=\"T_eb986_row12_col1\" class=\"data row12 col1\" >cluster-default-name</td>\n",
       "    </tr>\n",
       "    <tr>\n",
       "      <th id=\"T_eb986_level0_row13\" class=\"row_heading level0 row13\" >13</th>\n",
       "      <td id=\"T_eb986_row13_col0\" class=\"data row13 col0\" >USI</td>\n",
       "      <td id=\"T_eb986_row13_col1\" class=\"data row13 col1\" >f64c</td>\n",
       "    </tr>\n",
       "    <tr>\n",
       "      <th id=\"T_eb986_level0_row14\" class=\"row_heading level0 row14\" >14</th>\n",
       "      <td id=\"T_eb986_row14_col0\" class=\"data row14 col0\" >Imputation Type</td>\n",
       "      <td id=\"T_eb986_row14_col1\" class=\"data row14 col1\" >simple</td>\n",
       "    </tr>\n",
       "    <tr>\n",
       "      <th id=\"T_eb986_level0_row15\" class=\"row_heading level0 row15\" >15</th>\n",
       "      <td id=\"T_eb986_row15_col0\" class=\"data row15 col0\" >Iterative Imputation Iteration</td>\n",
       "      <td id=\"T_eb986_row15_col1\" class=\"data row15 col1\" >None</td>\n",
       "    </tr>\n",
       "    <tr>\n",
       "      <th id=\"T_eb986_level0_row16\" class=\"row_heading level0 row16\" >16</th>\n",
       "      <td id=\"T_eb986_row16_col0\" class=\"data row16 col0\" >Numeric Imputer</td>\n",
       "      <td id=\"T_eb986_row16_col1\" class=\"data row16 col1\" >mean</td>\n",
       "    </tr>\n",
       "    <tr>\n",
       "      <th id=\"T_eb986_level0_row17\" class=\"row_heading level0 row17\" >17</th>\n",
       "      <td id=\"T_eb986_row17_col0\" class=\"data row17 col0\" >Iterative Imputation Numeric Model</td>\n",
       "      <td id=\"T_eb986_row17_col1\" class=\"data row17 col1\" >None</td>\n",
       "    </tr>\n",
       "    <tr>\n",
       "      <th id=\"T_eb986_level0_row18\" class=\"row_heading level0 row18\" >18</th>\n",
       "      <td id=\"T_eb986_row18_col0\" class=\"data row18 col0\" >Categorical Imputer</td>\n",
       "      <td id=\"T_eb986_row18_col1\" class=\"data row18 col1\" >mode</td>\n",
       "    </tr>\n",
       "    <tr>\n",
       "      <th id=\"T_eb986_level0_row19\" class=\"row_heading level0 row19\" >19</th>\n",
       "      <td id=\"T_eb986_row19_col0\" class=\"data row19 col0\" >Iterative Imputation Categorical Model</td>\n",
       "      <td id=\"T_eb986_row19_col1\" class=\"data row19 col1\" >None</td>\n",
       "    </tr>\n",
       "    <tr>\n",
       "      <th id=\"T_eb986_level0_row20\" class=\"row_heading level0 row20\" >20</th>\n",
       "      <td id=\"T_eb986_row20_col0\" class=\"data row20 col0\" >Unknown Categoricals Handling</td>\n",
       "      <td id=\"T_eb986_row20_col1\" class=\"data row20 col1\" >least_frequent</td>\n",
       "    </tr>\n",
       "    <tr>\n",
       "      <th id=\"T_eb986_level0_row21\" class=\"row_heading level0 row21\" >21</th>\n",
       "      <td id=\"T_eb986_row21_col0\" class=\"data row21 col0\" >Normalize</td>\n",
       "      <td id=\"T_eb986_row21_col1\" class=\"data row21 col1\" >True</td>\n",
       "    </tr>\n",
       "    <tr>\n",
       "      <th id=\"T_eb986_level0_row22\" class=\"row_heading level0 row22\" >22</th>\n",
       "      <td id=\"T_eb986_row22_col0\" class=\"data row22 col0\" >Normalize Method</td>\n",
       "      <td id=\"T_eb986_row22_col1\" class=\"data row22 col1\" >zscore</td>\n",
       "    </tr>\n",
       "    <tr>\n",
       "      <th id=\"T_eb986_level0_row23\" class=\"row_heading level0 row23\" >23</th>\n",
       "      <td id=\"T_eb986_row23_col0\" class=\"data row23 col0\" >Transformation</td>\n",
       "      <td id=\"T_eb986_row23_col1\" class=\"data row23 col1\" >False</td>\n",
       "    </tr>\n",
       "    <tr>\n",
       "      <th id=\"T_eb986_level0_row24\" class=\"row_heading level0 row24\" >24</th>\n",
       "      <td id=\"T_eb986_row24_col0\" class=\"data row24 col0\" >Transformation Method</td>\n",
       "      <td id=\"T_eb986_row24_col1\" class=\"data row24 col1\" >None</td>\n",
       "    </tr>\n",
       "    <tr>\n",
       "      <th id=\"T_eb986_level0_row25\" class=\"row_heading level0 row25\" >25</th>\n",
       "      <td id=\"T_eb986_row25_col0\" class=\"data row25 col0\" >PCA</td>\n",
       "      <td id=\"T_eb986_row25_col1\" class=\"data row25 col1\" >False</td>\n",
       "    </tr>\n",
       "    <tr>\n",
       "      <th id=\"T_eb986_level0_row26\" class=\"row_heading level0 row26\" >26</th>\n",
       "      <td id=\"T_eb986_row26_col0\" class=\"data row26 col0\" >PCA Method</td>\n",
       "      <td id=\"T_eb986_row26_col1\" class=\"data row26 col1\" >None</td>\n",
       "    </tr>\n",
       "    <tr>\n",
       "      <th id=\"T_eb986_level0_row27\" class=\"row_heading level0 row27\" >27</th>\n",
       "      <td id=\"T_eb986_row27_col0\" class=\"data row27 col0\" >PCA Components</td>\n",
       "      <td id=\"T_eb986_row27_col1\" class=\"data row27 col1\" >None</td>\n",
       "    </tr>\n",
       "    <tr>\n",
       "      <th id=\"T_eb986_level0_row28\" class=\"row_heading level0 row28\" >28</th>\n",
       "      <td id=\"T_eb986_row28_col0\" class=\"data row28 col0\" >Ignore Low Variance</td>\n",
       "      <td id=\"T_eb986_row28_col1\" class=\"data row28 col1\" >False</td>\n",
       "    </tr>\n",
       "    <tr>\n",
       "      <th id=\"T_eb986_level0_row29\" class=\"row_heading level0 row29\" >29</th>\n",
       "      <td id=\"T_eb986_row29_col0\" class=\"data row29 col0\" >Combine Rare Levels</td>\n",
       "      <td id=\"T_eb986_row29_col1\" class=\"data row29 col1\" >False</td>\n",
       "    </tr>\n",
       "    <tr>\n",
       "      <th id=\"T_eb986_level0_row30\" class=\"row_heading level0 row30\" >30</th>\n",
       "      <td id=\"T_eb986_row30_col0\" class=\"data row30 col0\" >Rare Level Threshold</td>\n",
       "      <td id=\"T_eb986_row30_col1\" class=\"data row30 col1\" >None</td>\n",
       "    </tr>\n",
       "    <tr>\n",
       "      <th id=\"T_eb986_level0_row31\" class=\"row_heading level0 row31\" >31</th>\n",
       "      <td id=\"T_eb986_row31_col0\" class=\"data row31 col0\" >Numeric Binning</td>\n",
       "      <td id=\"T_eb986_row31_col1\" class=\"data row31 col1\" >False</td>\n",
       "    </tr>\n",
       "    <tr>\n",
       "      <th id=\"T_eb986_level0_row32\" class=\"row_heading level0 row32\" >32</th>\n",
       "      <td id=\"T_eb986_row32_col0\" class=\"data row32 col0\" >Remove Outliers</td>\n",
       "      <td id=\"T_eb986_row32_col1\" class=\"data row32 col1\" >False</td>\n",
       "    </tr>\n",
       "    <tr>\n",
       "      <th id=\"T_eb986_level0_row33\" class=\"row_heading level0 row33\" >33</th>\n",
       "      <td id=\"T_eb986_row33_col0\" class=\"data row33 col0\" >Outliers Threshold</td>\n",
       "      <td id=\"T_eb986_row33_col1\" class=\"data row33 col1\" >None</td>\n",
       "    </tr>\n",
       "    <tr>\n",
       "      <th id=\"T_eb986_level0_row34\" class=\"row_heading level0 row34\" >34</th>\n",
       "      <td id=\"T_eb986_row34_col0\" class=\"data row34 col0\" >Remove Multicollinearity</td>\n",
       "      <td id=\"T_eb986_row34_col1\" class=\"data row34 col1\" >False</td>\n",
       "    </tr>\n",
       "    <tr>\n",
       "      <th id=\"T_eb986_level0_row35\" class=\"row_heading level0 row35\" >35</th>\n",
       "      <td id=\"T_eb986_row35_col0\" class=\"data row35 col0\" >Multicollinearity Threshold</td>\n",
       "      <td id=\"T_eb986_row35_col1\" class=\"data row35 col1\" >None</td>\n",
       "    </tr>\n",
       "    <tr>\n",
       "      <th id=\"T_eb986_level0_row36\" class=\"row_heading level0 row36\" >36</th>\n",
       "      <td id=\"T_eb986_row36_col0\" class=\"data row36 col0\" >Remove Perfect Collinearity</td>\n",
       "      <td id=\"T_eb986_row36_col1\" class=\"data row36 col1\" >False</td>\n",
       "    </tr>\n",
       "    <tr>\n",
       "      <th id=\"T_eb986_level0_row37\" class=\"row_heading level0 row37\" >37</th>\n",
       "      <td id=\"T_eb986_row37_col0\" class=\"data row37 col0\" >Clustering</td>\n",
       "      <td id=\"T_eb986_row37_col1\" class=\"data row37 col1\" >False</td>\n",
       "    </tr>\n",
       "    <tr>\n",
       "      <th id=\"T_eb986_level0_row38\" class=\"row_heading level0 row38\" >38</th>\n",
       "      <td id=\"T_eb986_row38_col0\" class=\"data row38 col0\" >Clustering Iteration</td>\n",
       "      <td id=\"T_eb986_row38_col1\" class=\"data row38 col1\" >None</td>\n",
       "    </tr>\n",
       "    <tr>\n",
       "      <th id=\"T_eb986_level0_row39\" class=\"row_heading level0 row39\" >39</th>\n",
       "      <td id=\"T_eb986_row39_col0\" class=\"data row39 col0\" >Polynomial Features</td>\n",
       "      <td id=\"T_eb986_row39_col1\" class=\"data row39 col1\" >False</td>\n",
       "    </tr>\n",
       "    <tr>\n",
       "      <th id=\"T_eb986_level0_row40\" class=\"row_heading level0 row40\" >40</th>\n",
       "      <td id=\"T_eb986_row40_col0\" class=\"data row40 col0\" >Polynomial Degree</td>\n",
       "      <td id=\"T_eb986_row40_col1\" class=\"data row40 col1\" >None</td>\n",
       "    </tr>\n",
       "    <tr>\n",
       "      <th id=\"T_eb986_level0_row41\" class=\"row_heading level0 row41\" >41</th>\n",
       "      <td id=\"T_eb986_row41_col0\" class=\"data row41 col0\" >Trignometry Features</td>\n",
       "      <td id=\"T_eb986_row41_col1\" class=\"data row41 col1\" >False</td>\n",
       "    </tr>\n",
       "    <tr>\n",
       "      <th id=\"T_eb986_level0_row42\" class=\"row_heading level0 row42\" >42</th>\n",
       "      <td id=\"T_eb986_row42_col0\" class=\"data row42 col0\" >Polynomial Threshold</td>\n",
       "      <td id=\"T_eb986_row42_col1\" class=\"data row42 col1\" >None</td>\n",
       "    </tr>\n",
       "    <tr>\n",
       "      <th id=\"T_eb986_level0_row43\" class=\"row_heading level0 row43\" >43</th>\n",
       "      <td id=\"T_eb986_row43_col0\" class=\"data row43 col0\" >Group Features</td>\n",
       "      <td id=\"T_eb986_row43_col1\" class=\"data row43 col1\" >False</td>\n",
       "    </tr>\n",
       "    <tr>\n",
       "      <th id=\"T_eb986_level0_row44\" class=\"row_heading level0 row44\" >44</th>\n",
       "      <td id=\"T_eb986_row44_col0\" class=\"data row44 col0\" >Feature Selection</td>\n",
       "      <td id=\"T_eb986_row44_col1\" class=\"data row44 col1\" >False</td>\n",
       "    </tr>\n",
       "    <tr>\n",
       "      <th id=\"T_eb986_level0_row45\" class=\"row_heading level0 row45\" >45</th>\n",
       "      <td id=\"T_eb986_row45_col0\" class=\"data row45 col0\" >Feature Selection Method</td>\n",
       "      <td id=\"T_eb986_row45_col1\" class=\"data row45 col1\" >classic</td>\n",
       "    </tr>\n",
       "    <tr>\n",
       "      <th id=\"T_eb986_level0_row46\" class=\"row_heading level0 row46\" >46</th>\n",
       "      <td id=\"T_eb986_row46_col0\" class=\"data row46 col0\" >Features Selection Threshold</td>\n",
       "      <td id=\"T_eb986_row46_col1\" class=\"data row46 col1\" >None</td>\n",
       "    </tr>\n",
       "    <tr>\n",
       "      <th id=\"T_eb986_level0_row47\" class=\"row_heading level0 row47\" >47</th>\n",
       "      <td id=\"T_eb986_row47_col0\" class=\"data row47 col0\" >Feature Interaction</td>\n",
       "      <td id=\"T_eb986_row47_col1\" class=\"data row47 col1\" >False</td>\n",
       "    </tr>\n",
       "    <tr>\n",
       "      <th id=\"T_eb986_level0_row48\" class=\"row_heading level0 row48\" >48</th>\n",
       "      <td id=\"T_eb986_row48_col0\" class=\"data row48 col0\" >Feature Ratio</td>\n",
       "      <td id=\"T_eb986_row48_col1\" class=\"data row48 col1\" >False</td>\n",
       "    </tr>\n",
       "    <tr>\n",
       "      <th id=\"T_eb986_level0_row49\" class=\"row_heading level0 row49\" >49</th>\n",
       "      <td id=\"T_eb986_row49_col0\" class=\"data row49 col0\" >Interaction Threshold</td>\n",
       "      <td id=\"T_eb986_row49_col1\" class=\"data row49 col1\" >None</td>\n",
       "    </tr>\n",
       "  </tbody>\n",
       "</table>\n"
      ],
      "text/plain": [
       "<pandas.io.formats.style.Styler at 0x1f2db36e4c0>"
      ]
     },
     "metadata": {},
     "output_type": "display_data"
    }
   ],
   "source": [
    "cluster_test = setup(train, normalize=True,\n",
    "    session_id=123)"
   ]
  },
  {
   "cell_type": "code",
   "execution_count": 18,
   "metadata": {},
   "outputs": [
    {
     "data": {
      "text/html": [
       "<div>\n",
       "<style scoped>\n",
       "    .dataframe tbody tr th:only-of-type {\n",
       "        vertical-align: middle;\n",
       "    }\n",
       "\n",
       "    .dataframe tbody tr th {\n",
       "        vertical-align: top;\n",
       "    }\n",
       "\n",
       "    .dataframe thead th {\n",
       "        text-align: right;\n",
       "    }\n",
       "</style>\n",
       "<table border=\"1\" class=\"dataframe\">\n",
       "  <thead>\n",
       "    <tr style=\"text-align: right;\">\n",
       "      <th></th>\n",
       "      <th>Silhouette</th>\n",
       "      <th>Calinski-Harabasz</th>\n",
       "      <th>Davies-Bouldin</th>\n",
       "      <th>Homogeneity</th>\n",
       "      <th>Rand Index</th>\n",
       "      <th>Completeness</th>\n",
       "    </tr>\n",
       "  </thead>\n",
       "  <tbody>\n",
       "    <tr>\n",
       "      <th>0</th>\n",
       "      <td>0.4762</td>\n",
       "      <td>189.6276</td>\n",
       "      <td>0.7838</td>\n",
       "      <td>0</td>\n",
       "      <td>0</td>\n",
       "      <td>0</td>\n",
       "    </tr>\n",
       "  </tbody>\n",
       "</table>\n",
       "</div>"
      ],
      "text/plain": [
       "   Silhouette  Calinski-Harabasz  Davies-Bouldin  Homogeneity  Rand Index  \\\n",
       "0      0.4762           189.6276          0.7838            0           0   \n",
       "\n",
       "   Completeness  \n",
       "0             0  "
      ]
     },
     "metadata": {},
     "output_type": "display_data"
    }
   ],
   "source": [
    "kmeans = create_model('kmeans', num_clusters=3)"
   ]
  },
  {
   "cell_type": "code",
   "execution_count": 19,
   "metadata": {},
   "outputs": [
    {
     "name": "stdout",
     "output_type": "stream",
     "text": [
      "KMeans(algorithm='auto', copy_x=True, init='k-means++', max_iter=300,\n",
      "       n_clusters=3, n_init=10, n_jobs=-1, precompute_distances='deprecated',\n",
      "       random_state=123, tol=0.0001, verbose=0)\n"
     ]
    }
   ],
   "source": [
    "print(kmeans)"
   ]
  },
  {
   "cell_type": "code",
   "execution_count": 21,
   "metadata": {},
   "outputs": [
    {
     "data": {
      "text/html": [
       "<div>\n",
       "<style scoped>\n",
       "    .dataframe tbody tr th:only-of-type {\n",
       "        vertical-align: middle;\n",
       "    }\n",
       "\n",
       "    .dataframe tbody tr th {\n",
       "        vertical-align: top;\n",
       "    }\n",
       "\n",
       "    .dataframe thead th {\n",
       "        text-align: right;\n",
       "    }\n",
       "</style>\n",
       "<table border=\"1\" class=\"dataframe\">\n",
       "  <thead>\n",
       "    <tr style=\"text-align: right;\">\n",
       "      <th></th>\n",
       "      <th>Name</th>\n",
       "      <th>Reference</th>\n",
       "    </tr>\n",
       "    <tr>\n",
       "      <th>ID</th>\n",
       "      <th></th>\n",
       "      <th></th>\n",
       "    </tr>\n",
       "  </thead>\n",
       "  <tbody>\n",
       "    <tr>\n",
       "      <th>kmeans</th>\n",
       "      <td>K-Means Clustering</td>\n",
       "      <td>sklearn.cluster._kmeans.KMeans</td>\n",
       "    </tr>\n",
       "    <tr>\n",
       "      <th>ap</th>\n",
       "      <td>Affinity Propagation</td>\n",
       "      <td>sklearn.cluster._affinity_propagation.Affinity...</td>\n",
       "    </tr>\n",
       "    <tr>\n",
       "      <th>meanshift</th>\n",
       "      <td>Mean Shift Clustering</td>\n",
       "      <td>sklearn.cluster._mean_shift.MeanShift</td>\n",
       "    </tr>\n",
       "    <tr>\n",
       "      <th>sc</th>\n",
       "      <td>Spectral Clustering</td>\n",
       "      <td>sklearn.cluster._spectral.SpectralClustering</td>\n",
       "    </tr>\n",
       "    <tr>\n",
       "      <th>hclust</th>\n",
       "      <td>Agglomerative Clustering</td>\n",
       "      <td>sklearn.cluster._agglomerative.AgglomerativeCl...</td>\n",
       "    </tr>\n",
       "    <tr>\n",
       "      <th>dbscan</th>\n",
       "      <td>Density-Based Spatial Clustering</td>\n",
       "      <td>sklearn.cluster._dbscan.DBSCAN</td>\n",
       "    </tr>\n",
       "    <tr>\n",
       "      <th>optics</th>\n",
       "      <td>OPTICS Clustering</td>\n",
       "      <td>sklearn.cluster._optics.OPTICS</td>\n",
       "    </tr>\n",
       "    <tr>\n",
       "      <th>birch</th>\n",
       "      <td>Birch Clustering</td>\n",
       "      <td>sklearn.cluster._birch.Birch</td>\n",
       "    </tr>\n",
       "    <tr>\n",
       "      <th>kmodes</th>\n",
       "      <td>K-Modes Clustering</td>\n",
       "      <td>kmodes.kmodes.KModes</td>\n",
       "    </tr>\n",
       "  </tbody>\n",
       "</table>\n",
       "</div>"
      ],
      "text/plain": [
       "                                       Name  \\\n",
       "ID                                            \n",
       "kmeans                   K-Means Clustering   \n",
       "ap                     Affinity Propagation   \n",
       "meanshift             Mean Shift Clustering   \n",
       "sc                      Spectral Clustering   \n",
       "hclust             Agglomerative Clustering   \n",
       "dbscan     Density-Based Spatial Clustering   \n",
       "optics                    OPTICS Clustering   \n",
       "birch                      Birch Clustering   \n",
       "kmodes                   K-Modes Clustering   \n",
       "\n",
       "                                                   Reference  \n",
       "ID                                                            \n",
       "kmeans                        sklearn.cluster._kmeans.KMeans  \n",
       "ap         sklearn.cluster._affinity_propagation.Affinity...  \n",
       "meanshift              sklearn.cluster._mean_shift.MeanShift  \n",
       "sc              sklearn.cluster._spectral.SpectralClustering  \n",
       "hclust     sklearn.cluster._agglomerative.AgglomerativeCl...  \n",
       "dbscan                        sklearn.cluster._dbscan.DBSCAN  \n",
       "optics                        sklearn.cluster._optics.OPTICS  \n",
       "birch                           sklearn.cluster._birch.Birch  \n",
       "kmodes                                  kmodes.kmodes.KModes  "
      ]
     },
     "execution_count": 21,
     "metadata": {},
     "output_type": "execute_result"
    }
   ],
   "source": [
    "models()"
   ]
  },
  {
   "cell_type": "code",
   "execution_count": 22,
   "metadata": {},
   "outputs": [
    {
     "data": {
      "text/html": [
       "<div>\n",
       "<style scoped>\n",
       "    .dataframe tbody tr th:only-of-type {\n",
       "        vertical-align: middle;\n",
       "    }\n",
       "\n",
       "    .dataframe tbody tr th {\n",
       "        vertical-align: top;\n",
       "    }\n",
       "\n",
       "    .dataframe thead th {\n",
       "        text-align: right;\n",
       "    }\n",
       "</style>\n",
       "<table border=\"1\" class=\"dataframe\">\n",
       "  <thead>\n",
       "    <tr style=\"text-align: right;\">\n",
       "      <th></th>\n",
       "      <th>sepal_length</th>\n",
       "      <th>sepal_width</th>\n",
       "      <th>petal_length</th>\n",
       "      <th>petal_width</th>\n",
       "      <th>Cluster</th>\n",
       "    </tr>\n",
       "  </thead>\n",
       "  <tbody>\n",
       "    <tr>\n",
       "      <th>90</th>\n",
       "      <td>5.5</td>\n",
       "      <td>2.6</td>\n",
       "      <td>4.4</td>\n",
       "      <td>1.2</td>\n",
       "      <td>Cluster 0</td>\n",
       "    </tr>\n",
       "    <tr>\n",
       "      <th>97</th>\n",
       "      <td>6.2</td>\n",
       "      <td>2.9</td>\n",
       "      <td>4.3</td>\n",
       "      <td>1.3</td>\n",
       "      <td>Cluster 0</td>\n",
       "    </tr>\n",
       "    <tr>\n",
       "      <th>91</th>\n",
       "      <td>6.1</td>\n",
       "      <td>3.0</td>\n",
       "      <td>4.6</td>\n",
       "      <td>1.4</td>\n",
       "      <td>Cluster 0</td>\n",
       "    </tr>\n",
       "    <tr>\n",
       "      <th>145</th>\n",
       "      <td>6.7</td>\n",
       "      <td>3.0</td>\n",
       "      <td>5.2</td>\n",
       "      <td>2.3</td>\n",
       "      <td>Cluster 2</td>\n",
       "    </tr>\n",
       "    <tr>\n",
       "      <th>106</th>\n",
       "      <td>4.9</td>\n",
       "      <td>2.5</td>\n",
       "      <td>4.5</td>\n",
       "      <td>1.7</td>\n",
       "      <td>Cluster 0</td>\n",
       "    </tr>\n",
       "  </tbody>\n",
       "</table>\n",
       "</div>"
      ],
      "text/plain": [
       "     sepal_length  sepal_width  petal_length  petal_width    Cluster\n",
       "90            5.5          2.6           4.4          1.2  Cluster 0\n",
       "97            6.2          2.9           4.3          1.3  Cluster 0\n",
       "91            6.1          3.0           4.6          1.4  Cluster 0\n",
       "145           6.7          3.0           5.2          2.3  Cluster 2\n",
       "106           4.9          2.5           4.5          1.7  Cluster 0"
      ]
     },
     "execution_count": 22,
     "metadata": {},
     "output_type": "execute_result"
    }
   ],
   "source": [
    "kmean_results = assign_model(kmeans)\n",
    "kmean_results.head()"
   ]
  },
  {
   "cell_type": "code",
   "execution_count": 23,
   "metadata": {},
   "outputs": [
    {
     "data": {
      "application/vnd.plotly.v1+json": {
       "config": {
        "plotlyServerURL": "https://plot.ly"
       },
       "data": [
        {
         "customdata": [
          [
           5.1
          ],
          [
           null
          ],
          [
           6.1
          ],
          [
           7
          ],
          [
           null
          ],
          [
           6.5
          ],
          [
           6.3
          ],
          [
           6.6
          ],
          [
           5.9
          ],
          [
           6
          ],
          [
           5.6
          ],
          [
           6.7
          ],
          [
           null
          ],
          [
           4.9
          ],
          [
           6.2
          ],
          [
           null
          ],
          [
           6.7
          ],
          [
           6.2
          ],
          [
           5.5
          ],
          [
           5.7
          ],
          [
           5.4
          ],
          [
           6
          ],
          [
           6.7
          ],
          [
           null
          ],
          [
           5.6
          ],
          [
           5.5
          ],
          [
           5.6
          ],
          [
           5.6
          ],
          [
           5.2
          ],
          [
           5
          ],
          [
           4.4
          ],
          [
           5.7
          ],
          [
           6.4
          ],
          [
           5.4
          ],
          [
           5.1
          ],
          [
           6.4
          ],
          [
           4.3
          ],
          [
           null
          ],
          [
           null
          ],
          [
           5
          ],
          [
           6.5
          ],
          [
           7.7
          ],
          [
           4.7
          ],
          [
           4.9
          ],
          [
           5.8
          ],
          [
           5
          ]
         ],
         "hovertemplate": "Cluster=Cluster 0<br>PCA1=%{x}<br>PCA2=%{y}<br>Feature=%{customdata[0]}<extra></extra>",
         "legendgroup": "Cluster 0",
         "marker": {
          "color": "#636efa",
          "opacity": 0.5,
          "symbol": "circle"
         },
         "mode": "markers",
         "name": "Cluster 0",
         "orientation": "v",
         "showlegend": true,
         "textposition": "top center",
         "type": "scatter",
         "x": [
          0.2514755129814148,
          1.3453749418258667,
          0.24224655330181122,
          0.24087612330913544,
          1.067529559135437,
          0.2552490532398224,
          1.1975246667861938,
          0.9567623734474182,
          1.2439212799072266,
          1.135231614112854,
          0.7456241250038147,
          0.27551141381263733,
          -0.02575550600886345,
          0.06891889870166779,
          1.1599284410476685,
          0.726309061050415,
          -0.041451290249824524,
          0.47490736842155457,
          0.3928801715373993,
          1.094084620475769,
          -0.07831451296806335,
          0.3085781931877136,
          -0.44997701048851013,
          -0.5630619525909424,
          0.6898425221443176,
          0.4803367555141449,
          0.11704335361719131,
          1.1681866645812988,
          1.0097185373306274,
          0.11838750541210175,
          1.2010754346847534,
          -0.5086719393730164,
          1.6218972206115723,
          0.14090465009212494,
          0.2258448451757431,
          0.09521167725324631,
          1.198339819908142,
          -0.2357272505760193,
          0.47947391867637634,
          0.3304969072341919,
          0.6415672302246094,
          1.5015041828155518,
          0.6628907918930054,
          0.5977059006690979,
          -0.007125580683350563,
          0.2570798099040985
         ],
         "xaxis": "x",
         "y": [
          -1.123672366142273,
          -0.5525274872779846,
          -0.3685697615146637,
          -1.3405693769454956,
          -0.6841421723365784,
          -0.2624354362487793,
          -0.8762020468711853,
          -0.0019558737985789776,
          -1.2365787029266357,
          -0.3423673212528229,
          -0.20337557792663574,
          -0.8550708889961243,
          -0.4065200686454773,
          -1.5700777769088745,
          -1.7169475555419922,
          -0.08236740529537201,
          -1.573446273803711,
          -0.0561436228454113,
          -0.5928454399108887,
          -0.25794607400894165,
          -1.0449857711791992,
          -0.9987946152687073,
          -1.999001383781433,
          -1.8171871900558472,
          -0.23946110904216766,
          -0.42650875449180603,
          -0.14966799318790436,
          -0.7544484734535217,
          -0.04904557764530182,
          -1.3068498373031616,
          -1.8013685941696167,
          -1.507127285003662,
          -0.5097050666809082,
          -0.7842631936073303,
          -0.775521457195282,
          -0.18625470995903015,
          -0.370212584733963,
          -2.668318748474121,
          -1.8157048225402832,
          -1.5733424425125122,
          -0.43388691544532776,
          -0.5123286247253418,
          0.01989706978201866,
          -0.1642829328775406,
          -1.0135281085968018,
          -0.5908405184745789
         ],
         "yaxis": "y"
        },
        {
         "customdata": [
          [
           null
          ],
          [
           4.8
          ],
          [
           5.8
          ],
          [
           null
          ],
          [
           null
          ],
          [
           6.4
          ],
          [
           5.1
          ],
          [
           null
          ],
          [
           4.8
          ],
          [
           6
          ],
          [
           5.4
          ],
          [
           6
          ],
          [
           5
          ],
          [
           6.1
          ],
          [
           4.7
          ],
          [
           null
          ],
          [
           null
          ],
          [
           5.4
          ],
          [
           5.2
          ],
          [
           null
          ],
          [
           null
          ],
          [
           7.3
          ],
          [
           4.9
          ],
          [
           null
          ],
          [
           5
          ],
          [
           4.5
          ],
          [
           4.4
          ],
          [
           7.1
          ],
          [
           4.8
          ],
          [
           null
          ],
          [
           5.3
          ],
          [
           null
          ],
          [
           5.7
          ],
          [
           null
          ],
          [
           6.8
          ],
          [
           null
          ],
          [
           4.8
          ],
          [
           5
          ],
          [
           5.1
          ]
         ],
         "hovertemplate": "Cluster=Cluster 1<br>PCA1=%{x}<br>PCA2=%{y}<br>Feature=%{customdata[0]}<extra></extra>",
         "legendgroup": "Cluster 1",
         "marker": {
          "color": "#EF553B",
          "opacity": 0.5,
          "symbol": "circle"
         },
         "mode": "markers",
         "name": "Cluster 1",
         "orientation": "v",
         "showlegend": true,
         "textposition": "top center",
         "type": "scatter",
         "x": [
          -2.2274868488311768,
          -2.093935012817383,
          -2.3199121952056885,
          -1.8839478492736816,
          -1.985427975654602,
          -2.162499189376831,
          -1.799007773399353,
          -2.2034270763397217,
          -2.4237918853759766,
          -2.157358407974243,
          -2.3117620944976807,
          -2.305936098098755,
          -2.0222644805908203,
          -1.979972004890442,
          -2.3722941875457764,
          -2.209054946899414,
          -2.2704436779022217,
          -2.004229784011841,
          -2.1144018173217773,
          -2.676254987716675,
          -2.2034270763397217,
          -2.498354196548462,
          -2.2034270763397217,
          -2.1382627487182617,
          -2.1121737957000732,
          -2.100055456161499,
          -2.2493183612823486,
          -2.1942219734191895,
          -2.0981976985931396,
          -2.467632532119751,
          -2.1108241081237793,
          -2.384899139404297,
          -2.129234790802002,
          -2.5651988983154297,
          -2.2018580436706543,
          -2.7335784435272217,
          -2.340571403503418,
          -2.30370831489563,
          -1.7988096475601196
         ],
         "xaxis": "x",
         "y": [
          0.6937819123268127,
          2.951711416244507,
          -0.40259426832199097,
          0.5923797488212585,
          -2.220852851867676,
          1.220739483833313,
          0.6011215448379517,
          -0.28359100222587585,
          0.2700919210910797,
          -0.321180135011673,
          2.417013645172119,
          1.3610941171646118,
          0.43678972125053406,
          -0.4620364308357239,
          -0.13786233961582184,
          0.4295516312122345,
          -0.13936597108840942,
          0.8581137657165527,
          0.5119680166244507,
          -0.7501034140586853,
          -0.28359100222587585,
          2.0669984817504883,
          -0.28359100222587585,
          1.1465635299682617,
          -0.5019916296005249,
          -0.5390795469284058,
          0.6571950912475586,
          0.20728091895580292,
          1.2616970539093018,
          -0.7062784433364868,
          1.7159823179244995,
          -0.9295512437820435,
          0.7342382669448853,
          -0.2607351243495941,
          0.3456316590309143,
          0.7137699723243713,
          0.8755958080291748,
          0.3471353054046631,
          0.25834381580352783
         ],
         "yaxis": "y"
        },
        {
         "customdata": [
          [
           5.7
          ],
          [
           null
          ],
          [
           5.7
          ],
          [
           6.5
          ],
          [
           5.7
          ],
          [
           7.2
          ],
          [
           5.8
          ],
          [
           6.5
          ],
          [
           5.2
          ],
          [
           5.5
          ],
          [
           4.6
          ],
          [
           4.6
          ],
          [
           4.9
          ],
          [
           5.4
          ],
          [
           4.6
          ],
          [
           5.1
          ],
          [
           5
          ],
          [
           5.2
          ],
          [
           5.5
          ],
          [
           5.5
          ],
          [
           4.9
          ],
          [
           4.4
          ],
          [
           null
          ],
          [
           6.4
          ],
          [
           4.9
          ],
          [
           5
          ],
          [
           6.1
          ],
          [
           5.9
          ],
          [
           6.1
          ],
          [
           null
          ],
          [
           5.7
          ],
          [
           5.5
          ],
          [
           5.8
          ],
          [
           5.8
          ],
          [
           6
          ]
         ],
         "hovertemplate": "Cluster=Cluster 2<br>PCA1=%{x}<br>PCA2=%{y}<br>Feature=%{customdata[0]}<extra></extra>",
         "legendgroup": "Cluster 2",
         "marker": {
          "color": "#00cc96",
          "opacity": 0.5,
          "symbol": "circle"
         },
         "mode": "markers",
         "name": "Cluster 2",
         "orientation": "v",
         "showlegend": true,
         "textposition": "top center",
         "type": "scatter",
         "x": [
          2.2822000980377197,
          1.4508029222488403,
          2.4273834228515625,
          1.0704216957092285,
          2.1164238452911377,
          0.800699770450592,
          1.953494906425476,
          1.8107432126998901,
          2.8887510299682617,
          1.4182443618774414,
          1.9401828050613403,
          2.48773193359375,
          2.960757255554199,
          1.9350632429122925,
          2.144569158554077,
          0.5223466157913208,
          1.6836615800857544,
          1.5823192596435547,
          1.110288143157959,
          2.49967885017395,
          1.938860297203064,
          1.5313291549682617,
          1.7000638246536255,
          0.8103018999099731,
          0.932017982006073,
          0.8319352865219116,
          2.625765562057495,
          1.9042246341705322,
          1.177990436553955,
          1.9304513931274414,
          2.3661272525787354,
          2.0536251068115234,
          2.1036202907562256,
          2.140970468521118,
          1.4137619733810425
         ],
         "xaxis": "x",
         "y": [
          0.45004528760910034,
          0.6499829888343811,
          1.8421088457107544,
          0.03387206047773361,
          0.9710106253623962,
          0.5926843285560608,
          0.3291773796081543,
          0.9555320143699646,
          0.7025279998779297,
          0.37650924921035767,
          0.29746249318122864,
          0.11863315105438232,
          0.24236823618412018,
          0.5934075713157654,
          0.7804552912712097,
          0.8782668113708496,
          0.6196318864822388,
          0.2039383500814438,
          0.49178269505500793,
          2.5535037517547607,
          0.20867037773132324,
          0.194695383310318,
          1.0265839099884033,
          0.39800146222114563,
          0.4894167482852936,
          0.7773654460906982,
          2.4778242111206055,
          -0.27682816982269287,
          0.8335581421852112,
          0.4721558392047882,
          0.29557543992996216,
          0.924436092376709,
          0.5220987796783447,
          0.8224152326583862,
          0.2752469480037689
         ],
         "yaxis": "y"
        }
       ],
       "layout": {
        "height": 600,
        "legend": {
         "title": {
          "text": "Cluster"
         },
         "tracegroupgap": 0
        },
        "margin": {
         "t": 60
        },
        "plot_bgcolor": "rgb(240,240,240)",
        "template": {
         "data": {
          "bar": [
           {
            "error_x": {
             "color": "#2a3f5f"
            },
            "error_y": {
             "color": "#2a3f5f"
            },
            "marker": {
             "line": {
              "color": "#E5ECF6",
              "width": 0.5
             },
             "pattern": {
              "fillmode": "overlay",
              "size": 10,
              "solidity": 0.2
             }
            },
            "type": "bar"
           }
          ],
          "barpolar": [
           {
            "marker": {
             "line": {
              "color": "#E5ECF6",
              "width": 0.5
             },
             "pattern": {
              "fillmode": "overlay",
              "size": 10,
              "solidity": 0.2
             }
            },
            "type": "barpolar"
           }
          ],
          "carpet": [
           {
            "aaxis": {
             "endlinecolor": "#2a3f5f",
             "gridcolor": "white",
             "linecolor": "white",
             "minorgridcolor": "white",
             "startlinecolor": "#2a3f5f"
            },
            "baxis": {
             "endlinecolor": "#2a3f5f",
             "gridcolor": "white",
             "linecolor": "white",
             "minorgridcolor": "white",
             "startlinecolor": "#2a3f5f"
            },
            "type": "carpet"
           }
          ],
          "choropleth": [
           {
            "colorbar": {
             "outlinewidth": 0,
             "ticks": ""
            },
            "type": "choropleth"
           }
          ],
          "contour": [
           {
            "colorbar": {
             "outlinewidth": 0,
             "ticks": ""
            },
            "colorscale": [
             [
              0,
              "#0d0887"
             ],
             [
              0.1111111111111111,
              "#46039f"
             ],
             [
              0.2222222222222222,
              "#7201a8"
             ],
             [
              0.3333333333333333,
              "#9c179e"
             ],
             [
              0.4444444444444444,
              "#bd3786"
             ],
             [
              0.5555555555555556,
              "#d8576b"
             ],
             [
              0.6666666666666666,
              "#ed7953"
             ],
             [
              0.7777777777777778,
              "#fb9f3a"
             ],
             [
              0.8888888888888888,
              "#fdca26"
             ],
             [
              1,
              "#f0f921"
             ]
            ],
            "type": "contour"
           }
          ],
          "contourcarpet": [
           {
            "colorbar": {
             "outlinewidth": 0,
             "ticks": ""
            },
            "type": "contourcarpet"
           }
          ],
          "heatmap": [
           {
            "colorbar": {
             "outlinewidth": 0,
             "ticks": ""
            },
            "colorscale": [
             [
              0,
              "#0d0887"
             ],
             [
              0.1111111111111111,
              "#46039f"
             ],
             [
              0.2222222222222222,
              "#7201a8"
             ],
             [
              0.3333333333333333,
              "#9c179e"
             ],
             [
              0.4444444444444444,
              "#bd3786"
             ],
             [
              0.5555555555555556,
              "#d8576b"
             ],
             [
              0.6666666666666666,
              "#ed7953"
             ],
             [
              0.7777777777777778,
              "#fb9f3a"
             ],
             [
              0.8888888888888888,
              "#fdca26"
             ],
             [
              1,
              "#f0f921"
             ]
            ],
            "type": "heatmap"
           }
          ],
          "heatmapgl": [
           {
            "colorbar": {
             "outlinewidth": 0,
             "ticks": ""
            },
            "colorscale": [
             [
              0,
              "#0d0887"
             ],
             [
              0.1111111111111111,
              "#46039f"
             ],
             [
              0.2222222222222222,
              "#7201a8"
             ],
             [
              0.3333333333333333,
              "#9c179e"
             ],
             [
              0.4444444444444444,
              "#bd3786"
             ],
             [
              0.5555555555555556,
              "#d8576b"
             ],
             [
              0.6666666666666666,
              "#ed7953"
             ],
             [
              0.7777777777777778,
              "#fb9f3a"
             ],
             [
              0.8888888888888888,
              "#fdca26"
             ],
             [
              1,
              "#f0f921"
             ]
            ],
            "type": "heatmapgl"
           }
          ],
          "histogram": [
           {
            "marker": {
             "pattern": {
              "fillmode": "overlay",
              "size": 10,
              "solidity": 0.2
             }
            },
            "type": "histogram"
           }
          ],
          "histogram2d": [
           {
            "colorbar": {
             "outlinewidth": 0,
             "ticks": ""
            },
            "colorscale": [
             [
              0,
              "#0d0887"
             ],
             [
              0.1111111111111111,
              "#46039f"
             ],
             [
              0.2222222222222222,
              "#7201a8"
             ],
             [
              0.3333333333333333,
              "#9c179e"
             ],
             [
              0.4444444444444444,
              "#bd3786"
             ],
             [
              0.5555555555555556,
              "#d8576b"
             ],
             [
              0.6666666666666666,
              "#ed7953"
             ],
             [
              0.7777777777777778,
              "#fb9f3a"
             ],
             [
              0.8888888888888888,
              "#fdca26"
             ],
             [
              1,
              "#f0f921"
             ]
            ],
            "type": "histogram2d"
           }
          ],
          "histogram2dcontour": [
           {
            "colorbar": {
             "outlinewidth": 0,
             "ticks": ""
            },
            "colorscale": [
             [
              0,
              "#0d0887"
             ],
             [
              0.1111111111111111,
              "#46039f"
             ],
             [
              0.2222222222222222,
              "#7201a8"
             ],
             [
              0.3333333333333333,
              "#9c179e"
             ],
             [
              0.4444444444444444,
              "#bd3786"
             ],
             [
              0.5555555555555556,
              "#d8576b"
             ],
             [
              0.6666666666666666,
              "#ed7953"
             ],
             [
              0.7777777777777778,
              "#fb9f3a"
             ],
             [
              0.8888888888888888,
              "#fdca26"
             ],
             [
              1,
              "#f0f921"
             ]
            ],
            "type": "histogram2dcontour"
           }
          ],
          "mesh3d": [
           {
            "colorbar": {
             "outlinewidth": 0,
             "ticks": ""
            },
            "type": "mesh3d"
           }
          ],
          "parcoords": [
           {
            "line": {
             "colorbar": {
              "outlinewidth": 0,
              "ticks": ""
             }
            },
            "type": "parcoords"
           }
          ],
          "pie": [
           {
            "automargin": true,
            "type": "pie"
           }
          ],
          "scatter": [
           {
            "marker": {
             "colorbar": {
              "outlinewidth": 0,
              "ticks": ""
             }
            },
            "type": "scatter"
           }
          ],
          "scatter3d": [
           {
            "line": {
             "colorbar": {
              "outlinewidth": 0,
              "ticks": ""
             }
            },
            "marker": {
             "colorbar": {
              "outlinewidth": 0,
              "ticks": ""
             }
            },
            "type": "scatter3d"
           }
          ],
          "scattercarpet": [
           {
            "marker": {
             "colorbar": {
              "outlinewidth": 0,
              "ticks": ""
             }
            },
            "type": "scattercarpet"
           }
          ],
          "scattergeo": [
           {
            "marker": {
             "colorbar": {
              "outlinewidth": 0,
              "ticks": ""
             }
            },
            "type": "scattergeo"
           }
          ],
          "scattergl": [
           {
            "marker": {
             "colorbar": {
              "outlinewidth": 0,
              "ticks": ""
             }
            },
            "type": "scattergl"
           }
          ],
          "scattermapbox": [
           {
            "marker": {
             "colorbar": {
              "outlinewidth": 0,
              "ticks": ""
             }
            },
            "type": "scattermapbox"
           }
          ],
          "scatterpolar": [
           {
            "marker": {
             "colorbar": {
              "outlinewidth": 0,
              "ticks": ""
             }
            },
            "type": "scatterpolar"
           }
          ],
          "scatterpolargl": [
           {
            "marker": {
             "colorbar": {
              "outlinewidth": 0,
              "ticks": ""
             }
            },
            "type": "scatterpolargl"
           }
          ],
          "scatterternary": [
           {
            "marker": {
             "colorbar": {
              "outlinewidth": 0,
              "ticks": ""
             }
            },
            "type": "scatterternary"
           }
          ],
          "surface": [
           {
            "colorbar": {
             "outlinewidth": 0,
             "ticks": ""
            },
            "colorscale": [
             [
              0,
              "#0d0887"
             ],
             [
              0.1111111111111111,
              "#46039f"
             ],
             [
              0.2222222222222222,
              "#7201a8"
             ],
             [
              0.3333333333333333,
              "#9c179e"
             ],
             [
              0.4444444444444444,
              "#bd3786"
             ],
             [
              0.5555555555555556,
              "#d8576b"
             ],
             [
              0.6666666666666666,
              "#ed7953"
             ],
             [
              0.7777777777777778,
              "#fb9f3a"
             ],
             [
              0.8888888888888888,
              "#fdca26"
             ],
             [
              1,
              "#f0f921"
             ]
            ],
            "type": "surface"
           }
          ],
          "table": [
           {
            "cells": {
             "fill": {
              "color": "#EBF0F8"
             },
             "line": {
              "color": "white"
             }
            },
            "header": {
             "fill": {
              "color": "#C8D4E3"
             },
             "line": {
              "color": "white"
             }
            },
            "type": "table"
           }
          ]
         },
         "layout": {
          "annotationdefaults": {
           "arrowcolor": "#2a3f5f",
           "arrowhead": 0,
           "arrowwidth": 1
          },
          "autotypenumbers": "strict",
          "coloraxis": {
           "colorbar": {
            "outlinewidth": 0,
            "ticks": ""
           }
          },
          "colorscale": {
           "diverging": [
            [
             0,
             "#8e0152"
            ],
            [
             0.1,
             "#c51b7d"
            ],
            [
             0.2,
             "#de77ae"
            ],
            [
             0.3,
             "#f1b6da"
            ],
            [
             0.4,
             "#fde0ef"
            ],
            [
             0.5,
             "#f7f7f7"
            ],
            [
             0.6,
             "#e6f5d0"
            ],
            [
             0.7,
             "#b8e186"
            ],
            [
             0.8,
             "#7fbc41"
            ],
            [
             0.9,
             "#4d9221"
            ],
            [
             1,
             "#276419"
            ]
           ],
           "sequential": [
            [
             0,
             "#0d0887"
            ],
            [
             0.1111111111111111,
             "#46039f"
            ],
            [
             0.2222222222222222,
             "#7201a8"
            ],
            [
             0.3333333333333333,
             "#9c179e"
            ],
            [
             0.4444444444444444,
             "#bd3786"
            ],
            [
             0.5555555555555556,
             "#d8576b"
            ],
            [
             0.6666666666666666,
             "#ed7953"
            ],
            [
             0.7777777777777778,
             "#fb9f3a"
            ],
            [
             0.8888888888888888,
             "#fdca26"
            ],
            [
             1,
             "#f0f921"
            ]
           ],
           "sequentialminus": [
            [
             0,
             "#0d0887"
            ],
            [
             0.1111111111111111,
             "#46039f"
            ],
            [
             0.2222222222222222,
             "#7201a8"
            ],
            [
             0.3333333333333333,
             "#9c179e"
            ],
            [
             0.4444444444444444,
             "#bd3786"
            ],
            [
             0.5555555555555556,
             "#d8576b"
            ],
            [
             0.6666666666666666,
             "#ed7953"
            ],
            [
             0.7777777777777778,
             "#fb9f3a"
            ],
            [
             0.8888888888888888,
             "#fdca26"
            ],
            [
             1,
             "#f0f921"
            ]
           ]
          },
          "colorway": [
           "#636efa",
           "#EF553B",
           "#00cc96",
           "#ab63fa",
           "#FFA15A",
           "#19d3f3",
           "#FF6692",
           "#B6E880",
           "#FF97FF",
           "#FECB52"
          ],
          "font": {
           "color": "#2a3f5f"
          },
          "geo": {
           "bgcolor": "white",
           "lakecolor": "white",
           "landcolor": "#E5ECF6",
           "showlakes": true,
           "showland": true,
           "subunitcolor": "white"
          },
          "hoverlabel": {
           "align": "left"
          },
          "hovermode": "closest",
          "mapbox": {
           "style": "light"
          },
          "paper_bgcolor": "white",
          "plot_bgcolor": "#E5ECF6",
          "polar": {
           "angularaxis": {
            "gridcolor": "white",
            "linecolor": "white",
            "ticks": ""
           },
           "bgcolor": "#E5ECF6",
           "radialaxis": {
            "gridcolor": "white",
            "linecolor": "white",
            "ticks": ""
           }
          },
          "scene": {
           "xaxis": {
            "backgroundcolor": "#E5ECF6",
            "gridcolor": "white",
            "gridwidth": 2,
            "linecolor": "white",
            "showbackground": true,
            "ticks": "",
            "zerolinecolor": "white"
           },
           "yaxis": {
            "backgroundcolor": "#E5ECF6",
            "gridcolor": "white",
            "gridwidth": 2,
            "linecolor": "white",
            "showbackground": true,
            "ticks": "",
            "zerolinecolor": "white"
           },
           "zaxis": {
            "backgroundcolor": "#E5ECF6",
            "gridcolor": "white",
            "gridwidth": 2,
            "linecolor": "white",
            "showbackground": true,
            "ticks": "",
            "zerolinecolor": "white"
           }
          },
          "shapedefaults": {
           "line": {
            "color": "#2a3f5f"
           }
          },
          "ternary": {
           "aaxis": {
            "gridcolor": "white",
            "linecolor": "white",
            "ticks": ""
           },
           "baxis": {
            "gridcolor": "white",
            "linecolor": "white",
            "ticks": ""
           },
           "bgcolor": "#E5ECF6",
           "caxis": {
            "gridcolor": "white",
            "linecolor": "white",
            "ticks": ""
           }
          },
          "title": {
           "x": 0.05
          },
          "xaxis": {
           "automargin": true,
           "gridcolor": "white",
           "linecolor": "white",
           "ticks": "",
           "title": {
            "standoff": 15
           },
           "zerolinecolor": "white",
           "zerolinewidth": 2
          },
          "yaxis": {
           "automargin": true,
           "gridcolor": "white",
           "linecolor": "white",
           "ticks": "",
           "title": {
            "standoff": 15
           },
           "zerolinecolor": "white",
           "zerolinewidth": 2
          }
         }
        },
        "title": {
         "text": "2D Cluster PCA Plot"
        },
        "xaxis": {
         "anchor": "y",
         "domain": [
          0,
          1
         ],
         "title": {
          "text": "PCA1"
         }
        },
        "yaxis": {
         "anchor": "x",
         "domain": [
          0,
          1
         ],
         "title": {
          "text": "PCA2"
         }
        }
       }
      }
     },
     "metadata": {},
     "output_type": "display_data"
    }
   ],
   "source": [
    "plot_model(kmeans)"
   ]
  },
  {
   "cell_type": "code",
   "execution_count": 24,
   "metadata": {},
   "outputs": [
    {
     "data": {
      "image/png": "[encoded data removed]",
      "text/plain": [
       "<Figure size 576x396 with 1 Axes>"
      ]
     },
     "metadata": {},
     "output_type": "display_data"
    }
   ],
   "source": [
    "plot_model(kmeans, plot='elbow')"
   ]
  },
  {
   "cell_type": "code",
   "execution_count": 25,
   "metadata": {},
   "outputs": [
    {
     "data": {
      "image/png": "[encoded data removed]",
      "text/plain": [
       "<Figure size 576x396 with 1 Axes>"
      ]
     },
     "metadata": {},
     "output_type": "display_data"
    }
   ],
   "source": [
    "plot_model(kmeans, plot='silhouette')"
   ]
  },
  {
   "cell_type": "code",
   "execution_count": 26,
   "metadata": {},
   "outputs": [
    {
     "data": {
      "text/html": [
       "<div>\n",
       "<style scoped>\n",
       "    .dataframe tbody tr th:only-of-type {\n",
       "        vertical-align: middle;\n",
       "    }\n",
       "\n",
       "    .dataframe tbody tr th {\n",
       "        vertical-align: top;\n",
       "    }\n",
       "\n",
       "    .dataframe thead th {\n",
       "        text-align: right;\n",
       "    }\n",
       "</style>\n",
       "<table border=\"1\" class=\"dataframe\">\n",
       "  <thead>\n",
       "    <tr style=\"text-align: right;\">\n",
       "      <th></th>\n",
       "      <th>sepal_length</th>\n",
       "      <th>sepal_width</th>\n",
       "      <th>petal_length</th>\n",
       "      <th>petal_width</th>\n",
       "      <th>Cluster</th>\n",
       "    </tr>\n",
       "  </thead>\n",
       "  <tbody>\n",
       "    <tr>\n",
       "      <th>105</th>\n",
       "      <td>7.6</td>\n",
       "      <td>3.0</td>\n",
       "      <td>6.6</td>\n",
       "      <td>2.1</td>\n",
       "      <td>Cluster 2</td>\n",
       "    </tr>\n",
       "    <tr>\n",
       "      <th>18</th>\n",
       "      <td>5.7</td>\n",
       "      <td>3.8</td>\n",
       "      <td>1.7</td>\n",
       "      <td>0.3</td>\n",
       "      <td>Cluster 1</td>\n",
       "    </tr>\n",
       "    <tr>\n",
       "      <th>146</th>\n",
       "      <td>6.3</td>\n",
       "      <td>2.5</td>\n",
       "      <td>5.0</td>\n",
       "      <td>1.9</td>\n",
       "      <td>Cluster 0</td>\n",
       "    </tr>\n",
       "    <tr>\n",
       "      <th>75</th>\n",
       "      <td>6.6</td>\n",
       "      <td>3.0</td>\n",
       "      <td>4.4</td>\n",
       "      <td>1.4</td>\n",
       "      <td>Cluster 2</td>\n",
       "    </tr>\n",
       "    <tr>\n",
       "      <th>52</th>\n",
       "      <td>6.9</td>\n",
       "      <td>3.1</td>\n",
       "      <td>4.9</td>\n",
       "      <td>1.5</td>\n",
       "      <td>Cluster 2</td>\n",
       "    </tr>\n",
       "  </tbody>\n",
       "</table>\n",
       "</div>"
      ],
      "text/plain": [
       "     sepal_length  sepal_width  petal_length  petal_width    Cluster\n",
       "105           7.6          3.0           6.6          2.1  Cluster 2\n",
       "18            5.7          3.8           1.7          0.3  Cluster 1\n",
       "146           6.3          2.5           5.0          1.9  Cluster 0\n",
       "75            6.6          3.0           4.4          1.4  Cluster 2\n",
       "52            6.9          3.1           4.9          1.5  Cluster 2"
      ]
     },
     "execution_count": 26,
     "metadata": {},
     "output_type": "execute_result"
    }
   ],
   "source": [
    "unseen_predictions = predict_model(kmeans, data=test)\n",
    "unseen_predictions.head()"
   ]
  },
  {
   "cell_type": "code",
   "execution_count": null,
   "metadata": {},
   "outputs": [],
   "source": []
  }
 ],
 "metadata": {
  "interpreter": {
   "hash": "e15e40d01f3c632830d1d5f47ca8cd16b784472dfc4ed2bbbe970c8d6cf8e86e"
  },
  "kernelspec": {
   "display_name": "Python 3.9.7 64-bit",
   "language": "python",
   "name": "python3"
  },
  "language_info": {
   "codemirror_mode": {
    "name": "ipython",
    "version": 3
   },
   "file_extension": ".py",
   "mimetype": "text/x-python",
   "name": "python",
   "nbconvert_exporter": "python",
   "pygments_lexer": "ipython3",
   "version": "3.9.7"
  },
  "orig_nbformat": 4
 },
 "nbformat": 4,
 "nbformat_minor": 2
}
