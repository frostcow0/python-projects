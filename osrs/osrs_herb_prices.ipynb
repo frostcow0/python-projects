{
 "cells": [
  {
   "cell_type": "code",
   "execution_count": 1,
   "metadata": {},
   "outputs": [],
   "source": [
    "import requests"
   ]
  },
  {
   "cell_type": "markdown",
   "metadata": {},
   "source": [
    "https://api.weirdgloop.org/exchange/history/osrs/latest?id=4151"
   ]
  },
  {
   "cell_type": "code",
   "execution_count": 2,
   "metadata": {},
   "outputs": [],
   "source": [
    "# [(Leaf, Seed)]\n",
    "herbs = [\n",
    "    (\"Toadflax\", \"Toadflax seed\"), (\"Harralander\", \"Harralander seed\"), (\"Tarromin\", \"Tarromin seed\"),\n",
    "    (\"Marrentill\", \"Marrentill seed\"), (\"Ranarr weed\", \"Ranarr seed\"),\n",
    "    (\"Irit leaf\", \"Irit seed\"), (\"Avantoe\", \"Avantoe seed\"), (\"Kwuarm\", \"Kwuarm seed\")\n",
    "]"
   ]
  },
  {
   "cell_type": "code",
   "execution_count": 3,
   "metadata": {},
   "outputs": [
    {
     "name": "stdout",
     "output_type": "stream",
     "text": [
      "{'Toadflax': {'id': '2998', 'timestamp': '2025-07-10T06:47:23.000Z', 'price': 3767, 'volume': 265922}}\n",
      "{'Harralander': {'id': '255', 'timestamp': '2025-07-10T06:47:23.000Z', 'price': 728, 'volume': 346790}}\n",
      "{'Tarromin': {'id': '253', 'timestamp': '2025-07-10T06:47:23.000Z', 'price': 409, 'volume': 248666}}\n",
      "{'Marrentill': {'id': '251', 'timestamp': '2025-07-10T06:47:23.000Z', 'price': 597, 'volume': 200716}}\n",
      "{'Ranarr weed': {'id': '257', 'timestamp': '2025-07-10T06:47:23.000Z', 'price': 6984, 'volume': 249141}}\n",
      "{'Irit leaf': {'id': '259', 'timestamp': '2025-07-10T06:47:23.000Z', 'price': 2819, 'volume': 92029}}\n",
      "{'Avantoe': {'id': '261', 'timestamp': '2025-07-10T06:47:23.000Z', 'price': 3746, 'volume': 124651}}\n",
      "{'Kwuarm': {'id': '263', 'timestamp': '2025-07-10T06:47:23.000Z', 'price': 3813, 'volume': 147928}}\n"
     ]
    }
   ],
   "source": [
    "latest_url = \"https://api.weirdgloop.org/exchange/history/osrs/latest\"\n",
    "# {Leaf: (Leaf price, Seed price)}\n",
    "results = {}\n",
    "\n",
    "for leaf, seed in herbs:\n",
    "    leaf_data, seed_data = None, None\n",
    "    # Leaf\n",
    "    leaf_response = requests.get(latest_url, params={\"name\":leaf})\n",
    "    if leaf_response.status_code == 200:\n",
    "        leaf_data = leaf_response.json()\n",
    "        print(leaf_data)\n",
    "    # Seed\n",
    "    seed_response = requests.get(latest_url, params={\"name\":seed})\n",
    "    if seed_response.status_code == 200:\n",
    "        seed_data = seed_response.json()\n",
    "    if not leaf_data or not seed_data:\n",
    "        print(f\"Error with {leaf}:\\n\\t{leaf_response.status_code}\\n\\t{seed_response.status_code}\")\n",
    "    else:\n",
    "        results[leaf] = (leaf_data[leaf][\"price\"], seed_data[seed][\"price\"])"
   ]
  },
  {
   "cell_type": "markdown",
   "metadata": {},
   "source": [
    "\"The average yield of a standard patch (Falador, Ardougne, Canifis) was 8.56 herbs\"\n",
    "https://oldschoolrunescape.fandom.com/wiki/Herb"
   ]
  },
  {
   "cell_type": "code",
   "execution_count": 4,
   "metadata": {},
   "outputs": [
    {
     "data": {
      "text/plain": [
       "[('Avantoe', 31320),\n",
       " ('Toadflax', 31288),\n",
       " ('Ranarr weed', 30947),\n",
       " ('Kwuarm', 30246),\n",
       " ('Irit leaf', 24054),\n",
       " ('Harralander', 6198),\n",
       " ('Marrentill', 5090),\n",
       " ('Tarromin', 3489)]"
      ]
     },
     "execution_count": 4,
     "metadata": {},
     "output_type": "execute_result"
    }
   ],
   "source": [
    "profits = {key: round((value[0]*8.56)-value[1]) for key, value in results.items()}\n",
    "sorted(profits.items(), key=lambda item: item[1], reverse=True)"
   ]
  },
  {
   "cell_type": "markdown",
   "metadata": {},
   "source": [
    "It does look like the \"latest\" api endpoint may only be pulling once a day - for the last three hours it's had the same timestamp. Possibly look at other APIs out there? Additionally, need to decide how to determine which is the best herb to grow using more than just the singular latest price point - it should take into account at least the past few hours if not the past day's prices.\n",
    "\n",
    "I wonder if there's room to use CUSUM here?"
   ]
  }
 ],
 "metadata": {
  "kernelspec": {
   "display_name": "base",
   "language": "python",
   "name": "python3"
  },
  "language_info": {
   "codemirror_mode": {
    "name": "ipython",
    "version": 3
   },
   "file_extension": ".py",
   "mimetype": "text/x-python",
   "name": "python",
   "nbconvert_exporter": "python",
   "pygments_lexer": "ipython3",
   "version": "3.9.13"
  }
 },
 "nbformat": 4,
 "nbformat_minor": 2
}
