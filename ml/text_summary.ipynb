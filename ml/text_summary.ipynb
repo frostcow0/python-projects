{
 "cells": [
  {
   "cell_type": "code",
   "execution_count": 3,
   "metadata": {},
   "outputs": [],
   "source": [
    "import nltk\n",
    "import pandas as pd\n",
    "from sklearn.feature_extraction.text import CountVectorizer"
   ]
  },
  {
   "cell_type": "markdown",
   "metadata": {},
   "source": [
    "https://www.topcoder.com/thrive/articles/text-summarization-in-nlp"
   ]
  },
  {
   "cell_type": "markdown",
   "metadata": {},
   "source": [
    "### Legacy Implementation"
   ]
  },
  {
   "cell_type": "code",
   "execution_count": 4,
   "metadata": {},
   "outputs": [],
   "source": [
    "import string\n",
    "from typing import List\n",
    "\n",
    "\n",
    "def process_text(text:str) -> pd.Series:\n",
    "    tokenized = nltk.tokenize.word_tokenize(text)\n",
    "    to_remove = list(set(nltk.corpus.stopwords.words(\"english\") + \n",
    "        list(string.punctuation) + \n",
    "        ['(', ')', ',', ':', ';', '&', '\"', '\\'']))\n",
    "    return [\n",
    "        x.lower() for x in tokenized\n",
    "        if x.lower() not in to_remove\n",
    "    ]\n",
    "\n",
    "def read_prep_data(filename:str, text_col:str) -> pd.DataFrame:\n",
    "    file_format = filename.split('.')[-1]\n",
    "\n",
    "    if file_format == \"json\":\n",
    "        df = pd.read_json(filename)\n",
    "    elif file_format == \"csv\":\n",
    "        df = pd.read_csv(filename)\n",
    "\n",
    "    # This feels wrong to do, but I'm not sure what to do for a \n",
    "    # proper several-article infrastructure\n",
    "    df[\"tokenized\"] = df.apply(lambda x: process_text(x.loc[text_col]), axis=1)\n",
    "\n",
    "    return df"
   ]
  },
  {
   "cell_type": "code",
   "execution_count": 5,
   "metadata": {},
   "outputs": [
    {
     "data": {
      "text/html": [
       "<div>\n",
       "<style scoped>\n",
       "    .dataframe tbody tr th:only-of-type {\n",
       "        vertical-align: middle;\n",
       "    }\n",
       "\n",
       "    .dataframe tbody tr th {\n",
       "        vertical-align: top;\n",
       "    }\n",
       "\n",
       "    .dataframe thead th {\n",
       "        text-align: right;\n",
       "    }\n",
       "</style>\n",
       "<table border=\"1\" class=\"dataframe\">\n",
       "  <thead>\n",
       "    <tr style=\"text-align: right;\">\n",
       "      <th></th>\n",
       "      <th>id</th>\n",
       "      <th>text</th>\n",
       "      <th>title</th>\n",
       "      <th>tokenized</th>\n",
       "    </tr>\n",
       "  </thead>\n",
       "  <tbody>\n",
       "    <tr>\n",
       "      <th>0</th>\n",
       "      <td>7751000</td>\n",
       "      <td>M-137 was a state trunkline highway in the US ...</td>\n",
       "      <td>M-137 (Michigan highway)</td>\n",
       "      <td>[m-137, state, trunkline, highway, us, state, ...</td>\n",
       "    </tr>\n",
       "    <tr>\n",
       "      <th>1</th>\n",
       "      <td>7751001</td>\n",
       "      <td>In sociology, dynamic density refers to the co...</td>\n",
       "      <td>Dynamic density</td>\n",
       "      <td>[sociology, dynamic, density, refers, combinat...</td>\n",
       "    </tr>\n",
       "    <tr>\n",
       "      <th>2</th>\n",
       "      <td>7751042</td>\n",
       "      <td>Bert Robert Shepard (June 20, 1920 – June 16, ...</td>\n",
       "      <td>Bert Shepard</td>\n",
       "      <td>[bert, robert, shepard, june, 20, 1920, –, jun...</td>\n",
       "    </tr>\n",
       "    <tr>\n",
       "      <th>3</th>\n",
       "      <td>7751048</td>\n",
       "      <td>Marc Fein (born Marc Alan Fein October 21, 196...</td>\n",
       "      <td>Marc Fein</td>\n",
       "      <td>[marc, fein, born, marc, alan, fein, october, ...</td>\n",
       "    </tr>\n",
       "    <tr>\n",
       "      <th>4</th>\n",
       "      <td>7751062</td>\n",
       "      <td>Ghelamco Arena panorama indoor. The Ghelamco A...</td>\n",
       "      <td>Ghelamco Arena</td>\n",
       "      <td>[ghelamco, arena, panorama, indoor, ghelamco, ...</td>\n",
       "    </tr>\n",
       "  </tbody>\n",
       "</table>\n",
       "</div>"
      ],
      "text/plain": [
       "        id                                               text  \\\n",
       "0  7751000  M-137 was a state trunkline highway in the US ...   \n",
       "1  7751001  In sociology, dynamic density refers to the co...   \n",
       "2  7751042  Bert Robert Shepard (June 20, 1920 – June 16, ...   \n",
       "3  7751048  Marc Fein (born Marc Alan Fein October 21, 196...   \n",
       "4  7751062  Ghelamco Arena panorama indoor. The Ghelamco A...   \n",
       "\n",
       "                      title                                          tokenized  \n",
       "0  M-137 (Michigan highway)  [m-137, state, trunkline, highway, us, state, ...  \n",
       "1           Dynamic density  [sociology, dynamic, density, refers, combinat...  \n",
       "2              Bert Shepard  [bert, robert, shepard, june, 20, 1920, –, jun...  \n",
       "3                 Marc Fein  [marc, fein, born, marc, alan, fein, october, ...  \n",
       "4            Ghelamco Arena  [ghelamco, arena, panorama, indoor, ghelamco, ...  "
      ]
     },
     "execution_count": 5,
     "metadata": {},
     "output_type": "execute_result"
    }
   ],
   "source": [
    "filename = \"text_data/00c2bfc7-57db-496e-9d5c-d62f8d8119e3.json/00c2bfc7-57db-496e-9d5c-d62f8d8119e3.json\"\n",
    "test = read_prep_data(filename, text_col=\"text\")\n",
    "test.head()"
   ]
  },
  {
   "cell_type": "markdown",
   "metadata": {},
   "source": [
    "### Sklearn Implementation using CountVectorizer (much easier)"
   ]
  },
  {
   "cell_type": "code",
   "execution_count": 6,
   "metadata": {},
   "outputs": [
    {
     "data": {
      "text/html": [
       "<div>\n",
       "<style scoped>\n",
       "    .dataframe tbody tr th:only-of-type {\n",
       "        vertical-align: middle;\n",
       "    }\n",
       "\n",
       "    .dataframe tbody tr th {\n",
       "        vertical-align: top;\n",
       "    }\n",
       "\n",
       "    .dataframe thead th {\n",
       "        text-align: right;\n",
       "    }\n",
       "</style>\n",
       "<table border=\"1\" class=\"dataframe\">\n",
       "  <thead>\n",
       "    <tr style=\"text-align: right;\">\n",
       "      <th></th>\n",
       "      <th>id</th>\n",
       "      <th>text</th>\n",
       "      <th>title</th>\n",
       "    </tr>\n",
       "  </thead>\n",
       "  <tbody>\n",
       "    <tr>\n",
       "      <th>0</th>\n",
       "      <td>7751000</td>\n",
       "      <td>M-137 was a state trunkline highway in the US ...</td>\n",
       "      <td>M-137 (Michigan highway)</td>\n",
       "    </tr>\n",
       "    <tr>\n",
       "      <th>1</th>\n",
       "      <td>7751001</td>\n",
       "      <td>In sociology, dynamic density refers to the co...</td>\n",
       "      <td>Dynamic density</td>\n",
       "    </tr>\n",
       "    <tr>\n",
       "      <th>2</th>\n",
       "      <td>7751042</td>\n",
       "      <td>Bert Robert Shepard (June 20, 1920 – June 16, ...</td>\n",
       "      <td>Bert Shepard</td>\n",
       "    </tr>\n",
       "    <tr>\n",
       "      <th>3</th>\n",
       "      <td>7751048</td>\n",
       "      <td>Marc Fein (born Marc Alan Fein October 21, 196...</td>\n",
       "      <td>Marc Fein</td>\n",
       "    </tr>\n",
       "    <tr>\n",
       "      <th>4</th>\n",
       "      <td>7751062</td>\n",
       "      <td>Ghelamco Arena panorama indoor. The Ghelamco A...</td>\n",
       "      <td>Ghelamco Arena</td>\n",
       "    </tr>\n",
       "  </tbody>\n",
       "</table>\n",
       "</div>"
      ],
      "text/plain": [
       "        id                                               text  \\\n",
       "0  7751000  M-137 was a state trunkline highway in the US ...   \n",
       "1  7751001  In sociology, dynamic density refers to the co...   \n",
       "2  7751042  Bert Robert Shepard (June 20, 1920 – June 16, ...   \n",
       "3  7751048  Marc Fein (born Marc Alan Fein October 21, 196...   \n",
       "4  7751062  Ghelamco Arena panorama indoor. The Ghelamco A...   \n",
       "\n",
       "                      title  \n",
       "0  M-137 (Michigan highway)  \n",
       "1           Dynamic density  \n",
       "2              Bert Shepard  \n",
       "3                 Marc Fein  \n",
       "4            Ghelamco Arena  "
      ]
     },
     "execution_count": 6,
     "metadata": {},
     "output_type": "execute_result"
    }
   ],
   "source": [
    "df = pd.read_json(filename)\n",
    "df.head()"
   ]
  },
  {
   "cell_type": "code",
   "execution_count": 47,
   "metadata": {},
   "outputs": [
    {
     "data": {
      "text/plain": [
       "(9982, 3)"
      ]
     },
     "execution_count": 47,
     "metadata": {},
     "output_type": "execute_result"
    }
   ],
   "source": [
    "df.shape"
   ]
  },
  {
   "cell_type": "code",
   "execution_count": 53,
   "metadata": {},
   "outputs": [],
   "source": [
    "# Removes english stop words, grabs unigrams (single words) and bigrams (two words)\n",
    "cv = CountVectorizer(stop_words='english', ngram_range=(1,2))\n",
    "# Run it on the first 10 rows (since we have 9,982 rows, and we get a memory error using all)\n",
    "results = cv.fit_transform(df.iloc[0:11,1])"
   ]
  },
  {
   "cell_type": "code",
   "execution_count": 54,
   "metadata": {},
   "outputs": [
    {
     "data": {
      "text/html": [
       "<div>\n",
       "<style scoped>\n",
       "    .dataframe tbody tr th:only-of-type {\n",
       "        vertical-align: middle;\n",
       "    }\n",
       "\n",
       "    .dataframe tbody tr th {\n",
       "        vertical-align: top;\n",
       "    }\n",
       "\n",
       "    .dataframe thead th {\n",
       "        text-align: right;\n",
       "    }\n",
       "</style>\n",
       "<table border=\"1\" class=\"dataframe\">\n",
       "  <thead>\n",
       "    <tr style=\"text-align: right;\">\n",
       "      <th></th>\n",
       "      <th>Features</th>\n",
       "      <th>Count</th>\n",
       "    </tr>\n",
       "  </thead>\n",
       "  <tbody>\n",
       "    <tr>\n",
       "      <th>33</th>\n",
       "      <td>137</td>\n",
       "      <td>15</td>\n",
       "    </tr>\n",
       "    <tr>\n",
       "      <th>3661</th>\n",
       "      <td>state</td>\n",
       "      <td>12</td>\n",
       "    </tr>\n",
       "    <tr>\n",
       "      <th>1865</th>\n",
       "      <td>highway</td>\n",
       "      <td>11</td>\n",
       "    </tr>\n",
       "    <tr>\n",
       "      <th>2053</th>\n",
       "      <td>interlochen</td>\n",
       "      <td>9</td>\n",
       "    </tr>\n",
       "    <tr>\n",
       "      <th>2769</th>\n",
       "      <td>park</td>\n",
       "      <td>7</td>\n",
       "    </tr>\n",
       "  </tbody>\n",
       "</table>\n",
       "</div>"
      ],
      "text/plain": [
       "         Features  Count\n",
       "33            137     15\n",
       "3661        state     12\n",
       "1865      highway     11\n",
       "2053  interlochen      9\n",
       "2769         park      7"
      ]
     },
     "execution_count": 54,
     "metadata": {},
     "output_type": "execute_result"
    }
   ],
   "source": [
    "test_df = pd.DataFrame({\n",
    "    \"Features\": cv.get_feature_names_out(),\n",
    "    \"Count\": results.toarray()[0]\n",
    "})\n",
    "test_df.sort_values(by=\"Count\", ascending=False).head()"
   ]
  },
  {
   "cell_type": "code",
   "execution_count": 56,
   "metadata": {},
   "outputs": [
    {
     "data": {
      "text/plain": [
       "(4142, 2)"
      ]
     },
     "execution_count": 56,
     "metadata": {},
     "output_type": "execute_result"
    }
   ],
   "source": [
    "test_df.shape"
   ]
  },
  {
   "cell_type": "code",
   "execution_count": 106,
   "metadata": {},
   "outputs": [],
   "source": [
    "def get_counts(cv:CountVectorizer, text:str) -> pd.DataFrame:\n",
    "    result = cv.fit_transform([text])\n",
    "    features = cv.get_feature_names_out()\n",
    "    counts = result.toarray()[0]\n",
    "    return pd.DataFrame({\n",
    "        \"Features\": features,\n",
    "        \"Count\": counts\n",
    "    })\n",
    "\n",
    "def rack_em_up(sentence:str, words:pd.DataFrame) -> int:\n",
    "    total = 0\n",
    "    for word in words[\"Features\"]:\n",
    "        if word in sentence:\n",
    "            total += words[words[\"Features\"]==word][\"Count\"].array[0]\n",
    "    return total"
   ]
  },
  {
   "cell_type": "code",
   "execution_count": 105,
   "metadata": {},
   "outputs": [],
   "source": [
    "cv_summ = CountVectorizer(stop_words='english', ngram_range=(1,2))\n",
    "\n",
    "docs = []\n",
    "\n",
    "for i in range(1):\n",
    "    # Fit on this row's text\n",
    "    result = get_counts(cv_summ, df.iloc[i, 1])\n",
    "    text_id = df.iloc[i, 0]\n",
    "    sentences = nltk.sent_tokenize(df.iloc[i, 1])\n",
    "    tada = pd.DataFrame({\n",
    "        \"TextID\": [text_id]*len(sentences),\n",
    "        \"Sentence\": sentences\n",
    "    })\n",
    "    tada[\"Value\"] = tada[\"Sentence\"].apply(lambda x: rack_em_up(x, result))\n",
    "    docs.append(tada)\n",
    "final = pd.concat(docs, ignore_index=True)"
   ]
  },
  {
   "cell_type": "code",
   "execution_count": 110,
   "metadata": {},
   "outputs": [
    {
     "data": {
      "text/plain": [
       "'==History== reassurance marker near Diamond Park Road and the entrance to Interlochen Center for the Arts, May 2018 A highway along the route of M-137 connecting US 31 south to the state park was added to the state highway system during the first half of 1930, initially lacking a designation label on the state maps of the time.'"
      ]
     },
     "execution_count": 110,
     "metadata": {},
     "output_type": "execute_result"
    }
   ],
   "source": [
    "final.sort_values(by=\"Value\", ascending=False).iloc[0,1]"
   ]
  },
  {
   "cell_type": "code",
   "execution_count": 82,
   "metadata": {},
   "outputs": [
    {
     "data": {
      "text/plain": [
       "{'M-137 (Michigan highway)': {'M-137 was a state trunkline highway in the US state of Michigan that served as a spur route to the Interlochen Center for the Arts and Interlochen State Park.': 50,\n",
       "  'It started south of the park and ran north between two lakes in the area and through the community of Interlochen to US Highway 31 (US 31) in Grand Traverse County.': 37,\n",
       "  'The highway was first shown without a number label on maps in 1930 and labeled after an extension the next year.': 25,\n",
       "  \"The highway's current routing was established in the 1950s.\": 17,\n",
       "  'Jurisdiction of the roadway was transferred from the Michigan Department of Transportation (MDOT) to the Grand Traverse County Road Commission in June 2020, and the highway designation was decommissioned in the process; signage was removed by August 2020 to reflect the changeover.': 44,\n",
       "  '==Route description== M-137 began at the southern end of Interlochen State Park at an intersection with Vagabond Lane.': 30,\n",
       "  'Farther south, the roadway continues toward Green Lake Airport as County Road 137 (CR 137), also known as Karlin Road.': 36,\n",
       "  'The state highway was a two-lane road that meandered north, passing the entrance to the state park and near the Interlochen Center for the Arts.': 63,\n",
       "  'The road continued along the isthmus between Green and Duck lakes.': 16,\n",
       "  'North of the school, the highway passed through a wooded section before entering the community of Interlochen itself near the Green Lake Township Hall.': 26,\n",
       "  'There M-137 ran almost due north before terminating at its connection with the rest of the state trunkline system at US 31 at Interlochen Corners.': 47,\n",
       "  'The roadway continues north of US 31 as South Long Lake Road after the M-137 designation ended.': 48,\n",
       "  'M-137 was maintained by MDOT like other state highways in Michigan.': 45,\n",
       "  'According to the department in 2010, 4,868 vehicles used the highway daily on average.': 22,\n",
       "  \"No section of M-137 had been listed on the National Highway System, a network of roads important to the country's economy, defense, and mobility.\": 33,\n",
       "  '==History== reassurance marker near Diamond Park Road and the entrance to Interlochen Center for the Arts, May 2018 A highway along the route of M-137 connecting US 31 south to the state park was added to the state highway system during the first half of 1930, initially lacking a designation label on the state maps of the time.': 102,\n",
       "  'This routing was extended by and labelled as M-137 on maps in 1931.': 33,\n",
       "  'The former route through the campus of the Interlochen Center for the Arts was abandoned as a roadway on March 26, 1956, after M-137 was realigned to pass to the east of the school and extended further south through the state park area.': 75,\n",
       "  'On April 30, 2020, the GRCTC was to vote on a resolution to accept jurisdiction over M-137 from MDOT, effective June 1, 2020; the board approved the resolution.': 33,\n",
       "  'MDOT announced on August 6, 2020, that jurisdiction had been transferred at the beginning of June and that all M-137 signage had since been removed.': 34,\n",
       "  '==Major intersections== ==See also== * ==References== ==External links== *Former M-137 at Michigan Highways 137 Category:Transportation in Grand Traverse County, Michigan': 22},\n",
       " 'Dynamic density': {'In sociology, dynamic density refers to the combination of two things: population density and the amount of social interaction within that population.': 74,\n",
       "  'Émile Durkheim used the term to explain why societies transition from simple to more complex forms, specifically in terms of the division of labor within that society.': 62,\n",
       "  'He suggested that it required both an increase in population and an increase in the frequency of social interaction to form more specialised occupations, which then leads to a new type of society.': 70,\n",
       "  'People in this new type of society are less independent and more reliant on each other and therefore develop what he called organic solidarity, where people no longer are bound by the same morality and sense of purpose.': 91,\n",
       "  'Critics suggest that it is not a testable hypothesis, and nor does it follow logically that dynamic density would cause this new type of solidarity, supposing it actually existed.': 90,\n",
       "  '==Context== Dynamic density is a key component in Emile Durkheim’s theory of modernization.': 27,\n",
       "  'In his book The Division of Labor in Society ([1893] 1949), Durkheim suggests that over time, societies go through a transition from being more primitive, i.e.': 19,\n",
       "  'mechanical, to being more modern, or organic; the difference lying in the source of their solidarity, or what holds them together.': 39,\n",
       "  '(Ritzer, 2007) According to Durkheim, the cause of this transition is an increase in dynamic density, an idea he drew from earlier sociologists.': 63,\n",
       "  '\"Already Adam Smith had pointed to sufficient demand as a necessary condition for specialization, and Durkheim himself refers to Comte for the idea that density of interaction is the decisive factor [for transition to occur].\"': 51,\n",
       "  \"(Rueschemeyer, 1982:580) Durkheim also borrows from Darwinian theory, and specifically from Darwin's The Origin of Species, for his explanation.\": 18,\n",
       "  '(Rueschemeyer, 1982) In the animal kingdom, a single species of animal, like sheep, cannot survive in very high volumes on a given stretch of land because each animal makes exactly the same demands on that land.': 44,\n",
       "  '(Gibbs, 2003) They need to exist in symbiosis with other species, like the bees that fertilize the plants they consume, in order to thrive in greater numbers.': 26,\n",
       "  '(Gibbs, 2003) The same holds true within a human population.': 19,\n",
       "  'Had primitive societies increased in population density for many generations without an eventual specialization of tasks, competition for resources among the increasing number of people would have become so fierce that humans would have started dying off.': 81,\n",
       "  '(Merton, 1994) However, a growing population alone is not sufficient to spark a change in the division of labor, because individuals and small groups of people can live in relative isolation from one another and still perform most of the tasks necessary for survival themselves, no matter how big the overall population gets.': 94,\n",
       "  '(Ritzer, 2007) A growing population must also increase the frequency with which people interact within and between social groups; this increase in dynamic density is likely to spark a division of labor and the transformation of social solidarity.': 144,\n",
       "  'There are two types of social solidarity.': 35,\n",
       "  'The first is mechanical solidarity, where people are held together because they all serve the same purpose, or do the same things (as in a hunter-gatherer society), and their collective consciousness is therefore very strong.': 72,\n",
       "  'The people are all self-reliant, but they share the same experiences, understandings, and core beliefs, and can relate in that way.': 28,\n",
       "  'The second type of solidarity, organic solidarity, is the result of a substantial division of labor that has occurred due to much growth of dynamic density.': 114,\n",
       "  'People in organic solidarity have more specialized skills, so individuals are no longer self-sustaining.': 49,\n",
       "  'An example of this is that a philosopher has neither the time nor the ability to grow his own food, and so he is dependent upon a farmer and various other individuals so he can eat.': 14,\n",
       "  'In this situation, solidarity in society comes from the fact that people need the contribution of an increasing number of other people in order to function, and even to survive.': 62,\n",
       "  '(Ritzer, 2007) The transition from one type of solidarity to another is readily apparent in history when looking at societal changes from repressive law systems to restitutive law systems.': 66,\n",
       "  'A repressive law system is one in which any law breaker is severely punished for their crimes.': 23,\n",
       "  'This type of law exists in mechanical solidarity because the laws are based on the very powerful collective conscience, or set of social norms, that the people in a mechanical society all strongly believe in.': 99,\n",
       "  'Any violation of these beliefs is seen as an extreme offense against society as a whole.': 22,\n",
       "  'In contrast, a restitutive law system is characteristic of organic solidarity.': 48,\n",
       "  'Restitutive laws require an offender to pay for the harm he did to whoever was affected by his crimes, or he is just asked to comply with the law.': 23,\n",
       "  'With the growth of dynamic density and resulting division of labor in society, collective consciousness is weakened severely and people no longer have a unified sense of morality.': 118,\n",
       "  '(Muller, 1994) Everyone is no longer affected by or connected to every deviant action that takes place in society in organic solidarity, so the call for severity no longer exists.': 72,\n",
       "  '==Critiques== There are some who disagree with Durkheim’s theory that dynamic density is the cause of social transition.': 66,\n",
       "  'Robert K. Merton argues that Durkheim has no empirical evidence supporting a link between dynamic density and a change from mechanical to organic solidarity.': 87,\n",
       "  'He says that Durkheim seeks to ignore the role that social driven ends themselves play into how society interacts.': 35,\n",
       "  '(Merton, 1994) Jack Gibbs also says that Durkheim’s theory of dynamic density leading to the division of labor is not scientifically testable for or evident of causality, arguing that there is no feasible way to measure the frequency of interactions between people, and thus no way to track progress or growth of said frequency; without these measurements, it is impossible to prove any correlation to division of labor.': 132,\n",
       "  '(Gibbs, 2003) Dietrich Rueschemeyer argues from an economics perspective that competition in production, which is the basis for a free market system, does not have the same consequences as Darwinian competition.': 22,\n",
       "  \"(Rueschemeyer, 1982) To him, it follows logically that increased demand due to increased population density, for a product such as corn in an agrarian society, would improve rather than diminish the producers' chances of survival.\": 76,\n",
       "  '(Rueschemeyer, 1982) Hence, it does not follow logically that dynamic density would cause the transition from mechanical to organic solidarity.': 103,\n",
       "  '==See also== * Interaction frequency ==References== * Ritzer, George (2007)\"Contemporary Sociological Theory and Its Classical Roots; The Basics\" McGraw Hill * Merton, Robert K. (1994) \"Durkheim\\'s Division of Labor in Society\" Plenum Press, NY and London Sociological Forum, Vol.': 15,\n",
       "  '1 * Muller, Hans-Peter (1994) \"Social DIfferentiation and Organic Solidarity: The Division of Labor Revisited\" Plenum Press, NY and London Sociological Forum, Vol.': 5,\n",
       "  '1 * Gibbs, Jack P. (2003) \"A Formal Restatement of Durkheim’s’ Division of Labor’ Theory\", Sociological Theory, Vol.': 4,\n",
       "  '21, No.': 1,\n",
       "  '2 * Rueschemeyer, Dietrich (1982)\"On Durkheim\\'s Explanation of the Division of Labor\" The American Journal of Sociology, Vol.': 5,\n",
       "  '88, No.': 1,\n",
       "  '3 ==External links== * “Emile Durkheim on the Division of Labor” Category:Sociological terminology': 4},\n",
       " 'Bert Shepard': {'Bert Robert Shepard (June 20, 1920 – June 16, 2008) was an American left- handed pitcher in Major League Baseball who pitched in one game for the Washington Senators in 1945 after having had his right leg amputated after his fighter plane was shot down in Germany during World War II while he was serving as a pilot in the Army Air Forces.Milestones: Bert Shephard, July 7, 2008, TIME Magazine, p. 18 ==Biography== Born in Dana, Indiana, the 5\"11\", 185 lb.': 64,\n",
       "  'left-hander taught himself to walk and then to pitch with an artificial leg while confined in the German POW camp Stalag IX C(b) in city Meiningen.Baseball in Wartime, When Baseball Went to War.': 20,\n",
       "  'Society for American Baseball Research, 55th Fighter Group Association The Canadian doctor and prisoner Doug Errey produced the prosthesis for Bert.': 7,\n",
       "  'Shepard had been gunned down east of Hamburg on his 34th mission as a P-38 fighter pilot; his life was saved by the doctor Lieutenant Ladislaus Loidl of the German Army.': 19,\n",
       "  'On February 21, 1945, Shepard was back in the United States and hoping to resume his pitching career.': 15,\n",
       "  'Prior to the war, he had pitched for minor leagues all across the country, including the Anaheim Aces in 1941.': 33,\n",
       "  'During spring training in 1945, he impressed Senators owner Clark Griffith enough to be hired as a pitching coach.': 20,\n",
       "  'He pitched exhibition games and batting practice as well as one regulation game, making him the first man with an artificial leg to pitch in a major league baseball game.': 69,\n",
       "  'On August 4, 1945 Shepard got the call to enter in the fourth inning of a home game in which the Senators were well behind the Boston Red Sox.': 26,\n",
       "  \"It was game two of Washington's fourth consecutive doubleheader, with a fifth scheduled the next day as well.\": 19,\n",
       "  'Shepard made headlines not only for being in the game itself, but also for his 5⅓ innings of impressive relief, allowing only three hits and one run.': 21,\n",
       "  'He struck out the first batter he faced.': 4,\n",
       "  \"The final score was Red Sox 15, Senators 4.Weintraub, Robert (2013) The Victory Season: The End of World War II and the Birth of Baseball's Golden Age.\": 10,\n",
       "  'New York: Little Brown and Company, pages 137-138 The game of August 4, 1945 was notable for two other events as well.': 23,\n",
       "  'Shepard came in to relieve teammate Joe Cleary, whose surrender of seven runs on five hits and three walks in one-third of an inning in his only big-league appearance earned him the highest lifetime ERA — 189.00 — of any pitcher in Major League Baseball history to have recorded at least one out.': 48,\n",
       "  'Also, outfielder Tom McBride tied a major league record with 6 runs batted in in the fourth inning, which was pitched by Cleary.': 39,\n",
       "  'In between games of a doubleheader on August 31, Shepard received the Distinguished Flying Cross and the Air Medal for his service in World War II.': 15,\n",
       "  'He later went on to be a player/manager in the minor leagues until 1954.': 23,\n",
       "  'He was a key participant in the National Amps baseball teams of former servicemen with amputations secondary to war injuries.': 36,\n",
       "  'After retiring from baseball, Shepard worked for IBM and Hughes Aircraft as a safety engineer.': 20,\n",
       "  'Shepard won the U.S. amputee golf championship in 1968 and 1971.': 10,\n",
       "  'Shepard died at age 87 in Highland, California.': 5,\n",
       "  \"He was buried at Riverside National Cemetery in Riverside, California.Baseball's Greatest Sacrifice ==References== ==Further reading== *Dennis Snelling: A Glimpse of Fame, McFarland & Company, Jefferson N.C., 1993, pp.\": 7,\n",
       "  '115–134 *Richard Tellis: Once Around The Bases, Triumph Books, Chicago, 1998, pp.': 8,\n",
       "  '107–120.': 3,\n",
       "  '==External links== *Baseball in Wartime *BaseballLibrary – biography & photograph *BaseballLibrary – Once Around the Bases *Baseball Guru – Bert Shepard and the Missing Foot *New York Times obituary, June 19, 2008 Category:1920 births Category:2008 deaths Category:American amputees Category:American disabled sportspeople Category:Amputee sportspeople Category:Anaheim Aces players Category:Baseball players from Indiana Category:Bisbee Bees players Category:Burials at Riverside National Cemetery Category:Chattanooga Lookouts players Category:Decatur Commodores players Category:Duluth Dukes players Category:Hot Springs Bathers players Category:Jeanerette Blues players Category:Major League Baseball pitchers Category:Military personnel from Indiana Category:Modesto Reds players Category:Mount Airy Graniteers players Category:Recipients of the Distinguished Flying Cross (United States) Category:St. Augustine Saints players Category:Shot-down aviators Category:United States Army Air Forces officers Category:United States Army Air Forces pilots of World War II Category:Tampa Smokers players Category:Washington Senators (1901–1960) coaches Category:Washington Senators (1901–1960) players Category:Williston Oilers players Category:Wisconsin Rapids White Sox players Category:World War II prisoners of war held by Germany Category:Disabled baseball players': 95},\n",
       " 'Marc Fein': {'Marc Fein (born Marc Alan Fein October 21, 1967 in Miami, Florida) is a sports journalist, sports news anchor, and television sports studio host, formerly one of the main studio hosts for the NBA TV show, NBA Gametime Live.': 43,\n",
       "  'He is also the host of its show, The Beat, and has been the substitute host for Ernie Johnson on the NBA on TNT.Quigley, Eileen S. (2006) International Television & Video Almanac ==Broadcasting career== Prior to his present work at NBA TV, Fein was at one time the exclusive studio host for and NASCAR on TNT Live!.': 27,\n",
       "  'He formerly hosted TBS College Football and TBS Baseball.': 10,\n",
       "  'He has also hosted Atlanta Thrashers broadcasts on Turner South before the station was sold to NewsCorp.': 13,\n",
       "  'Prior to joining Turner Sports, Fein worked as a sports anchor, host, and reporter for KDFW-TV in Dallas, Texas.': 22,\n",
       "  'He also hosted a pregame show for the Texas Rangers and Dallas Stars.': 11,\n",
       "  'Before joining KDFW, Fein worked at CNN and CNNSI; and contributed a weekly column for CNNSI.com.': 11,\n",
       "  'In 2009, he filled in for Chip Caray on selected Braves games on Peachtree TV.': 4,\n",
       "  'In 2011, he moved back to Dallas and is one of the current news anchors at KXAS.': 11,\n",
       "  \"Fein called for the minor league St. Petersburg Cardinals and the Tampa Spartans men's basketball.\": 12,\n",
       "  'He was the radio studio host for the Dallas Cowboys.': 16,\n",
       "  'While a student at University of Miami, he provided play-by-play and color commentary for Miami Hurricanes football, basketball, and baseball.': 24,\n",
       "  \"==Education== Fein, who was raised in South Florida, was in the class of 1986 at Ransom Everglades School and is a 1991 graduate of the University of Miami, where he holds a bachelor's degree in communications.\": 12,\n",
       "  '==References== ==External links== *Marc Fein Biography, TBS.com Category:Living people Category:1967 births Category:Writers from Miami Category:American television sports announcers Category:Atlanta Braves broadcasters Category:Major League Baseball broadcasters Category:Dallas Cowboys broadcasters Category:National Football League announcers Category:College basketball announcers in the United States Category:Motorsport announcers Category:Texas Rangers (baseball) broadcasters Category:Dallas Stars broadcasters Category:University of Miami alumni Category:Atlanta Thrashers broadcasters Category:National Hockey League broadcasters Category:National Basketball Association broadcasters Category:College football announcers': 49},\n",
       " 'Ghelamco Arena': {'Ghelamco Arena panorama indoor.': 3,\n",
       "  'The Ghelamco Arena (also called Arteveldestadion) is a multi-use stadium in Ghent, Belgium.': 22,\n",
       "  'It hosts the home matches of football club K.A.A.': 15,\n",
       "  'Gent and was officially opened on July 17, 2013, making it the first new-built Belgian football stadium since 1974.': 46,\n",
       "  \"The stadium seats 20,000 De Ghelamco Arena kaagent.be (last check 30/03/2018) and replaced the Jules Ottenstadion, which had been Gent's home since 1920.\": 49,\n",
       "  'The stadium hosted its first competitive match on 4 August 2013, when Gent won 2-1 over KV Mechelen.': 33,\n",
       "  '==History== ===Construction=== On 12 May 2003 then-alderman of Ghent Daniël Termont announced that as from the season 2006/07 the new stadium of KAA Gent would be situated on the site of the Groothandelsmarkt (Trade Market), near the R4 and the Ringvaart and close to the E17 and E40 motorways.': 42,\n",
       "  'The stadium would be given the name of Arteveldestadion (after Jacob van Artevelde) and should help in the further growth of the team.': 23,\n",
       "  'Due to multiple problems, including issued building permits and financial difficulties, it would take until 18 September 2008 before the official foundation stone could be laid by meanwhile mayor Daniël Termont and president of KAA Gent Ivan De Witte.': 32,\n",
       "  'In 2009 new problems concerning the financing of the stadium became public.': 33,\n",
       "  'In June 2010, the city of Ghent announced that it had come to a definitive agreement with real estate developer Ghelamco about the construction and exploitation of the stadium.': 45,\n",
       "  'After approval of the adapted lease agreement in the city council, which was realized during the meeting of October 2010, the construction works were started immediately.': 30,\n",
       "  'They were scheduled to be finished before the start of the 2012–13 Belgian Pro League, but were delayed one more year.': 11,\n",
       "  'On 31 May 2013, a few months before the official opening, it was officially announced that the stadium would be named Ghelamco Arena, after the constructor.': 41,\n",
       "  'The stadium was officially inaugurated on 17 July 2013 with and exhibition game (in which KAA Gent defeated VfB Stuttgart 2-0) and a performance by 2manydjs.': 40,\n",
       "  '==Details== ===Mobility=== The stadium counts with 1,200 parking spots, mainly for employees, security and safety services, members of the press, VIPs and disabled people.': 39,\n",
       "  'In addition, there are approximately 1,000 carpool spots for supporters within a radius of 1.2 kilometers around the stadium.': 30,\n",
       "  'Alternative ways of reaching the stadium can be found in public transport.': 24,\n",
       "  'On match days, shuttle buses drive between the arena and the Woodrow Wilson Square in the city centre.': 23,\n",
       "  'Bus lines 65 and 67 take people from the Gent-Sint-Pieters railway station to the stadium.': 26,\n",
       "  '===Entertainment=== Throughout the year, businesses can rent parts of the stadium to host a variety of events.': 27,\n",
       "  'During the 2014 FIFA World Cup, all games of the Belgium national football team were shown on big screens, accompanied by performances of Belgian artists Regi Penxten, Clouseau, Natalia and Milk Inc.. ===Offices, retail and catering=== Ghelamco Arena is the home base of real estate developer Ghelamco and houses an Albert Heijn store, an employment agency and a gym.': 47,\n",
       "  'It also houses Michelin star restaurant Horseele, a bistro and a sandwich place, which are all open during the week.': 12,\n",
       "  \"==Photo gallery== File:Ghelamcoarena00.jpg|Stadium by night File:Ghelamcoarena01.jpg|Dressing room File:Ghelamcoarena02.jpg|Players' jacuzzi File:Ghelamcoarena03.jpg|Dugout File:Ghelamcoarena04.jpg|Interior File:Ghelamcoarena08.jpg|Main entrance interior File:Ghelamcoarena05.jpg|Telenet stands File:Ghelamcoarena06.jpg|VDK Spaarbank stands File:Ghelamcoarena07.jpg|Ghelamco stands ==References== ==External links== * *KAA Gent official website *Ghelamco Arena: offices & retail *The Blue Towers: offices in the Arteveldepark *Stadium pictures Category:Sports venues completed in 2013 Category:Multi-purpose stadiums in Belgium Category:Football venues in Flanders Category:Sports venues in East Flanders Category:Sport in Ghent Category:Buildings and structures in Ghent Category:K.A.A.\": 75}}"
      ]
     },
     "execution_count": 82,
     "metadata": {},
     "output_type": "execute_result"
    }
   ],
   "source": [
    "docs"
   ]
  }
 ],
 "metadata": {
  "kernelspec": {
   "display_name": "Python 3.9.12 ('ml')",
   "language": "python",
   "name": "python3"
  },
  "language_info": {
   "codemirror_mode": {
    "name": "ipython",
    "version": 3
   },
   "file_extension": ".py",
   "mimetype": "text/x-python",
   "name": "python",
   "nbconvert_exporter": "python",
   "pygments_lexer": "ipython3",
   "version": "3.9.13"
  },
  "orig_nbformat": 4,
  "vscode": {
   "interpreter": {
    "hash": "8aea640dc1c62d02625c3e511cd7dbed0382493e78ab0e1b7ef900951ab79e92"
   }
  }
 },
 "nbformat": 4,
 "nbformat_minor": 2
}
