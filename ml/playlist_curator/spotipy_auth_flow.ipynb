{
 "cells": [
  {
   "cell_type": "code",
   "execution_count": 1,
   "metadata": {},
   "outputs": [],
   "source": [
    "import spotipy as spot\n",
    "import pandas as pd\n",
    "import json"
   ]
  },
  {
   "cell_type": "code",
   "execution_count": 2,
   "metadata": {},
   "outputs": [
    {
     "data": {
      "text/plain": [
       "{'CLIENT_ID': '468b8b024bfb41d5b1957dad2afc766a',\n",
       " 'CLIENT_SECRET': '8827668f8ed64f13bf8c2e83781c3997',\n",
       " 'REDIRECT_URI': 'http://localhost:8080'}"
      ]
     },
     "execution_count": 2,
     "metadata": {},
     "output_type": "execute_result"
    }
   ],
   "source": [
    "config = json.load(open(file=\"config.json\", encoding=\"utf-8\"))\n",
    "config"
   ]
  },
  {
   "cell_type": "code",
   "execution_count": 3,
   "metadata": {},
   "outputs": [],
   "source": [
    "# Authorization Flow that WORKS\n",
    "try:\n",
    "    token = spot.util.prompt_for_user_token(username='frostcow',\n",
    "        scope=[\"user-read-recently-played\",\n",
    "            \"playlist-modify-public\",\n",
    "            \"user-library-read\",],\n",
    "        client_id=config[\"CLIENT_ID\"],\n",
    "        client_secret=config[\"CLIENT_SECRET\"],\n",
    "        redirect_uri=config[\"REDIRECT_URI\"])\n",
    "    test_sp = spot.Spotify(auth=token)\n",
    "except spot.SpotifyOauthError:\n",
    "    print(\"User declined\")"
   ]
  },
  {
   "cell_type": "code",
   "execution_count": 4,
   "metadata": {},
   "outputs": [
    {
     "data": {
      "text/plain": [
       "str"
      ]
     },
     "execution_count": 4,
     "metadata": {},
     "output_type": "execute_result"
    }
   ],
   "source": [
    "type(token)"
   ]
  },
  {
   "cell_type": "markdown",
   "metadata": {},
   "source": [
    "# General purpose testing grounds for function alterations or new code below"
   ]
  },
  {
   "cell_type": "code",
   "execution_count": 5,
   "metadata": {},
   "outputs": [],
   "source": [
    "from main import get_last_50_songs, get_saved_tracks\n",
    "\n",
    "last = get_last_50_songs(test_sp)\n",
    "saved = get_saved_tracks(test_sp)"
   ]
  },
  {
   "cell_type": "code",
   "execution_count": 6,
   "metadata": {},
   "outputs": [
    {
     "data": {
      "text/html": [
       "<div>\n",
       "<style scoped>\n",
       "    .dataframe tbody tr th:only-of-type {\n",
       "        vertical-align: middle;\n",
       "    }\n",
       "\n",
       "    .dataframe tbody tr th {\n",
       "        vertical-align: top;\n",
       "    }\n",
       "\n",
       "    .dataframe thead th {\n",
       "        text-align: right;\n",
       "    }\n",
       "</style>\n",
       "<table border=\"1\" class=\"dataframe\">\n",
       "  <thead>\n",
       "    <tr style=\"text-align: right;\">\n",
       "      <th></th>\n",
       "      <th>Track ID</th>\n",
       "      <th>Song Name</th>\n",
       "      <th>Album Name</th>\n",
       "      <th>Artist Name</th>\n",
       "      <th>Explicit</th>\n",
       "      <th>Duration</th>\n",
       "      <th>Song Popularity</th>\n",
       "      <th>Album Release Year</th>\n",
       "    </tr>\n",
       "  </thead>\n",
       "  <tbody>\n",
       "    <tr>\n",
       "      <th>0</th>\n",
       "      <td>6X4fTprmm1elJ6LPGXJEsP</td>\n",
       "      <td>Santolea</td>\n",
       "      <td>Santolea</td>\n",
       "      <td>Xaverius Love</td>\n",
       "      <td>False</td>\n",
       "      <td>151250</td>\n",
       "      <td>58</td>\n",
       "      <td>2022</td>\n",
       "    </tr>\n",
       "    <tr>\n",
       "      <th>1</th>\n",
       "      <td>5LIsR2QFLqxot9tX9huYwi</td>\n",
       "      <td>From Above</td>\n",
       "      <td>Your Story</td>\n",
       "      <td>Albin Svensson</td>\n",
       "      <td>False</td>\n",
       "      <td>106013</td>\n",
       "      <td>64</td>\n",
       "      <td>2022</td>\n",
       "    </tr>\n",
       "    <tr>\n",
       "      <th>2</th>\n",
       "      <td>79v9cKSakZbCRZI0r0QrV7</td>\n",
       "      <td>The Last Leaf Falls</td>\n",
       "      <td>The Last Leaf Falls</td>\n",
       "      <td>Josh Kramer</td>\n",
       "      <td>False</td>\n",
       "      <td>125667</td>\n",
       "      <td>51</td>\n",
       "      <td>2022</td>\n",
       "    </tr>\n",
       "    <tr>\n",
       "      <th>3</th>\n",
       "      <td>2u6LWpFrDoipclUF01Oaeu</td>\n",
       "      <td>Life Goes On - Hideyuki Hashimoto Rework</td>\n",
       "      <td>Life Goes On (Hideyuki Hashimoto Rework)</td>\n",
       "      <td>Kevin Imbrechts</td>\n",
       "      <td>False</td>\n",
       "      <td>188506</td>\n",
       "      <td>58</td>\n",
       "      <td>2022</td>\n",
       "    </tr>\n",
       "    <tr>\n",
       "      <th>4</th>\n",
       "      <td>3yMBkcCZA5dTrqEoz83azz</td>\n",
       "      <td>Evenfall</td>\n",
       "      <td>Evenfall</td>\n",
       "      <td>Stephen Weber</td>\n",
       "      <td>False</td>\n",
       "      <td>181786</td>\n",
       "      <td>59</td>\n",
       "      <td>2022</td>\n",
       "    </tr>\n",
       "  </tbody>\n",
       "</table>\n",
       "</div>"
      ],
      "text/plain": [
       "                 Track ID                                 Song Name  \\\n",
       "0  6X4fTprmm1elJ6LPGXJEsP                                  Santolea   \n",
       "1  5LIsR2QFLqxot9tX9huYwi                                From Above   \n",
       "2  79v9cKSakZbCRZI0r0QrV7                       The Last Leaf Falls   \n",
       "3  2u6LWpFrDoipclUF01Oaeu  Life Goes On - Hideyuki Hashimoto Rework   \n",
       "4  3yMBkcCZA5dTrqEoz83azz                                  Evenfall   \n",
       "\n",
       "                                 Album Name      Artist Name  Explicit  \\\n",
       "0                                  Santolea    Xaverius Love     False   \n",
       "1                                Your Story   Albin Svensson     False   \n",
       "2                       The Last Leaf Falls      Josh Kramer     False   \n",
       "3  Life Goes On (Hideyuki Hashimoto Rework)  Kevin Imbrechts     False   \n",
       "4                                  Evenfall    Stephen Weber     False   \n",
       "\n",
       "   Duration  Song Popularity  Album Release Year  \n",
       "0    151250               58                2022  \n",
       "1    106013               64                2022  \n",
       "2    125667               51                2022  \n",
       "3    188506               58                2022  \n",
       "4    181786               59                2022  "
      ]
     },
     "execution_count": 6,
     "metadata": {},
     "output_type": "execute_result"
    }
   ],
   "source": [
    "saved.head()\n",
    "last.head()"
   ]
  },
  {
   "cell_type": "code",
   "execution_count": 7,
   "metadata": {},
   "outputs": [],
   "source": [
    "from content_based import ohe\n",
    "\n",
    "o_saved, o_last = ohe(saved=saved, last=last)"
   ]
  },
  {
   "cell_type": "code",
   "execution_count": 8,
   "metadata": {},
   "outputs": [
    {
     "data": {
      "text/html": [
       "<div>\n",
       "<style scoped>\n",
       "    .dataframe tbody tr th:only-of-type {\n",
       "        vertical-align: middle;\n",
       "    }\n",
       "\n",
       "    .dataframe tbody tr th {\n",
       "        vertical-align: top;\n",
       "    }\n",
       "\n",
       "    .dataframe thead th {\n",
       "        text-align: right;\n",
       "    }\n",
       "</style>\n",
       "<table border=\"1\" class=\"dataframe\">\n",
       "  <thead>\n",
       "    <tr style=\"text-align: right;\">\n",
       "      <th></th>\n",
       "      <th>Track ID</th>\n",
       "      <th>Song Name</th>\n",
       "      <th>Album Name</th>\n",
       "      <th>Artist Name</th>\n",
       "      <th>Duration</th>\n",
       "      <th>Song Popularity</th>\n",
       "      <th>Album Release Year</th>\n",
       "      <th>0</th>\n",
       "    </tr>\n",
       "  </thead>\n",
       "  <tbody>\n",
       "    <tr>\n",
       "      <th>0</th>\n",
       "      <td>6X4fTprmm1elJ6LPGXJEsP</td>\n",
       "      <td>Santolea</td>\n",
       "      <td>Santolea</td>\n",
       "      <td>Xaverius Love</td>\n",
       "      <td>151250</td>\n",
       "      <td>58</td>\n",
       "      <td>2022</td>\n",
       "      <td>1.0</td>\n",
       "    </tr>\n",
       "    <tr>\n",
       "      <th>1</th>\n",
       "      <td>5LIsR2QFLqxot9tX9huYwi</td>\n",
       "      <td>From Above</td>\n",
       "      <td>Your Story</td>\n",
       "      <td>Albin Svensson</td>\n",
       "      <td>106013</td>\n",
       "      <td>64</td>\n",
       "      <td>2022</td>\n",
       "      <td>1.0</td>\n",
       "    </tr>\n",
       "    <tr>\n",
       "      <th>2</th>\n",
       "      <td>79v9cKSakZbCRZI0r0QrV7</td>\n",
       "      <td>The Last Leaf Falls</td>\n",
       "      <td>The Last Leaf Falls</td>\n",
       "      <td>Josh Kramer</td>\n",
       "      <td>125667</td>\n",
       "      <td>51</td>\n",
       "      <td>2022</td>\n",
       "      <td>1.0</td>\n",
       "    </tr>\n",
       "    <tr>\n",
       "      <th>3</th>\n",
       "      <td>2u6LWpFrDoipclUF01Oaeu</td>\n",
       "      <td>Life Goes On - Hideyuki Hashimoto Rework</td>\n",
       "      <td>Life Goes On (Hideyuki Hashimoto Rework)</td>\n",
       "      <td>Kevin Imbrechts</td>\n",
       "      <td>188506</td>\n",
       "      <td>58</td>\n",
       "      <td>2022</td>\n",
       "      <td>1.0</td>\n",
       "    </tr>\n",
       "    <tr>\n",
       "      <th>4</th>\n",
       "      <td>3yMBkcCZA5dTrqEoz83azz</td>\n",
       "      <td>Evenfall</td>\n",
       "      <td>Evenfall</td>\n",
       "      <td>Stephen Weber</td>\n",
       "      <td>181786</td>\n",
       "      <td>59</td>\n",
       "      <td>2022</td>\n",
       "      <td>1.0</td>\n",
       "    </tr>\n",
       "  </tbody>\n",
       "</table>\n",
       "</div>"
      ],
      "text/plain": [
       "                 Track ID                                 Song Name  \\\n",
       "0  6X4fTprmm1elJ6LPGXJEsP                                  Santolea   \n",
       "1  5LIsR2QFLqxot9tX9huYwi                                From Above   \n",
       "2  79v9cKSakZbCRZI0r0QrV7                       The Last Leaf Falls   \n",
       "3  2u6LWpFrDoipclUF01Oaeu  Life Goes On - Hideyuki Hashimoto Rework   \n",
       "4  3yMBkcCZA5dTrqEoz83azz                                  Evenfall   \n",
       "\n",
       "                                 Album Name      Artist Name  Duration  \\\n",
       "0                                  Santolea    Xaverius Love    151250   \n",
       "1                                Your Story   Albin Svensson    106013   \n",
       "2                       The Last Leaf Falls      Josh Kramer    125667   \n",
       "3  Life Goes On (Hideyuki Hashimoto Rework)  Kevin Imbrechts    188506   \n",
       "4                                  Evenfall    Stephen Weber    181786   \n",
       "\n",
       "   Song Popularity  Album Release Year    0  \n",
       "0               58                2022  1.0  \n",
       "1               64                2022  1.0  \n",
       "2               51                2022  1.0  \n",
       "3               58                2022  1.0  \n",
       "4               59                2022  1.0  "
      ]
     },
     "execution_count": 8,
     "metadata": {},
     "output_type": "execute_result"
    }
   ],
   "source": [
    "o_last.head()"
   ]
  },
  {
   "cell_type": "code",
   "execution_count": 11,
   "metadata": {},
   "outputs": [],
   "source": [
    "from content_based import encode_year\n",
    "\n",
    "e_saved, e_last = encode_year(saved=saved, last=last)"
   ]
  },
  {
   "cell_type": "code",
   "execution_count": 12,
   "metadata": {},
   "outputs": [
    {
     "data": {
      "text/html": [
       "<div>\n",
       "<style scoped>\n",
       "    .dataframe tbody tr th:only-of-type {\n",
       "        vertical-align: middle;\n",
       "    }\n",
       "\n",
       "    .dataframe tbody tr th {\n",
       "        vertical-align: top;\n",
       "    }\n",
       "\n",
       "    .dataframe thead th {\n",
       "        text-align: right;\n",
       "    }\n",
       "</style>\n",
       "<table border=\"1\" class=\"dataframe\">\n",
       "  <thead>\n",
       "    <tr style=\"text-align: right;\">\n",
       "      <th></th>\n",
       "      <th>Track ID</th>\n",
       "      <th>Song Name</th>\n",
       "      <th>Album Name</th>\n",
       "      <th>Artist Name</th>\n",
       "      <th>Explicit</th>\n",
       "      <th>Duration</th>\n",
       "      <th>Song Popularity</th>\n",
       "      <th>Album Release Year</th>\n",
       "      <th>Year</th>\n",
       "    </tr>\n",
       "  </thead>\n",
       "  <tbody>\n",
       "    <tr>\n",
       "      <th>0</th>\n",
       "      <td>6X4fTprmm1elJ6LPGXJEsP</td>\n",
       "      <td>Santolea</td>\n",
       "      <td>Santolea</td>\n",
       "      <td>Xaverius Love</td>\n",
       "      <td>False</td>\n",
       "      <td>151250</td>\n",
       "      <td>58</td>\n",
       "      <td>2022</td>\n",
       "      <td>25</td>\n",
       "    </tr>\n",
       "    <tr>\n",
       "      <th>1</th>\n",
       "      <td>5LIsR2QFLqxot9tX9huYwi</td>\n",
       "      <td>From Above</td>\n",
       "      <td>Your Story</td>\n",
       "      <td>Albin Svensson</td>\n",
       "      <td>False</td>\n",
       "      <td>106013</td>\n",
       "      <td>64</td>\n",
       "      <td>2022</td>\n",
       "      <td>25</td>\n",
       "    </tr>\n",
       "    <tr>\n",
       "      <th>2</th>\n",
       "      <td>79v9cKSakZbCRZI0r0QrV7</td>\n",
       "      <td>The Last Leaf Falls</td>\n",
       "      <td>The Last Leaf Falls</td>\n",
       "      <td>Josh Kramer</td>\n",
       "      <td>False</td>\n",
       "      <td>125667</td>\n",
       "      <td>51</td>\n",
       "      <td>2022</td>\n",
       "      <td>25</td>\n",
       "    </tr>\n",
       "    <tr>\n",
       "      <th>3</th>\n",
       "      <td>2u6LWpFrDoipclUF01Oaeu</td>\n",
       "      <td>Life Goes On - Hideyuki Hashimoto Rework</td>\n",
       "      <td>Life Goes On (Hideyuki Hashimoto Rework)</td>\n",
       "      <td>Kevin Imbrechts</td>\n",
       "      <td>False</td>\n",
       "      <td>188506</td>\n",
       "      <td>58</td>\n",
       "      <td>2022</td>\n",
       "      <td>25</td>\n",
       "    </tr>\n",
       "    <tr>\n",
       "      <th>4</th>\n",
       "      <td>3yMBkcCZA5dTrqEoz83azz</td>\n",
       "      <td>Evenfall</td>\n",
       "      <td>Evenfall</td>\n",
       "      <td>Stephen Weber</td>\n",
       "      <td>False</td>\n",
       "      <td>181786</td>\n",
       "      <td>59</td>\n",
       "      <td>2022</td>\n",
       "      <td>25</td>\n",
       "    </tr>\n",
       "  </tbody>\n",
       "</table>\n",
       "</div>"
      ],
      "text/plain": [
       "                 Track ID                                 Song Name  \\\n",
       "0  6X4fTprmm1elJ6LPGXJEsP                                  Santolea   \n",
       "1  5LIsR2QFLqxot9tX9huYwi                                From Above   \n",
       "2  79v9cKSakZbCRZI0r0QrV7                       The Last Leaf Falls   \n",
       "3  2u6LWpFrDoipclUF01Oaeu  Life Goes On - Hideyuki Hashimoto Rework   \n",
       "4  3yMBkcCZA5dTrqEoz83azz                                  Evenfall   \n",
       "\n",
       "                                 Album Name      Artist Name  Explicit  \\\n",
       "0                                  Santolea    Xaverius Love     False   \n",
       "1                                Your Story   Albin Svensson     False   \n",
       "2                       The Last Leaf Falls      Josh Kramer     False   \n",
       "3  Life Goes On (Hideyuki Hashimoto Rework)  Kevin Imbrechts     False   \n",
       "4                                  Evenfall    Stephen Weber     False   \n",
       "\n",
       "   Duration  Song Popularity  Album Release Year  Year  \n",
       "0    151250               58                2022    25  \n",
       "1    106013               64                2022    25  \n",
       "2    125667               51                2022    25  \n",
       "3    188506               58                2022    25  \n",
       "4    181786               59                2022    25  "
      ]
     },
     "execution_count": 12,
     "metadata": {},
     "output_type": "execute_result"
    }
   ],
   "source": [
    "e_last.head()"
   ]
  }
 ],
 "metadata": {
  "kernelspec": {
   "display_name": "Python 3.9.12 ('ml')",
   "language": "python",
   "name": "python3"
  },
  "language_info": {
   "codemirror_mode": {
    "name": "ipython",
    "version": 3
   },
   "file_extension": ".py",
   "mimetype": "text/x-python",
   "name": "python",
   "nbconvert_exporter": "python",
   "pygments_lexer": "ipython3",
   "version": "3.9.12"
  },
  "orig_nbformat": 4,
  "vscode": {
   "interpreter": {
    "hash": "8aea640dc1c62d02625c3e511cd7dbed0382493e78ab0e1b7ef900951ab79e92"
   }
  }
 },
 "nbformat": 4,
 "nbformat_minor": 2
}
